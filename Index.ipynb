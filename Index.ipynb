{
 "cells": [
  {
   "cell_type": "markdown",
   "metadata": {},
   "source": [
    "<img align=\"left\" style=\"width: 350px;\" src=\"figures/logo.png\"/>\n",
    "------------------\n",
    "# Bologna Training Course 23 – 27 January 2017\n",
    "\n",
    "# Hydrological and Flood Risk Geo-processing with Open Source (Python/GDAL) \n",
    "<img  align=\"left\" style=\"width: 300px;\" src=\"figures/logo2011.jpg\"/>\n",
    "\n",
    "------------\n",
    "## Stefano Bagli and Paolo Mazzoli - [GECOsistema srl ](www.gecosistema.com)\n",
    "----------------------------------------------------------------------------------------------------------"
   ]
  },
  {
   "cell_type": "markdown",
   "metadata": {},
   "source": [
    "<img style=\"width: 700px;\" src=\"figures/intro_1.png\">"
   ]
  },
  {
   "cell_type": "markdown",
   "metadata": {},
   "source": [
    "# Table of Contents\n",
    "\n",
    "## [0-Purposes and Training-course introduction](0_Geoprocessing_Python_SYSTEM-RISK-ETN_intro.ipynb)\n",
    "\n",
    "## [1-Jupyter Notebook](1_Jupyter_Anaconda.ipynb)\n",
    "\n",
    "## [2-GIS - Introduction](2_GIS_Introduction.ipynb)\n",
    "- Spatial data (vector and raster) and QGIS software basic info\n",
    "\n",
    "## [3- Python for Data Science- Basic Concept](3_Python_intro.ipynb)\n",
    "\n",
    "## [4- Numpy- Basic Concept](4_Numpy_intro.ipynb)\n",
    "\n",
    "## [5- Geoprocessing with Python/GDAL](5_Geoprocessing_Python_GDAL.ipynb)\n",
    "- Short Introduction to Python programming language and libraries of interest for spatial analysis\n",
    "\n",
    "## [6_Flood Hazard_Mapping with_Python_GDAL](6_Hazard_Mapping_Python_GDAL.ipynb)\n",
    "\n",
    "## [7_Risk_Mapping with Python_GDAL](7_Risk_Mapping Python_GDAL.ipynb)\n",
    "- Geoprocessing with open source software and programming languages for Flood Risk Assessment and Mapping\n"
   ]
  }
 ],
 "metadata": {
  "anaconda-cloud": {
   "attach-environment": false,
   "environment": null,
   "summary": "System_Risk_GIS_FloodRisk_Python",
   "url": "https://anaconda.org/gecosistema/tutorial_dem_flooding"
  },
  "kernelspec": {
   "display_name": "Python [conda root]",
   "language": "python",
   "name": "conda-root-py"
  },
  "language_info": {
   "codemirror_mode": {
    "name": "ipython",
    "version": 2
   },
   "file_extension": ".py",
   "mimetype": "text/x-python",
   "name": "python",
   "nbconvert_exporter": "python",
   "pygments_lexer": "ipython2",
   "version": "2.7.12"
  },
  "nbpresent": {
   "slides": {
    "02846c44-38f9-4aef-ab37-8352ebc70511": {
     "id": "02846c44-38f9-4aef-ab37-8352ebc70511",
     "prev": "71b5d3d6-77a7-4745-885f-ffc1420d2665",
     "regions": {
      "e9303037-dc9c-4738-9a7f-ec376dc34ebd": {
       "attrs": {
        "height": 0.8,
        "width": 0.8,
        "x": 0.1,
        "y": 0.1
       },
       "content": {
        "cell": "08ed20e8-3a1e-4bfd-9bcc-194f5ea0b39a",
        "part": "whole"
       },
       "id": "e9303037-dc9c-4738-9a7f-ec376dc34ebd"
      }
     }
    },
    "060cbb0a-6be3-413b-b02d-fb39c6da0328": {
     "id": "060cbb0a-6be3-413b-b02d-fb39c6da0328",
     "prev": "5baef3ad-9342-45cb-be10-e49f5003c9d7",
     "regions": {
      "1b8534db-67d4-4e24-b3f8-4383a60de997": {
       "attrs": {
        "height": 0.8,
        "width": 0.8,
        "x": 0.1,
        "y": 0.1
       },
       "content": {
        "cell": "f81f9570-d4c4-4e2f-8a57-3881a4881b69",
        "part": "whole"
       },
       "id": "1b8534db-67d4-4e24-b3f8-4383a60de997"
      }
     }
    },
    "129f00a1-0146-4c50-8667-b07c5b2d0eeb": {
     "id": "129f00a1-0146-4c50-8667-b07c5b2d0eeb",
     "prev": "614538c9-99cd-42b3-b2c7-4e1ab0d4e7ce",
     "regions": {
      "ea63d8f6-c8ed-4b98-8c70-371f43ec89d9": {
       "attrs": {
        "height": 0.8,
        "width": 0.8,
        "x": 0.1,
        "y": 0.1
       },
       "content": {
        "cell": "dda7b0e7-4c44-4482-b791-23e93bedc4e8",
        "part": "whole"
       },
       "id": "ea63d8f6-c8ed-4b98-8c70-371f43ec89d9"
      }
     }
    },
    "24f3d903-07b4-46ad-8605-a30cc72864e8": {
     "id": "24f3d903-07b4-46ad-8605-a30cc72864e8",
     "prev": "389b4d70-b739-4d1a-8523-020ec1e069fd",
     "regions": {
      "93aaa554-dacc-471c-bbe8-b4aaac1e9872": {
       "attrs": {
        "height": 0.8,
        "width": 0.8,
        "x": 0.1,
        "y": 0.1
       },
       "content": {
        "cell": "a7945d9e-1ec9-49ad-97ea-03775d0db6ee",
        "part": "whole"
       },
       "id": "93aaa554-dacc-471c-bbe8-b4aaac1e9872"
      }
     }
    },
    "37b2a110-105d-4f03-8287-7b63a4923211": {
     "id": "37b2a110-105d-4f03-8287-7b63a4923211",
     "prev": "72a469c8-a471-4290-88de-7df3b22d42b0",
     "regions": {
      "a515c1f8-f153-41b5-8716-f22bf5005736": {
       "attrs": {
        "height": 0.8,
        "width": 0.8,
        "x": 0.1,
        "y": 0.1
       },
       "content": {
        "cell": "bbff907a-fe14-488d-b817-7818d01c8fed",
        "part": "whole"
       },
       "id": "a515c1f8-f153-41b5-8716-f22bf5005736"
      }
     }
    },
    "389b4d70-b739-4d1a-8523-020ec1e069fd": {
     "id": "389b4d70-b739-4d1a-8523-020ec1e069fd",
     "prev": "f3ed960f-5e66-4af9-b6db-7185e26ca908",
     "regions": {
      "aa3c9f93-5315-4267-a6d8-09e0ad39f5fc": {
       "attrs": {
        "height": 0.8,
        "width": 0.8,
        "x": 0.1,
        "y": 0.1
       },
       "content": {
        "cell": "2134dfb5-7454-4a64-8403-776934ebc23c",
        "part": "whole"
       },
       "id": "aa3c9f93-5315-4267-a6d8-09e0ad39f5fc"
      }
     }
    },
    "3d7f49bd-2657-4c4f-96db-4cda796a8940": {
     "id": "3d7f49bd-2657-4c4f-96db-4cda796a8940",
     "prev": "d28c9aad-45cd-4227-87ba-c966f9f7f892",
     "regions": {
      "f3c0d25c-5cda-43c3-b303-283279bd5d97": {
       "attrs": {
        "height": 0.8,
        "width": 0.8,
        "x": 0.1,
        "y": 0.1
       },
       "content": {
        "cell": "af6bdd26-055a-4f38-974c-90f6412bffdd",
        "part": "whole"
       },
       "id": "f3c0d25c-5cda-43c3-b303-283279bd5d97"
      }
     }
    },
    "5baef3ad-9342-45cb-be10-e49f5003c9d7": {
     "id": "5baef3ad-9342-45cb-be10-e49f5003c9d7",
     "prev": "e2b96bf4-ca5e-4cab-9f6c-88e974a66483",
     "regions": {
      "358e9f2a-97d5-4bbb-a5b0-b3fd0f714f62": {
       "attrs": {
        "height": 0.8,
        "width": 0.8,
        "x": 0.1,
        "y": 0.1
       },
       "content": {
        "cell": "ba961c1e-399a-4ff4-ab93-edb98666e243",
        "part": "whole"
       },
       "id": "358e9f2a-97d5-4bbb-a5b0-b3fd0f714f62"
      }
     }
    },
    "614538c9-99cd-42b3-b2c7-4e1ab0d4e7ce": {
     "id": "614538c9-99cd-42b3-b2c7-4e1ab0d4e7ce",
     "prev": "060cbb0a-6be3-413b-b02d-fb39c6da0328",
     "regions": {
      "10376570-99ad-47b9-910e-39f06583aa56": {
       "attrs": {
        "height": 0.8,
        "width": 0.8,
        "x": 0.1,
        "y": 0.1
       },
       "content": {
        "cell": "45e1366d-17c9-4927-bd4e-dc10b1085f44",
        "part": "whole"
       },
       "id": "10376570-99ad-47b9-910e-39f06583aa56"
      }
     }
    },
    "6203f2ae-d39f-423c-9237-df931af8bbca": {
     "id": "6203f2ae-d39f-423c-9237-df931af8bbca",
     "prev": "02846c44-38f9-4aef-ab37-8352ebc70511",
     "regions": {
      "91ccc09e-a852-4640-aa24-4e5c46f70ca3": {
       "attrs": {
        "height": 0.8,
        "width": 0.8,
        "x": 0.1,
        "y": 0.1
       },
       "content": {
        "cell": "eedc1df0-6c2e-428b-b1d6-f44bc0b0915c",
        "part": "whole"
       },
       "id": "91ccc09e-a852-4640-aa24-4e5c46f70ca3"
      }
     }
    },
    "71b5d3d6-77a7-4745-885f-ffc1420d2665": {
     "id": "71b5d3d6-77a7-4745-885f-ffc1420d2665",
     "prev": "af5e62de-6c34-4373-80ad-3d8691e42601",
     "regions": {
      "a73abf97-80cb-4861-8764-6813e587fa8d": {
       "attrs": {
        "height": 0.8,
        "width": 0.8,
        "x": 0.1,
        "y": 0.1
       },
       "content": {
        "cell": "32c9d0a9-ede4-40c3-b476-cac60d4c74ea",
        "part": "whole"
       },
       "id": "a73abf97-80cb-4861-8764-6813e587fa8d"
      }
     }
    },
    "72a469c8-a471-4290-88de-7df3b22d42b0": {
     "id": "72a469c8-a471-4290-88de-7df3b22d42b0",
     "prev": "6203f2ae-d39f-423c-9237-df931af8bbca",
     "regions": {
      "949cad9e-c468-4c9a-8d68-d633306c8f1a": {
       "attrs": {
        "height": 0.8,
        "width": 0.8,
        "x": 0.1,
        "y": 0.1
       },
       "content": {
        "cell": "ed7bdc7b-69ca-4774-b611-3248d21207f8",
        "part": "whole"
       },
       "id": "949cad9e-c468-4c9a-8d68-d633306c8f1a"
      }
     }
    },
    "7c2d2c6f-bd5a-4e85-911c-d1d708d28996": {
     "id": "7c2d2c6f-bd5a-4e85-911c-d1d708d28996",
     "prev": "3d7f49bd-2657-4c4f-96db-4cda796a8940",
     "regions": {
      "6e8b1ba0-4060-405e-a381-8f92630b8994": {
       "attrs": {
        "height": 0.8,
        "width": 0.8,
        "x": 0.1,
        "y": 0.1
       },
       "content": {
        "cell": "94a55052-1f09-4653-8d97-13691f89a5af",
        "part": "whole"
       },
       "id": "6e8b1ba0-4060-405e-a381-8f92630b8994"
      }
     }
    },
    "7d30fcfb-383a-4847-bd2a-52ed6304014e": {
     "id": "7d30fcfb-383a-4847-bd2a-52ed6304014e",
     "prev": "e24ad135-a3f7-46fe-b7fc-409bb89883e0",
     "regions": {
      "df410d6a-f9b1-4fef-8c22-8966240692a9": {
       "attrs": {
        "height": 0.8,
        "width": 0.8,
        "x": 0.1,
        "y": 0.1
       },
       "content": {
        "cell": "0c3e6324-872f-47b3-8a71-d6d69b35cbd7",
        "part": "whole"
       },
       "id": "df410d6a-f9b1-4fef-8c22-8966240692a9"
      }
     }
    },
    "85b24560-6b9a-4f3c-81bd-74b4f32df13a": {
     "id": "85b24560-6b9a-4f3c-81bd-74b4f32df13a",
     "prev": "eca5a0f2-9008-4092-bdd9-3191d5576458",
     "regions": {
      "d641820e-299e-4262-bb88-51e3036a823f": {
       "attrs": {
        "height": 0.8,
        "width": 0.8,
        "x": 0.1,
        "y": 0.1
       },
       "content": {
        "cell": "95869fba-1118-41e7-96a2-991e5c5a756a",
        "part": "whole"
       },
       "id": "d641820e-299e-4262-bb88-51e3036a823f"
      }
     }
    },
    "869d44bd-c99d-41f4-a284-d6ad6c3bbe4e": {
     "id": "869d44bd-c99d-41f4-a284-d6ad6c3bbe4e",
     "prev": "e9b66c21-dd23-48c2-9a3f-33fe494cefec",
     "regions": {
      "e55c411f-cb42-4dea-a485-50f361151b48": {
       "attrs": {
        "height": 0.8,
        "width": 0.8,
        "x": 0.1,
        "y": 0.1
       },
       "content": {
        "cell": "db87eb7a-bcfb-4f47-b2a7-31fec2ab8b7c",
        "part": "whole"
       },
       "id": "e55c411f-cb42-4dea-a485-50f361151b48"
      }
     }
    },
    "86ee40b8-3a7c-44d5-bdc8-6b4ab40da55b": {
     "id": "86ee40b8-3a7c-44d5-bdc8-6b4ab40da55b",
     "prev": "8920fe11-3ca1-47a5-abd4-02c2f5c6edd5",
     "regions": {
      "f95b9e1f-fc6e-4fc4-8861-777955515c41": {
       "attrs": {
        "height": 0.8,
        "width": 0.8,
        "x": 0.1,
        "y": 0.1
       },
       "content": {
        "cell": "f8957239-9b2b-417a-bb07-b8751138d10b",
        "part": "whole"
       },
       "id": "f95b9e1f-fc6e-4fc4-8861-777955515c41"
      }
     }
    },
    "8920fe11-3ca1-47a5-abd4-02c2f5c6edd5": {
     "id": "8920fe11-3ca1-47a5-abd4-02c2f5c6edd5",
     "prev": "869d44bd-c99d-41f4-a284-d6ad6c3bbe4e",
     "regions": {
      "07fa0bcb-52cf-4521-bfad-92fcdc5b7b90": {
       "attrs": {
        "height": 0.8,
        "width": 0.8,
        "x": 0.1,
        "y": 0.1
       },
       "content": {
        "cell": "51a0feff-4025-48e4-a45c-9c9b3a30da9c",
        "part": "whole"
       },
       "id": "07fa0bcb-52cf-4521-bfad-92fcdc5b7b90"
      }
     }
    },
    "af5e62de-6c34-4373-80ad-3d8691e42601": {
     "id": "af5e62de-6c34-4373-80ad-3d8691e42601",
     "prev": "7d30fcfb-383a-4847-bd2a-52ed6304014e",
     "regions": {
      "92e73601-62ca-468b-83f8-96fbc6505136": {
       "attrs": {
        "height": 0.8,
        "width": 0.8,
        "x": 0.1,
        "y": 0.1
       },
       "content": {
        "cell": "a1de97fa-11cc-45a5-8b48-0c26135390c2",
        "part": "whole"
       },
       "id": "92e73601-62ca-468b-83f8-96fbc6505136"
      }
     }
    },
    "b710730a-bcb2-40ce-b7a7-c0c89d3f3570": {
     "id": "b710730a-bcb2-40ce-b7a7-c0c89d3f3570",
     "prev": "7c2d2c6f-bd5a-4e85-911c-d1d708d28996",
     "regions": {
      "f28cfeef-dac1-40aa-a5ae-f80e3e06c1c2": {
       "attrs": {
        "height": 0.8,
        "width": 0.8,
        "x": 0.1,
        "y": 0.1
       },
       "content": {
        "cell": "e83c912e-aa12-49d4-ab61-acef128249f3",
        "part": "whole"
       },
       "id": "f28cfeef-dac1-40aa-a5ae-f80e3e06c1c2"
      }
     }
    },
    "b9811710-7832-41cf-a160-0cda733e8fe0": {
     "id": "b9811710-7832-41cf-a160-0cda733e8fe0",
     "prev": "86ee40b8-3a7c-44d5-bdc8-6b4ab40da55b",
     "regions": {
      "9846698b-693e-4e66-bc97-169dc99dac83": {
       "attrs": {
        "height": 0.8,
        "width": 0.8,
        "x": 0.1,
        "y": 0.1
       },
       "content": {
        "cell": "e84ec698-bb2f-455b-9a68-31dd3af64a3f",
        "part": "whole"
       },
       "id": "9846698b-693e-4e66-bc97-169dc99dac83"
      }
     }
    },
    "d28c9aad-45cd-4227-87ba-c966f9f7f892": {
     "id": "d28c9aad-45cd-4227-87ba-c966f9f7f892",
     "prev": "129f00a1-0146-4c50-8667-b07c5b2d0eeb",
     "regions": {
      "9d9dcd59-8531-475f-ba42-74cf48f9d3be": {
       "attrs": {
        "height": 0.8,
        "width": 0.8,
        "x": 0.1,
        "y": 0.1
       },
       "content": {
        "cell": "dd1fec34-ffa6-474c-9213-5adb5f106fb5",
        "part": "whole"
       },
       "id": "9d9dcd59-8531-475f-ba42-74cf48f9d3be"
      }
     }
    },
    "dc9683a6-86af-45cc-a2da-0e448e83c976": {
     "id": "dc9683a6-86af-45cc-a2da-0e448e83c976",
     "prev": "37b2a110-105d-4f03-8287-7b63a4923211",
     "regions": {
      "d36030ad-089f-46a2-8129-fd09da697617": {
       "attrs": {
        "height": 0.8,
        "width": 0.8,
        "x": 0.1,
        "y": 0.1
       },
       "content": {
        "cell": "308d21f1-0db4-46f3-b60a-923940edcb0b",
        "part": "whole"
       },
       "id": "d36030ad-089f-46a2-8129-fd09da697617"
      }
     }
    },
    "e24ad135-a3f7-46fe-b7fc-409bb89883e0": {
     "id": "e24ad135-a3f7-46fe-b7fc-409bb89883e0",
     "prev": "b710730a-bcb2-40ce-b7a7-c0c89d3f3570",
     "regions": {
      "d2e48674-006e-426e-b88e-34bc617cd4dc": {
       "attrs": {
        "height": 0.8,
        "width": 0.8,
        "x": 0.1,
        "y": 0.1
       },
       "content": {
        "cell": "3c915b92-276e-4181-a34e-08d6bce4dc6c",
        "part": "whole"
       },
       "id": "d2e48674-006e-426e-b88e-34bc617cd4dc"
      }
     }
    },
    "e2b96bf4-ca5e-4cab-9f6c-88e974a66483": {
     "id": "e2b96bf4-ca5e-4cab-9f6c-88e974a66483",
     "prev": "85b24560-6b9a-4f3c-81bd-74b4f32df13a",
     "regions": {
      "99d3efa5-59fb-4200-bbe7-372e66c756e0": {
       "attrs": {
        "height": 0.8,
        "width": 0.8,
        "x": 0.1,
        "y": 0.1
       },
       "content": {
        "cell": "e46f114f-b44b-4413-a2fc-f7d2ee494bb9",
        "part": "whole"
       },
       "id": "99d3efa5-59fb-4200-bbe7-372e66c756e0"
      }
     }
    },
    "e9b66c21-dd23-48c2-9a3f-33fe494cefec": {
     "id": "e9b66c21-dd23-48c2-9a3f-33fe494cefec",
     "prev": "24f3d903-07b4-46ad-8605-a30cc72864e8",
     "regions": {
      "ca42ff51-ab1f-4b25-9580-71ba5279d373": {
       "attrs": {
        "height": 0.8,
        "width": 0.8,
        "x": 0.1,
        "y": 0.1
       },
       "content": {
        "cell": "0985c53d-b3ee-4788-bab3-f6ae5da14e1a",
        "part": "whole"
       },
       "id": "ca42ff51-ab1f-4b25-9580-71ba5279d373"
      }
     }
    },
    "eca5a0f2-9008-4092-bdd9-3191d5576458": {
     "id": "eca5a0f2-9008-4092-bdd9-3191d5576458",
     "layout": "treemap",
     "prev": null,
     "regions": {
      "74d9e509-ac55-48e6-9c15-08c2d22b2cf8": {
       "attrs": {
        "height": 1,
        "pad": 0.01,
        "treemap:weight": 1,
        "width": 1,
        "x": 0,
        "y": 0
       },
       "content": {
        "cell": "71b9274c-7e14-4f96-a5b6-c5c2ab107d00",
        "part": "whole"
       },
       "id": "74d9e509-ac55-48e6-9c15-08c2d22b2cf8"
      }
     }
    },
    "f3ed960f-5e66-4af9-b6db-7185e26ca908": {
     "id": "f3ed960f-5e66-4af9-b6db-7185e26ca908",
     "prev": "dc9683a6-86af-45cc-a2da-0e448e83c976",
     "regions": {
      "99f485b1-3bc8-4ef2-b047-0894efda0c2f": {
       "attrs": {
        "height": 0.8,
        "width": 0.8,
        "x": 0.1,
        "y": 0.1
       },
       "content": {
        "cell": "13806d54-af83-46e7-9fa6-cd4df7537017",
        "part": "whole"
       },
       "id": "99f485b1-3bc8-4ef2-b047-0894efda0c2f"
      }
     }
    }
   },
   "themes": {
    "default": "1f3a7524-b862-4068-ad65-291ca58720ab",
    "theme": {}
   }
  }
 },
 "nbformat": 4,
 "nbformat_minor": 1
}
