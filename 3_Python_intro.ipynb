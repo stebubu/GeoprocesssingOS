{
 "cells": [
  {
   "cell_type": "markdown",
   "metadata": {},
   "source": [
    "<!--NAVIGATION-->\n",
    "< [3_Python_Intro](4_Python_intro.ipynb) | [Contents](Index.ipynb) | [4-Numpy - Intro](4_Numpy_intro.ipynb) >"
   ]
  },
  {
   "cell_type": "markdown",
   "metadata": {},
   "source": [
    "<img align=\"left\" style=\"width: 350px;\" src=\"figures/logo.png\"/>\n",
    "----------------------------------------------------------------------------------------------------------------------\n",
    "# Bologna Training Course 23 – 27 January 2017\n",
    "\n",
    "# Hydrological and Flood Risk Geo-processing with Open Source (Python/GDAL) \n",
    "<img  align=\"left\" style=\"width: 300px;\" src=\"figures/logo2011.jpg\"/>\n",
    "\n",
    "----------------------------------------------------------------------------------------------------------------------\n",
    "## Stefano Bagli and Paolo Mazzoli - [GECOsistema srl ](www.gecosistema.com)\n",
    "----------------------------------------------------------------------------------------------------------------------"
   ]
  },
  {
   "cell_type": "markdown",
   "metadata": {},
   "source": [
    "# 3 Python for Data Science- Basic Concept\n",
    "\n",
    "\n",
    "## 3.1 Why Coding?\n",
    "**Several compelling reasons exist for using Python and open source tools for processing spatial data.**\n",
    "- Got tired to use QGIS interface?\n",
    "    - I hate pushing buttons and doing the same thing over and over\n",
    "- Customize your analysis instead of being limited to what the software user interface allows\n",
    "- Need to iterate or repeat geospatial processing?\n",
    "- Do you need to embed geoprocessing operations in your code?\n",
    "- you always know exactly what you did, as long as you don’t lose your script, because everything is right there\n",
    "\n",
    "\n",
    "## 3.2 Why Python?\n",
    "\n",
    "Python is the programming language of choice for many scientists to a large degree because it offers a great deal of power to analyze and model scientific data with relatively little overhead in terms of learning, installation or development time. It is a language you can pick up in a weekend, and use for the rest of one's life.\n",
    "\n",
    "- It's easy to learn, easy to read and fast to develop¶\n",
    "    - It is considered to be the language of choice for beginners, and proper code formatting is in the design of the language. This is especially useful when you remember, that we are the scientist not programmers. What we need is to have a language that can be learned quickly, but at the same time is powerful enough to satisfy our needs.\n",
    "\n",
    "- It's an interpreted language\n",
    "    - interpreters exist for any operating system you’re likely to use, so programs written in Python will run on any computer with an interpreter, and interpreters exist for any operating system you’re likely to use. \n",
    "Another advantage of interpreted languages is that you can use them interactively. This is great for playing around and learning a language, because you can type a line of code and see the results instantly.\n",
    "\n",
    "- It's free and opensource.¶\n",
    "    - You will be able to use your scripts even if your institute does not have enough money to buy expensive software (MATLAB or IDL). You can make changes in the code, or at least have the possibility to look at the source code if you suspect that there is a bug.\n",
    "\n",
    "- It's multiplatform¶\n",
    "    - You can find it on many systems, so you are not tide to Windows, Mac or Linux. It sounds great, but not always the case, some modules will work only on limited number of operating systems (e.g. PyNGL, pyFerret).\n",
    "\n",
    "- It's general purpose language¶\n",
    "    - You can use it not only for data processing and visualization, but also for system administration, web development, database programming and so on. It is relatively easy to make your code run in the parallel mode. Last but not the least - if you ever decide to leave academia your chances on the market are much better with some python skills.\n",
    "\n",
    "- Another advantage to going with open source tools is that active user communities exist for some of these packages, and you may find that bugs and other issues are addressed much more quickly than with many proprietary software packages.\n",
    "\n",
    "\n",
    "### Downsides:\n",
    "\n",
    "- There is a smaller legacy code base¶\n",
    "FORTRAN and Matlab are used for decades, and have a lot of libraries for all kinds of scientific needs. Although now main functionality is covered by python modules, there are still many specific areas where no python solution is available. This problem can be partly solved by python's integration with other languages (MLabWrap, F2py).\n",
    "\n",
    "- It's slow¶\n",
    "... if you don't use vectorization or Cython when loops are inevitable. Critical parts still can be written in FORTRAN or C.\n",
    "\n",
    "\n",
    "### The Zen of Python"
   ]
  },
  {
   "cell_type": "code",
   "execution_count": null,
   "metadata": {
    "collapsed": true
   },
   "outputs": [],
   "source": [
    "import this"
   ]
  },
  {
   "cell_type": "markdown",
   "metadata": {},
   "source": [
    "## 3.3 More reading on this topic:\n",
    "\n",
    "List of Python libraries\n",
    "http://awesome-python.com\n",
    " \n",
    "10 Reasons Python Rocks for Research (And a Few Reasons it Doesn’t)\n",
    "http://www.stat.washington.edu/~hoytak/blog/whypython.html\n",
    "\n",
    "I used Matlab. Now I use Python\n",
    "http://stevetjoa.com/305/\n",
    "\n",
    "Eight Advantages of Python Over Matlab\n",
    "http://phillipmfeldman.org/Python/Advantages_of_Python_Over_Matlab.html\n",
    "\n",
    "Lectures on Scientific Computing with Python.\n",
    "https://github.com/jrjohansson/scientific-python-lectures#online-read-only-versions\n",
    "\n",
    "Earthpy\n",
    "http://earthpy.org/category/data-processing.html"
   ]
  },
  {
   "cell_type": "markdown",
   "metadata": {},
   "source": [
    "\n",
    "<a href=\"http://www.youtube.com/watch?feature=player_embedded&v=1I2Bz0qbMsc\n",
    "\" target=\"_blank\"><img src=\"http://img.youtube.com/vi/1I2Bz0qbMsc/0.jpg\" \n",
    "alt=\"IMAGE ALT TEXT HERE\" width=\"240\" height=\"180\" border=\"10\" /></a>\n",
    "\n",
    "\n",
    "## 3.4  writing and executing code\n",
    "Advantage of interpreted languages is that you can use them interactively. This is great for playing around and learning a language, because you can type a line of code and see the results instantly.\n",
    "\n",
    "You can run the Python interpreter in a terminal window, but it’s probably easier to use IDLE, which is a simple development environment installed with Python. \n",
    "Two different types of windows exist in IDLE, shells and edit windows. \n",
    "A shell is an interactive window in which you can type Python code and get immediate results.\n",
    "For example in the ANACONDA suite is available the SPYDER python IDLE\n",
    "\n",
    "<img   style=\"width: 700px;\" src=\"figures/spyder.png\"/>\n",
    "\n",
    "Many editors are easy to configure, so you can run a Python script directly without leaving the editor. See the documentation for your favorite editor to learn how to do this. Packages that are designed specifically for working with Python code are Spyder, PyCharm, Wing IDE, and PyScripter. \n",
    "\n",
    "## 3.5 Basic structure of a script\n",
    "\n",
    "- first lines usually import modules/libraries\n",
    "- new line using whitespace/enter\n",
    "- Python uses indentation to define blocks of code\n",
    "- Python is also case sensitive, which means that uppercase and lowercase letters are different from one another\n",
    "- '# This is a comment'"
   ]
  },
  {
   "cell_type": "markdown",
   "metadata": {},
   "source": [
    "## 3.6 Let's Start\n",
    "The first programming command demonstrated when you are learning a programming language is usually to make the computer print 'Hello World!'. In Python, doing this is pretty simple:"
   ]
  },
  {
   "cell_type": "code",
   "execution_count": 1,
   "metadata": {
    "collapsed": false
   },
   "outputs": [
    {
     "name": "stdout",
     "output_type": "stream",
     "text": [
      "Hello World!\n"
     ]
    }
   ],
   "source": [
    "print('Hello World!')"
   ]
  },
  {
   "cell_type": "code",
   "execution_count": null,
   "metadata": {
    "collapsed": true
   },
   "outputs": [],
   "source": [
    "# this is a comment. the python interpreter ignores it.\n",
    "# comments are just notes for humans to read to help understand the code\n",
    "# best practice: add a comment for every couple lines of code to explain what's going on and why\n",
    "# you'd be amazed at how quickly you forget your code's logic"
   ]
  },
  {
   "cell_type": "code",
   "execution_count": 163,
   "metadata": {
    "collapsed": false
   },
   "outputs": [
    {
     "data": {
      "text/plain": [
       "1.0317345582503639"
      ]
     },
     "execution_count": 163,
     "metadata": {},
     "output_type": "execute_result"
    }
   ],
   "source": [
    "import random\n",
    "random.gauss(0, 1)"
   ]
  },
  {
   "cell_type": "markdown",
   "metadata": {},
   "source": [
    "## 4.3 Variables\n",
    "A name that is used to denote something or a value is called a variable. \n",
    "In python, variables can be declared and values can be assigned to it as follows,"
   ]
  },
  {
   "cell_type": "code",
   "execution_count": 164,
   "metadata": {
    "collapsed": true
   },
   "outputs": [],
   "source": [
    "x = 2\n",
    "y = 5\n",
    "xy = 'Hey'"
   ]
  },
  {
   "cell_type": "code",
   "execution_count": null,
   "metadata": {
    "collapsed": true
   },
   "outputs": [],
   "source": [
    "# variables, such as x here, contain values and their values can vary\n",
    "x = 5"
   ]
  },
  {
   "cell_type": "code",
   "execution_count": null,
   "metadata": {
    "collapsed": true
   },
   "outputs": [],
   "source": [
    "# what is the value of x?\n",
    "x"
   ]
  },
  {
   "cell_type": "code",
   "execution_count": null,
   "metadata": {
    "collapsed": true
   },
   "outputs": [],
   "source": [
    "# you can perform operations on variables, just like you can on two numbers\n",
    "x + 3"
   ]
  },
  {
   "cell_type": "code",
   "execution_count": null,
   "metadata": {
    "collapsed": true
   },
   "outputs": [],
   "source": [
    "# to update the value of a variable, you need to do an assignment again\n",
    "x = x + 3"
   ]
  },
  {
   "cell_type": "code",
   "execution_count": null,
   "metadata": {
    "collapsed": true
   },
   "outputs": [],
   "source": [
    "# use print to write some value to the console\n",
    "print(x)\n",
    "print(y)"
   ]
  },
  {
   "cell_type": "markdown",
   "metadata": {},
   "source": [
    "Python is a dynamically typed language, which means that variable types aren’t checked until runtime, and you can even change the data type stored in a variable.\n",
    "\n",
    "Notice that you use a single equal sign to assign a value to a variable. To test for equality, always use a double equal sign."
   ]
  },
  {
   "cell_type": "code",
   "execution_count": null,
   "metadata": {
    "collapsed": true
   },
   "outputs": [],
   "source": [
    "n = 10"
   ]
  },
  {
   "cell_type": "code",
   "execution_count": 165,
   "metadata": {
    "collapsed": false
   },
   "outputs": [
    {
     "data": {
      "text/plain": [
       "True"
      ]
     },
     "execution_count": 165,
     "metadata": {},
     "output_type": "execute_result"
    }
   ],
   "source": [
    "n == 10"
   ]
  },
  {
   "cell_type": "markdown",
   "metadata": {},
   "source": [
    "## 4.4 Data Types\n",
    "Data in Python is interpreted as having a type. In low-level, compiled languages like C or C++, the programmer has to explicitly declare the type of each variable before actually using it. In Python, the type is inferred at run time, and you can always ask Python what the type of an object is:\n"
   ]
  },
  {
   "cell_type": "code",
   "execution_count": null,
   "metadata": {
    "collapsed": true
   },
   "outputs": [],
   "source": [
    "# integers are whole numbers\n",
    "type(125)"
   ]
  },
  {
   "cell_type": "code",
   "execution_count": null,
   "metadata": {
    "collapsed": true
   },
   "outputs": [],
   "source": [
    "# every variable has a data type, and they can be of any type\n",
    "x = 125\n",
    "type(x)"
   ]
  },
  {
   "cell_type": "code",
   "execution_count": null,
   "metadata": {
    "collapsed": true
   },
   "outputs": [],
   "source": [
    "# float is a floating point (aka decimal) number\n",
    "some_rate = 4.3\n",
    "type(some_rate)"
   ]
  },
  {
   "cell_type": "code",
   "execution_count": null,
   "metadata": {
    "collapsed": true
   },
   "outputs": [],
   "source": [
    "# strings are strings of characters\n",
    "s = 'abc'\n",
    "type(s)"
   ]
  },
  {
   "cell_type": "markdown",
   "metadata": {},
   "source": [
    "### Booleans"
   ]
  },
  {
   "cell_type": "code",
   "execution_count": 166,
   "metadata": {
    "collapsed": false
   },
   "outputs": [
    {
     "data": {
      "text/plain": [
       "True"
      ]
     },
     "execution_count": 166,
     "metadata": {},
     "output_type": "execute_result"
    }
   ],
   "source": [
    "True or False"
   ]
  },
  {
   "cell_type": "markdown",
   "metadata": {},
   "source": [
    "### Numeric Type and Aritmetic Operators -Python as Calculator\n",
    "\n",
    "| Symbol | Task Performed |\n",
    "|----|---|\n",
    "| +  | Addition |\n",
    "| -  | Subtraction |\n",
    "| /  | division |\n",
    "| %  | mod |\n",
    "| *  | multiplication |\n",
    "| //  | floor division |\n",
    "| **  | to the power of |"
   ]
  },
  {
   "cell_type": "code",
   "execution_count": null,
   "metadata": {
    "collapsed": true
   },
   "outputs": [],
   "source": [
    "print 1+2"
   ]
  },
  {
   "cell_type": "code",
   "execution_count": null,
   "metadata": {
    "collapsed": true
   },
   "outputs": [],
   "source": [
    "print 3-2"
   ]
  },
  {
   "cell_type": "code",
   "execution_count": 167,
   "metadata": {
    "collapsed": false
   },
   "outputs": [
    {
     "name": "stdout",
     "output_type": "stream",
     "text": [
      "3\n",
      "1\n",
      "0\n"
     ]
    }
   ],
   "source": [
    "print 1/2"
   ]
  },
  {
   "cell_type": "code",
   "execution_count": null,
   "metadata": {
    "collapsed": true
   },
   "outputs": [],
   "source": [
    "x=4"
   ]
  },
  {
   "cell_type": "code",
   "execution_count": 3,
   "metadata": {
    "collapsed": false
   },
   "outputs": [
    {
     "name": "stdout",
     "output_type": "stream",
     "text": [
      "5\n"
     ]
    }
   ],
   "source": [
    "x+=1 # unitary increment the variable x\n",
    "print x"
   ]
  },
  {
   "cell_type": "code",
   "execution_count": 168,
   "metadata": {
    "collapsed": false
   },
   "outputs": [
    {
     "data": {
      "text/plain": [
       "0.5"
      ]
     },
     "execution_count": 168,
     "metadata": {},
     "output_type": "execute_result"
    }
   ],
   "source": [
    "1/2.0"
   ]
  },
  {
   "cell_type": "code",
   "execution_count": 45,
   "metadata": {
    "collapsed": true
   },
   "outputs": [],
   "source": [
    "import math"
   ]
  },
  {
   "cell_type": "code",
   "execution_count": 46,
   "metadata": {
    "collapsed": false
   },
   "outputs": [
    {
     "data": {
      "text/plain": [
       "1.7320508075688772"
      ]
     },
     "execution_count": 46,
     "metadata": {},
     "output_type": "execute_result"
    }
   ],
   "source": [
    "n=3\n",
    "math.sqrt(n)"
   ]
  },
  {
   "cell_type": "markdown",
   "metadata": {},
   "source": [
    "| Symbol | Task Performed |\n",
    "|----|---|\n",
    "| == | True, if it is equal |\n",
    "| !=  | True, if not equal to |\n",
    "| < | less than |\n",
    "| > | greater than |\n",
    "| <=  | less than or equal to |\n",
    "| >=  | greater than or equal to |\n",
    "\n",
    "| Symbol | Task Performed |\n",
    "|----|---|\n",
    "| &  | Logical And |\n",
    "| l  | Logical OR |\n",
    "| ^  | XOR |\n",
    "| ~  | Negate |\n",
    "| >>  | Right shift |\n",
    "| <<  | Left shift |"
   ]
  },
  {
   "cell_type": "markdown",
   "metadata": {},
   "source": [
    "### Strings and Print command\n",
    "The **print** statement can be used in the following different ways :\n",
    "\n",
    "    - print \"Hello World\"\n",
    "    - print \"Hello\", <Variable Containing the String>\n",
    "    - print \"Hello\" + <Variable Containing the String>\n",
    "    - print \"Hello %s\" % <variable containing the string>"
   ]
  },
  {
   "cell_type": "code",
   "execution_count": null,
   "metadata": {
    "collapsed": true
   },
   "outputs": [],
   "source": [
    "print \"Hello World\"\n",
    "print 'Hey'"
   ]
  },
  {
   "cell_type": "code",
   "execution_count": null,
   "metadata": {
    "collapsed": true
   },
   "outputs": [],
   "source": [
    "string1 = 'World'\n",
    "print 'Hello', string1"
   ]
  },
  {
   "cell_type": "code",
   "execution_count": 169,
   "metadata": {
    "collapsed": false
   },
   "outputs": [
    {
     "name": "stdout",
     "output_type": "stream",
     "text": [
      "Hello World\n",
      "Hey\n",
      "Hello World\n",
      "Hello World !\n",
      "HelloWorld!\n"
     ]
    }
   ],
   "source": [
    "string2 = '!'\n",
    "print 'Hello', string1, string2\n",
    "print 'Hello' + string1 + string2"
   ]
  },
  {
   "cell_type": "markdown",
   "metadata": {},
   "source": [
    "Similarly, when using other data types\n",
    "\n",
    "    - %s -> string\n",
    "    - %d -> Integer\n",
    "    - %f -> Float\n",
    "    - %o -> Octal\n",
    "    - %x -> Hexadecimal\n",
    "    - %e -> exponential\n",
    "    \n",
    "This can be used for conversions inside the print statement itself."
   ]
  },
  {
   "cell_type": "code",
   "execution_count": 170,
   "metadata": {
    "collapsed": false
   },
   "outputs": [
    {
     "name": "stdout",
     "output_type": "stream",
     "text": [
      "Actual Number = 18\n",
      "Float of the number = 18.000000\n",
      "Octal equivalent of the number = 22\n",
      "Hexadecimal equivalent of the number = 12\n",
      "Exponential equivalent of the number = 1.800000e+01\n"
     ]
    }
   ],
   "source": [
    "print \"Actual Number = %d\" %18\n",
    "print \"Float of the number = %f\" %18\n",
    "print \"Octal equivalent of the number = %o\" %18\n",
    "print \"Hexadecimal equivalent of the number = %x\" %18\n",
    "print \"Exponential equivalent of the number = %e\" %18"
   ]
  },
  {
   "cell_type": "code",
   "execution_count": 171,
   "metadata": {
    "collapsed": false
   },
   "outputs": [
    {
     "data": {
      "text/plain": [
       "'3.12131'"
      ]
     },
     "execution_count": 171,
     "metadata": {},
     "output_type": "execute_result"
    }
   ],
   "source": [
    "\"%.5f\" % 3.121312312312"
   ]
  },
  {
   "cell_type": "markdown",
   "metadata": {},
   "source": [
    "#### String Indexing and Slicing"
   ]
  },
  {
   "cell_type": "code",
   "execution_count": 17,
   "metadata": {
    "collapsed": true
   },
   "outputs": [],
   "source": [
    "String0 = 'Taj Mahal is beautiful'"
   ]
  },
  {
   "cell_type": "code",
   "execution_count": 18,
   "metadata": {
    "collapsed": false
   },
   "outputs": [
    {
     "name": "stdout",
     "output_type": "stream",
     "text": [
      "M\n",
      "Mahal is beautiful\n"
     ]
    }
   ],
   "source": [
    "print String0[4]\n",
    "print String0[4:]"
   ]
  },
  {
   "cell_type": "markdown",
   "metadata": {},
   "source": [
    "#### find\n",
    "find( ) function returns the index value of the given data that is to found in the string. If it is not found it returns -1. Remember to not confuse the returned -1 for reverse indexing value."
   ]
  },
  {
   "cell_type": "code",
   "execution_count": null,
   "metadata": {
    "collapsed": true
   },
   "outputs": [],
   "source": [
    "print String0.find('al')\n",
    "print String0.find('am')"
   ]
  },
  {
   "cell_type": "markdown",
   "metadata": {},
   "source": [
    "#### count\n",
    "count( ) function counts the number of char in the given string. The start and the stop index can also be specified or left blank. (These are Implicit arguments which will be dealt in functions)"
   ]
  },
  {
   "cell_type": "code",
   "execution_count": 19,
   "metadata": {
    "collapsed": false
   },
   "outputs": [
    {
     "name": "stdout",
     "output_type": "stream",
     "text": [
      "4\n",
      "2\n"
     ]
    }
   ],
   "source": [
    "print String0.count('a',0)\n",
    "print String0.count('a',5,10)"
   ]
  },
  {
   "cell_type": "markdown",
   "metadata": {},
   "source": [
    "### List and Tuples\n",
    "A list is an ordered collection of items that are accessed via their index. The first item in the list has index 0, the second has index 1, and so on. The items don’t even have to all be the same data type. \n",
    "You can create an empty list with a set of square brackets, [], or you can populate it right off the bat. \n",
    "For example, this creates a list with a mixture of numbers and strings and then accesses some of them\n"
   ]
  },
  {
   "cell_type": "code",
   "execution_count": 9,
   "metadata": {
    "collapsed": false
   },
   "outputs": [
    {
     "name": "stdout",
     "output_type": "stream",
     "text": [
      "[5, 'Bob', 'yellow', -43, 'cat']\n"
     ]
    }
   ],
   "source": [
    "data = [5, 'Bob', 'yellow', -43, 'cat']\n",
    "print data"
   ]
  },
  {
   "cell_type": "markdown",
   "metadata": {},
   "source": [
    "#### Indexing\n",
    "In python, Indexing starts from 0. Thus now the list x, which has two elements will have apple at 0 index and orange at 1 index."
   ]
  },
  {
   "cell_type": "code",
   "execution_count": 10,
   "metadata": {
    "collapsed": false
   },
   "outputs": [
    {
     "data": {
      "text/plain": [
       "5"
      ]
     },
     "execution_count": 10,
     "metadata": {},
     "output_type": "execute_result"
    }
   ],
   "source": [
    "data[0]"
   ]
  },
  {
   "cell_type": "code",
   "execution_count": 20,
   "metadata": {
    "collapsed": false
   },
   "outputs": [
    {
     "data": {
      "text/plain": [
       "'cat'"
      ]
     },
     "execution_count": 20,
     "metadata": {},
     "output_type": "execute_result"
    }
   ],
   "source": [
    "data[-1]"
   ]
  },
  {
   "cell_type": "code",
   "execution_count": 11,
   "metadata": {
    "collapsed": false
   },
   "outputs": [
    {
     "name": "stdout",
     "output_type": "stream",
     "text": [
      "[11, 'Bob', 'yellow', -43, 'cat']\n"
     ]
    }
   ],
   "source": [
    "data[0]=11 #assign a specific value\n",
    "print data"
   ]
  },
  {
   "cell_type": "markdown",
   "metadata": {},
   "source": [
    "** Operation with list**"
   ]
  },
  {
   "cell_type": "code",
   "execution_count": 47,
   "metadata": {
    "collapsed": false
   },
   "outputs": [
    {
     "data": {
      "text/plain": [
       "[0, 1, 2, 3, 4, 5, 6, 7, 8, 9, 0, 1, 2, 3, 4, 5, 6, 7, 8, 9]"
      ]
     },
     "execution_count": 47,
     "metadata": {},
     "output_type": "execute_result"
    }
   ],
   "source": [
    "x = [0,1,2,3,4,5,6,7,8,9]\n",
    "x * 2"
   ]
  },
  {
   "cell_type": "code",
   "execution_count": 48,
   "metadata": {
    "collapsed": false
   },
   "outputs": [
    {
     "name": "stdout",
     "output_type": "stream",
     "text": [
      "[0, 1, 2, 3, 4, 5, 6, 7, 8, 9]\n"
     ]
    }
   ],
   "source": [
    "print(x)"
   ]
  },
  {
   "cell_type": "code",
   "execution_count": 49,
   "metadata": {
    "collapsed": false
   },
   "outputs": [
    {
     "name": "stdout",
     "output_type": "stream",
     "text": [
      "[0, 1, 2, 3, 4, 5, 6, 7, 8, 9, 0, 1, 2, 3, 4, 5, 6, 7, 8, 9]\n"
     ]
    }
   ],
   "source": [
    "y = x * 2\n",
    "print y"
   ]
  },
  {
   "cell_type": "markdown",
   "metadata": {},
   "source": [
    "#### Slicing\n",
    "Indexing was only limited to accessing a single element, Slicing on the other hand is accessing a sequence of data inside the list. In other words \"slicing\" the list.\n",
    "Slicing is done by defining the index values of the first element and the last element from the parent list that is required in the sliced list. It is written as parentlist[ a : b ] where a,b are the index values from the parent list. If a or b is not defined then the index value is considered to be the first value for a if a is not defined and the last value for b when b is not defined."
   ]
  },
  {
   "cell_type": "code",
   "execution_count": 21,
   "metadata": {
    "collapsed": true
   },
   "outputs": [],
   "source": [
    "num = [0,1,2,3,4,5,6,7,8,9]"
   ]
  },
  {
   "cell_type": "code",
   "execution_count": 22,
   "metadata": {
    "collapsed": false
   },
   "outputs": [
    {
     "name": "stdout",
     "output_type": "stream",
     "text": [
      "[0, 1, 2, 3]\n",
      "[4, 5, 6, 7, 8, 9]\n"
     ]
    }
   ],
   "source": [
    "print num[0:4]\n",
    "print num[4:]"
   ]
  },
  {
   "cell_type": "markdown",
   "metadata": {},
   "source": [
    "#### len()\n",
    "To find the length of the list or the number of elements in a list, len( ) is used."
   ]
  },
  {
   "cell_type": "code",
   "execution_count": null,
   "metadata": {
    "collapsed": true
   },
   "outputs": [],
   "source": []
  },
  {
   "cell_type": "markdown",
   "metadata": {},
   "source": [
    "#### append()\n",
    "append( ) is used to add a element at the end of the list."
   ]
  },
  {
   "cell_type": "code",
   "execution_count": null,
   "metadata": {
    "collapsed": true
   },
   "outputs": [],
   "source": [
    "lst = [1,1,4,8,7]\n",
    "lst.append(1)\n",
    "print lst"
   ]
  },
  {
   "cell_type": "code",
   "execution_count": 7,
   "metadata": {
    "collapsed": false
   },
   "outputs": [
    {
     "name": "stdout",
     "output_type": "stream",
     "text": [
      "5\n",
      "True\n"
     ]
    }
   ],
   "source": [
    "print len(data) #lenght of list\n",
    "print 'Bob' in data"
   ]
  },
  {
   "cell_type": "markdown",
   "metadata": {},
   "source": [
    "#### Tuples\n",
    "Tuples are similar to lists but only big difference is the elements inside a list can be changed but in tuple it cannot be changed. Think of tuples as something which has to be True for a particular something and cannot be True for no other values. "
   ]
  },
  {
   "cell_type": "code",
   "execution_count": 6,
   "metadata": {
    "collapsed": false
   },
   "outputs": [
    {
     "name": "stdout",
     "output_type": "stream",
     "text": [
      "('Bob', 'yellow')\n"
     ]
    }
   ],
   "source": [
    "data = (5, 'Bob', 'yellow', -43, 'cat')\n",
    "print data[1:3]"
   ]
  },
  {
   "cell_type": "code",
   "execution_count": 8,
   "metadata": {
    "collapsed": false
   },
   "outputs": [
    {
     "ename": "TypeError",
     "evalue": "'tuple' object does not support item assignment",
     "output_type": "error",
     "traceback": [
      "\u001b[0;31m---------------------------------------------------------------------------\u001b[0m",
      "\u001b[0;31mTypeError\u001b[0m                                 Traceback (most recent call last)",
      "\u001b[0;32m<ipython-input-8-d48c1d2cd297>\u001b[0m in \u001b[0;36m<module>\u001b[0;34m()\u001b[0m\n\u001b[1;32m      1\u001b[0m \u001b[0;31m# no possible to change a touple\u001b[0m\u001b[0;34m\u001b[0m\u001b[0;34m\u001b[0m\u001b[0m\n\u001b[0;32m----> 2\u001b[0;31m \u001b[0mdata\u001b[0m\u001b[0;34m[\u001b[0m\u001b[0;36m0\u001b[0m\u001b[0;34m]\u001b[0m \u001b[0;34m=\u001b[0m \u001b[0;36m10\u001b[0m\u001b[0;34m\u001b[0m\u001b[0m\n\u001b[0m",
      "\u001b[0;31mTypeError\u001b[0m: 'tuple' object does not support item assignment"
     ]
    }
   ],
   "source": [
    "# no possible to change a touple\n",
    "data[0] = 10"
   ]
  },
  {
   "cell_type": "markdown",
   "metadata": {},
   "source": [
    "## 4.5 Control Flow\n",
    "\n",
    "\n",
    "### If, else, elif\n",
    "\n",
    "Perhaps the simplest way to change execution order is to test a condition and do something different depending on the outcome of the test. This can be done with an if statement.\n",
    "\n",
    "##If\n",
    "if some_condition:\n",
    "    \n",
    "    algorithm\n",
    "-------------------    \n",
    "##If-else\n",
    "\n",
    "if some_condition:\n",
    "    \n",
    "    algorithm\n",
    "    \n",
    "else:\n",
    "    \n",
    "    algorithm\n",
    "--------------------\n",
    "##if-elif\n",
    "\n",
    "if some_condition:\n",
    "    \n",
    "    algorithm\n",
    "\n",
    "elif some_condition:\n",
    "    \n",
    "    algorithm\n",
    "\n",
    "else:\n",
    "    \n",
    "    algorithm"
   ]
  },
  {
   "cell_type": "code",
   "execution_count": 12,
   "metadata": {
    "collapsed": false
   },
   "outputs": [
    {
     "name": "stdout",
     "output_type": "stream",
     "text": [
      "Hello\n"
     ]
    }
   ],
   "source": [
    "x = 12\n",
    "if x >10:\n",
    "    print \"Hello\""
   ]
  },
  {
   "cell_type": "code",
   "execution_count": 13,
   "metadata": {
    "collapsed": false
   },
   "outputs": [
    {
     "name": "stdout",
     "output_type": "stream",
     "text": [
      "n equals 1\n",
      "This is not part of the condition\n"
     ]
    }
   ],
   "source": [
    "n=1\n",
    "if n == 1:\n",
    "    print('n equals 1')\n",
    "else:\n",
    "    print('n does not equal 1')\n",
    "print('This is not part of the condition')"
   ]
  },
  {
   "cell_type": "code",
   "execution_count": 14,
   "metadata": {
    "collapsed": false
   },
   "outputs": [
    {
     "name": "stdout",
     "output_type": "stream",
     "text": [
      "n equals 1\n"
     ]
    }
   ],
   "source": [
    "if n == 1:\n",
    "    print('n equals 1')\n",
    "elif n == 3:\n",
    "    print('n equals 3')\n",
    "elif n > 5:\n",
    "    print('n is greater than 5')\n",
    "else:\n",
    "    print('what is n?')"
   ]
  },
  {
   "cell_type": "markdown",
   "metadata": {},
   "source": [
    "### while\n",
    "\n",
    "while some_condition:\n",
    "    \n",
    "    algorithm\n",
    "\n",
    "A while statement executes a block of code as long as a condition is True. The condi- tion is evaluated, and if it’s True, then the code is executed. Then the condition is checked again, and if it’s still True, then the code executes again. This continues until the condition is False. If the condition never becomes False, then the code will run forever, which is called an infinite loop and is a scenario you definitely want to avoid."
   ]
  },
  {
   "cell_type": "code",
   "execution_count": 15,
   "metadata": {
    "collapsed": false
   },
   "outputs": [
    {
     "name": "stdout",
     "output_type": "stream",
     "text": [
      "0\n",
      "1\n",
      "2\n",
      "3\n",
      "4\n"
     ]
    }
   ],
   "source": [
    "n = 0\n",
    "while n < 5:\n",
    "    print(n)\n",
    "    n += 1"
   ]
  },
  {
   "cell_type": "markdown",
   "metadata": {},
   "source": [
    "### for\n",
    "\n",
    "for variable in something:\n",
    "    \n",
    "    algorithm\n",
    "\n",
    "A for statement allows you to iterate over a sequence of values and do something for each one. When you write a for statement, you not only provide the sequence to iter- ate over, but you also provide a variable name. Each time through the loop, this vari- able contains a different value from the sequence. This example iterates through a list of names and prints a message for each one:"
   ]
  },
  {
   "cell_type": "code",
   "execution_count": null,
   "metadata": {
    "collapsed": false
   },
   "outputs": [],
   "source": [
    "names = ['Chris', 'Janet', 'Tami']\n",
    "for name in names:\n",
    "    print('Hello {}!'.format(name))\n"
   ]
  },
  {
   "cell_type": "markdown",
   "metadata": {},
   "source": [
    "### THE RANGE FUNCTION\n",
    "The range function makes it easy to iterate over a sequence of numbers. Although this function has more parameters, the simplest way to use it is to provide a number n, and it will create a sequence from 0 to n-1.\n"
   ]
  },
  {
   "cell_type": "code",
   "execution_count": null,
   "metadata": {
    "collapsed": false
   },
   "outputs": [],
   "source": [
    "n = 0\n",
    "for i in range(1,20,2):\n",
    "    n += 1\n",
    "\n",
    "print(n)\n"
   ]
  },
  {
   "cell_type": "markdown",
   "metadata": {},
   "source": [
    "### break, continue, and else\n",
    "A few statements apply to while and for loops. The first one, break, will kick execution completely out of the loop, as in this example that stops the loop when i is equal to 3"
   ]
  },
  {
   "cell_type": "code",
   "execution_count": null,
   "metadata": {
    "collapsed": false
   },
   "outputs": [],
   "source": [
    "for i in range(100):\n",
    "    print i\n",
    "    if i>=7:\n",
    "        break"
   ]
  },
  {
   "cell_type": "markdown",
   "metadata": {},
   "source": [
    "The continue statement jumps back up to the top of the loop and starts the next iteration, skipping the rest of the code that would normally be executed during the current loop iteration."
   ]
  },
  {
   "cell_type": "code",
   "execution_count": null,
   "metadata": {
    "collapsed": false
   },
   "outputs": [],
   "source": [
    "for i in range(10):\n",
    "    if i>4:\n",
    "        print \"The end.\"\n",
    "        continue\n",
    "    elif i<7:\n",
    "        print i"
   ]
  },
  {
   "cell_type": "markdown",
   "metadata": {
    "nbpresent": {
     "id": "f81f9570-d4c4-4e2f-8a57-3881a4881b69"
    }
   },
   "source": [
    "## 4.6 Functions\n",
    "\n",
    "def funcname(arg1, arg2,... argN):\n",
    "    \n",
    "    ''' Document String'''\n",
    "\n",
    "    statements\n",
    "\n",
    "\n",
    "    return <value>\n",
    "\n",
    "\n",
    "If you find that you reuse the same bits of code over and over, you can create your own function and call that instead of repeating the same code. This makes things much easier and also less error-prone, because you won’t have nearly as many places to make typos. When you create a function, you need to give it a name and tell it what parameters the user needs to provide to use it.\n",
    "Let’s create a simple function to calculate a factorial:"
   ]
  },
  {
   "cell_type": "code",
   "execution_count": null,
   "metadata": {
    "collapsed": true
   },
   "outputs": [],
   "source": [
    "def factorial(n):\n",
    "            answer = 1\n",
    "            for i in range(1, n + 1):\n",
    "                answer = answer * i\n",
    "            return answer"
   ]
  },
  {
   "cell_type": "code",
   "execution_count": null,
   "metadata": {
    "collapsed": false
   },
   "outputs": [],
   "source": [
    "fact5 = factorial(5)\n",
    "print fact5"
   ]
  },
  {
   "cell_type": "code",
   "execution_count": null,
   "metadata": {
    "collapsed": true
   },
   "outputs": [],
   "source": [
    "def firstfunc(username):\n",
    "    print \"Hey\", username + '!'\n",
    "    print username + ',' ,\"How do you do?\""
   ]
  },
  {
   "cell_type": "code",
   "execution_count": null,
   "metadata": {
    "collapsed": true
   },
   "outputs": [],
   "source": [
    "name1 = raw_input('Please enter your name : ')"
   ]
  },
  {
   "cell_type": "code",
   "execution_count": null,
   "metadata": {
    "collapsed": true
   },
   "outputs": [],
   "source": [
    "firstfunc(name1)"
   ]
  },
  {
   "cell_type": "markdown",
   "metadata": {},
   "source": [
    "### Return Statment\n",
    "When the function results in some value and that value has to be stored in a variable or needs to be sent back or returned for further operation to the main algorithm, return statement is used."
   ]
  },
  {
   "cell_type": "code",
   "execution_count": 24,
   "metadata": {
    "collapsed": true
   },
   "outputs": [],
   "source": [
    "def times(x,y):\n",
    "    z = x*y\n",
    "    return z"
   ]
  },
  {
   "cell_type": "markdown",
   "metadata": {},
   "source": [
    "The above defined times( ) function accepts two arguements and return the variable z which contains the result of the product of the two arguements"
   ]
  },
  {
   "cell_type": "code",
   "execution_count": 25,
   "metadata": {
    "collapsed": false
   },
   "outputs": [
    {
     "name": "stdout",
     "output_type": "stream",
     "text": [
      "20\n"
     ]
    }
   ],
   "source": [
    "c=times(5,4)\n",
    "print c"
   ]
  },
  {
   "cell_type": "code",
   "execution_count": 26,
   "metadata": {
    "collapsed": false
   },
   "outputs": [
    {
     "name": "stdout",
     "output_type": "stream",
     "text": [
      "Help on function times in module __main__:\n",
      "\n",
      "times(x, y)\n",
      "\n"
     ]
    }
   ],
   "source": [
    "help(times)"
   ]
  },
  {
   "cell_type": "markdown",
   "metadata": {},
   "source": [
    "#### Any number of arguments\n",
    "If the number of arguments that is to be accepted by a function is not known then a asterisk symbol is used before the argument."
   ]
  },
  {
   "cell_type": "code",
   "execution_count": null,
   "metadata": {
    "collapsed": true
   },
   "outputs": [],
   "source": [
    "def add_n(*args):\n",
    "    res = 0\n",
    "    reslist = []\n",
    "    for i in args:\n",
    "        reslist.append(i)\n",
    "    print reslist\n",
    "    return sum(reslist)"
   ]
  },
  {
   "cell_type": "code",
   "execution_count": null,
   "metadata": {
    "collapsed": true
   },
   "outputs": [],
   "source": [
    "add_n(1,2,3,4,5)"
   ]
  },
  {
   "cell_type": "code",
   "execution_count": null,
   "metadata": {
    "collapsed": true
   },
   "outputs": [],
   "source": [
    "add_n(1,2,3)"
   ]
  },
  {
   "cell_type": "markdown",
   "metadata": {},
   "source": [
    "## 4.7 Classes\n",
    "\n",
    "class class_name:\n",
    "\n",
    "    Functions\n",
    "\n",
    "Classes are an extremely powerful concept, but all you need to understand for the purposes of this tutorial are that they’re data types that can contain their own internal data and functions\n",
    "\n",
    "Variables, Lists, Dictionaries etc in python is a object. Without getting into the theory part of Object Oriented Programming, explanation of the concepts will be done along this tutorial.\n"
   ]
  },
  {
   "cell_type": "markdown",
   "metadata": {},
   "source": [
    "## 4.8 Python File I/O - Reading/Writing Files\n",
    "Python [file input and output](http://docs.python.org/2/tutorial/inputoutput.html#reading-and-writing-files) is done through [file](http://docs.python.org/2/library/stdtypes.html#file-objects) objects. A file object is created with the [`open(name[, mode])`](http://docs.python.org/2/library/functions.html#open) statement, where `name` is a string representing the name of the file, and `mode` is `'r'` (read), `'w'` (write) or `'a'` (append); if no second argument is provided, the mode defaults to `'r'`.\n",
    "\n",
    "A common Python programming pattern for processing an input text file is to \n",
    "\n",
    "* [**`open`**](http://docs.python.org/2/library/functions.html#open) the file using a [**`with`**](http://docs.python.org/2/reference/compound_stmts.html#the-with-statement) statement (which will automatically [**`close`**](http://docs.python.org/2/library/stdtypes.html#file.close) the file after the statements inside the `with` block have been executed)\n",
    "* iterate over each line in the file using a **`for`** statement\n",
    "\n",
    "The following code creates a list of instances, where each instance is a list of attribute values (like `instance_1_str` above)."
   ]
  },
  {
   "cell_type": "markdown",
   "metadata": {},
   "source": [
    "### 4.8.1 Reading File"
   ]
  },
  {
   "cell_type": "code",
   "execution_count": 50,
   "metadata": {
    "collapsed": true
   },
   "outputs": [],
   "source": [
    "# Reading entire file and store in a string object\n",
    "my_file = \"data/Chap_3/clc_legend.txt\"\n",
    "f = open(my_file)"
   ]
  },
  {
   "cell_type": "code",
   "execution_count": 51,
   "metadata": {
    "collapsed": true
   },
   "outputs": [],
   "source": [
    "fr = f.read()"
   ]
  },
  {
   "cell_type": "code",
   "execution_count": 52,
   "metadata": {
    "collapsed": false
   },
   "outputs": [
    {
     "data": {
      "text/plain": [
       "str"
      ]
     },
     "execution_count": 52,
     "metadata": {},
     "output_type": "execute_result"
    }
   ],
   "source": [
    "type(fr)"
   ]
  },
  {
   "cell_type": "code",
   "execution_count": 53,
   "metadata": {
    "collapsed": false
   },
   "outputs": [
    {
     "name": "stdout",
     "output_type": "stream",
     "text": [
      "GRID_CODE\tCLC_CODE\tLABEL1\tValues\tLABEL2\tLABEL3\tRGB\t\r\n",
      "1\t111\tArtificial surfaces\t1.00\tUrban fabric\tContinuous urban fabric\t230-000-077\t\r\n",
      "2\t112\tArtificial surfaces\t1.00\tUrban fabric\tDiscontinuous urban fabric\t255-000-000\t\r\n",
      "3\t121\tArtificial surfaces\t0.80\t\"Industrial, commercial and transport units\"\tIndustrial or commercial units\t204-077-242\t\r\n",
      "4\t122\tArtificial surfaces\t0.20\t\"Industrial, commercial and transport units\"\tRoad and rail networks and associated land\t204-000-000\t\r\n",
      "5\t123\tArtificial surfaces\t0.20\t\"Industrial, commercial and transport units\"\tPort areas\t230-204-204\t\r\n",
      "6\t124\tArtificial surfaces\t0.50\t\"Industrial, commercial and transport units\"\tAirports\t230-204-230\t\r\n",
      "7\t131\tArtificial surfaces\t0.20\t\"Mine, dump and construction sites\"\tMineral extraction sites\t166-000-204\t\r\n",
      "8\t132\tArtificial surfaces\t0.20\t\"Mine, dump and construction sites\"\tDump sites\t166-077-000\t\r\n",
      "9\t133\tArtificial surfaces\t0.20\t\"Mine, dump and construction sites\"\tConstruction sites\t255-077-255\t\r\n",
      "10\t141\tArtificial surfaces\t0.20\t\"Artificial, non-agricultural vegetated areas\"\tGreen urban areas\t255-166-255\t\r\n",
      "11\t142\tArtificial surfaces\t0.50\t\"Artificial, non-agricultural vegetated areas\"\tSport and leisure facilities\t255-230-255\t\r\n",
      "12\t211\tAgricultural areas\t0.10\tArable land\tNon-irrigated arable land\t255-255-168\t\r\n",
      "13\t212\tAgricultural areas\t0.10\tArable land\tPermanently irrigated land\t255-255-000\t\r\n",
      "14\t213\tAgricultural areas\t0.10\tArable land\tRice fields\t230-230-000\t\r\n",
      "15\t221\tAgricultural areas\t0.10\tPermanent crops\tVineyards\t230-128-000\t\r\n",
      "16\t222\tAgricultural areas\t0.10\tPermanent crops\tFruit trees and berry plantations\t242-166-077\t\r\n",
      "17\t223\tAgricultural areas\t0.10\tPermanent crops\tOlive groves\t230-166-000\t\r\n",
      "18\t231\tAgricultural areas\t0.10\tPastures\tPastures\t230-230-077\t\r\n",
      "19\t241\tAgricultural areas\t0.10\tHeterogeneous agricultural areas\tAnnual crops associated with permanent crops\t255-230-166\t\r\n",
      "20\t242\tAgricultural areas\t0.10\tHeterogeneous agricultural areas\tComplex cultivation patterns\t255-230-077\t\r\n",
      "21\t243\tAgricultural areas\t0.10\tHeterogeneous agricultural areas\t\"Land principally occupied by agriculture, with significant areas of natural vegetation\"\t230-204-077\t\r\n",
      "22\t244\tAgricultural areas\t0.10\tHeterogeneous agricultural areas\tAgro-forestry areas\t242-204-166\t\r\n",
      "23\t311\tForest and semi natural areas\t0.05\tForests\tBroad-leaved forest\t128-255-000\t\r\n",
      "24\t312\tForest and semi natural areas\t0.05\tForests\tConiferous forest\t000-166-000\t\r\n",
      "25\t313\tForest and semi natural areas\t0.05\tForests\tMixed forest\t077-255-000\t\r\n",
      "26\t321\tForest and semi natural areas\t0.05\tScrub and/or herbaceous vegetation associations\tNatural grasslands\t204-242-077\t\r\n",
      "27\t322\tForest and semi natural areas\t0.05\tScrub and/or herbaceous vegetation associations\tMoors and heathland\t166-255-128\t\r\n",
      "28\t323\tForest and semi natural areas\t0.05\tScrub and/or herbaceous vegetation associations\tSclerophyllous vegetation\t166-230-077\t\r\n",
      "29\t324\tForest and semi natural areas\t0.05\tScrub and/or herbaceous vegetation associations\tTransitional woodland-shrub\t166-242-000\t\r\n",
      "30\t331\tForest and semi natural areas\t0.05\tOpen spaces with little or no vegetation\t\"Beaches, dunes, sands\"\t230-230-230\t\r\n",
      "31\t332\tForest and semi natural areas\t0.05\tOpen spaces with little or no vegetation\tBare rocks\t204-204-204\t\r\n",
      "32\t333\tForest and semi natural areas\t0.05\tOpen spaces with little or no vegetation\tSparsely vegetated areas\t204-255-204\t\r\n",
      "33\t334\tForest and semi natural areas\t0.05\tOpen spaces with little or no vegetation\tBurnt areas\t000-000-000\t\r\n",
      "34\t335\tForest and semi natural areas\t0.05\tOpen spaces with little or no vegetation\tGlaciers and perpetual snow\t166-230-204\t\r\n",
      "35\t411\tWetlands\t0.05\tInland wetlands\tInland marshes\t166-166-255\t\r\n",
      "36\t412\tWetlands\t0.05\tInland wetlands\tPeat bogs\t077-077-255\t\r\n",
      "37\t421\tWetlands\t0.05\tMaritime wetlands\tSalt marshes\t204-204-255\t\r\n",
      "38\t422\tWetlands\t0.05\tMaritime wetlands\tSalines\t230-230-255\t\r\n",
      "39\t423\tWetlands\t0.05\tMaritime wetlands\tIntertidal flats\t166-166-230\t\r\n",
      "40\t511\tWater bodies\t0.01\tInland waters\tWater courses\t000-204-242\t\r\n",
      "41\t512\tWater bodies\t0.01\tInland waters\tWater bodies\t128-242-230\t\r\n",
      "42\t521\tWater bodies\t0.01\tMarine waters\tCoastal lagoons\t000-255-166\t\r\n",
      "43\t522\tWater bodies\t0.01\tMarine waters\tEstuaries\t166-255-230\t\r\n",
      "44\t523\tWater bodies\t0.01\tMarine waters\tSea and ocean\t230-242-255\t\r\n",
      "48\t999\tNODATA\t0.00\tNODATA\tNODATA\t\t\r\n",
      "49\t990\tUNCLASSIFIED\t0.00\tUNCLASSIFIED LAND SURFACE\tUNCLASSIFIED LAND SURFACE\t\t\r\n",
      "50\t995\tUNCLASSIFIED\t0.00\tUNCLASSIFIED WATER BODIES\tUNCLASSIFIED WATER BODIES\t230-242-255\t\r\n",
      "255\t990\tUNCLASSIFIED\t0.00\tUNCLASSIFIED\tUNCLASSIFIED\t\t\n"
     ]
    }
   ],
   "source": [
    "print(fr)"
   ]
  },
  {
   "cell_type": "code",
   "execution_count": null,
   "metadata": {
    "collapsed": true
   },
   "outputs": [],
   "source": [
    "f.close()"
   ]
  },
  {
   "cell_type": "code",
   "execution_count": 54,
   "metadata": {
    "collapsed": false
   },
   "outputs": [
    {
     "name": "stdout",
     "output_type": "stream",
     "text": [
      "['GRID_CODE\\tCLC_CODE\\tLABEL1\\tValues\\tLABEL2\\tLABEL3\\tRGB\\t\\r\\n', '1\\t111\\tArtificial surfaces\\t1.00\\tUrban fabric\\tContinuous urban fabric\\t230-000-077\\t\\r\\n', '2\\t112\\tArtificial surfaces\\t1.00\\tUrban fabric\\tDiscontinuous urban fabric\\t255-000-000\\t\\r\\n', '3\\t121\\tArtificial surfaces\\t0.80\\t\"Industrial, commercial and transport units\"\\tIndustrial or commercial units\\t204-077-242\\t\\r\\n', '4\\t122\\tArtificial surfaces\\t0.20\\t\"Industrial, commercial and transport units\"\\tRoad and rail networks and associated land\\t204-000-000\\t\\r\\n', '5\\t123\\tArtificial surfaces\\t0.20\\t\"Industrial, commercial and transport units\"\\tPort areas\\t230-204-204\\t\\r\\n', '6\\t124\\tArtificial surfaces\\t0.50\\t\"Industrial, commercial and transport units\"\\tAirports\\t230-204-230\\t\\r\\n', '7\\t131\\tArtificial surfaces\\t0.20\\t\"Mine, dump and construction sites\"\\tMineral extraction sites\\t166-000-204\\t\\r\\n', '8\\t132\\tArtificial surfaces\\t0.20\\t\"Mine, dump and construction sites\"\\tDump sites\\t166-077-000\\t\\r\\n', '9\\t133\\tArtificial surfaces\\t0.20\\t\"Mine, dump and construction sites\"\\tConstruction sites\\t255-077-255\\t\\r\\n', '10\\t141\\tArtificial surfaces\\t0.20\\t\"Artificial, non-agricultural vegetated areas\"\\tGreen urban areas\\t255-166-255\\t\\r\\n', '11\\t142\\tArtificial surfaces\\t0.50\\t\"Artificial, non-agricultural vegetated areas\"\\tSport and leisure facilities\\t255-230-255\\t\\r\\n', '12\\t211\\tAgricultural areas\\t0.10\\tArable land\\tNon-irrigated arable land\\t255-255-168\\t\\r\\n', '13\\t212\\tAgricultural areas\\t0.10\\tArable land\\tPermanently irrigated land\\t255-255-000\\t\\r\\n', '14\\t213\\tAgricultural areas\\t0.10\\tArable land\\tRice fields\\t230-230-000\\t\\r\\n', '15\\t221\\tAgricultural areas\\t0.10\\tPermanent crops\\tVineyards\\t230-128-000\\t\\r\\n', '16\\t222\\tAgricultural areas\\t0.10\\tPermanent crops\\tFruit trees and berry plantations\\t242-166-077\\t\\r\\n', '17\\t223\\tAgricultural areas\\t0.10\\tPermanent crops\\tOlive groves\\t230-166-000\\t\\r\\n', '18\\t231\\tAgricultural areas\\t0.10\\tPastures\\tPastures\\t230-230-077\\t\\r\\n', '19\\t241\\tAgricultural areas\\t0.10\\tHeterogeneous agricultural areas\\tAnnual crops associated with permanent crops\\t255-230-166\\t\\r\\n', '20\\t242\\tAgricultural areas\\t0.10\\tHeterogeneous agricultural areas\\tComplex cultivation patterns\\t255-230-077\\t\\r\\n', '21\\t243\\tAgricultural areas\\t0.10\\tHeterogeneous agricultural areas\\t\"Land principally occupied by agriculture, with significant areas of natural vegetation\"\\t230-204-077\\t\\r\\n', '22\\t244\\tAgricultural areas\\t0.10\\tHeterogeneous agricultural areas\\tAgro-forestry areas\\t242-204-166\\t\\r\\n', '23\\t311\\tForest and semi natural areas\\t0.05\\tForests\\tBroad-leaved forest\\t128-255-000\\t\\r\\n', '24\\t312\\tForest and semi natural areas\\t0.05\\tForests\\tConiferous forest\\t000-166-000\\t\\r\\n', '25\\t313\\tForest and semi natural areas\\t0.05\\tForests\\tMixed forest\\t077-255-000\\t\\r\\n', '26\\t321\\tForest and semi natural areas\\t0.05\\tScrub and/or herbaceous vegetation associations\\tNatural grasslands\\t204-242-077\\t\\r\\n', '27\\t322\\tForest and semi natural areas\\t0.05\\tScrub and/or herbaceous vegetation associations\\tMoors and heathland\\t166-255-128\\t\\r\\n', '28\\t323\\tForest and semi natural areas\\t0.05\\tScrub and/or herbaceous vegetation associations\\tSclerophyllous vegetation\\t166-230-077\\t\\r\\n', '29\\t324\\tForest and semi natural areas\\t0.05\\tScrub and/or herbaceous vegetation associations\\tTransitional woodland-shrub\\t166-242-000\\t\\r\\n', '30\\t331\\tForest and semi natural areas\\t0.05\\tOpen spaces with little or no vegetation\\t\"Beaches, dunes, sands\"\\t230-230-230\\t\\r\\n', '31\\t332\\tForest and semi natural areas\\t0.05\\tOpen spaces with little or no vegetation\\tBare rocks\\t204-204-204\\t\\r\\n', '32\\t333\\tForest and semi natural areas\\t0.05\\tOpen spaces with little or no vegetation\\tSparsely vegetated areas\\t204-255-204\\t\\r\\n', '33\\t334\\tForest and semi natural areas\\t0.05\\tOpen spaces with little or no vegetation\\tBurnt areas\\t000-000-000\\t\\r\\n', '34\\t335\\tForest and semi natural areas\\t0.05\\tOpen spaces with little or no vegetation\\tGlaciers and perpetual snow\\t166-230-204\\t\\r\\n', '35\\t411\\tWetlands\\t0.05\\tInland wetlands\\tInland marshes\\t166-166-255\\t\\r\\n', '36\\t412\\tWetlands\\t0.05\\tInland wetlands\\tPeat bogs\\t077-077-255\\t\\r\\n', '37\\t421\\tWetlands\\t0.05\\tMaritime wetlands\\tSalt marshes\\t204-204-255\\t\\r\\n', '38\\t422\\tWetlands\\t0.05\\tMaritime wetlands\\tSalines\\t230-230-255\\t\\r\\n', '39\\t423\\tWetlands\\t0.05\\tMaritime wetlands\\tIntertidal flats\\t166-166-230\\t\\r\\n', '40\\t511\\tWater bodies\\t0.01\\tInland waters\\tWater courses\\t000-204-242\\t\\r\\n', '41\\t512\\tWater bodies\\t0.01\\tInland waters\\tWater bodies\\t128-242-230\\t\\r\\n', '42\\t521\\tWater bodies\\t0.01\\tMarine waters\\tCoastal lagoons\\t000-255-166\\t\\r\\n', '43\\t522\\tWater bodies\\t0.01\\tMarine waters\\tEstuaries\\t166-255-230\\t\\r\\n', '44\\t523\\tWater bodies\\t0.01\\tMarine waters\\tSea and ocean\\t230-242-255\\t\\r\\n', '48\\t999\\tNODATA\\t0.00\\tNODATA\\tNODATA\\t\\t\\r\\n', '49\\t990\\tUNCLASSIFIED\\t0.00\\tUNCLASSIFIED LAND SURFACE\\tUNCLASSIFIED LAND SURFACE\\t\\t\\r\\n', '50\\t995\\tUNCLASSIFIED\\t0.00\\tUNCLASSIFIED WATER BODIES\\tUNCLASSIFIED WATER BODIES\\t230-242-255\\t\\r\\n', '255\\t990\\tUNCLASSIFIED\\t0.00\\tUNCLASSIFIED\\tUNCLASSIFIED\\t\\t']\n",
      "<type 'list'>\n"
     ]
    }
   ],
   "source": [
    "# Read entire file and store in a list object:\n",
    "f = open(my_file)\n",
    "frl = f.readlines()\n",
    "print(frl)\n",
    "print type(frl)\n",
    "f.close()"
   ]
  },
  {
   "cell_type": "code",
   "execution_count": 33,
   "metadata": {
    "collapsed": false
   },
   "outputs": [
    {
     "name": "stdout",
     "output_type": "stream",
     "text": [
      "1\t111\tArtificial surfaces\t1.00\tUrban fabric\tContinuous urban fabric\t230-000-077\t\r\n",
      "\n"
     ]
    }
   ],
   "source": [
    "#Handling files in a Pythonic way with the WITH clause:\n",
    "with open (\"data/Chap_3/clc_legend.txt\", \"r\") as myfile:\n",
    "    data=myfile.readlines()\n",
    "print data[1]"
   ]
  },
  {
   "cell_type": "markdown",
   "metadata": {},
   "source": [
    "### 4.8.2 Writing File"
   ]
  },
  {
   "cell_type": "code",
   "execution_count": 55,
   "metadata": {
    "collapsed": true
   },
   "outputs": [],
   "source": [
    "testfile = 'data/Chap_3/test.txt'\n",
    "with open(testfile,'w') as f:\n",
    "    for i in range(20):\n",
    "        f.write('This is the loop number {0}.\\n'.format(i))"
   ]
  },
  {
   "cell_type": "code",
   "execution_count": 57,
   "metadata": {
    "collapsed": false
   },
   "outputs": [
    {
     "name": "stdout",
     "output_type": "stream",
     "text": [
      "This is the loop number 0.\n",
      "This is the loop number 1.\n",
      "This is the loop number 2.\n",
      "This is the loop number 3.\n",
      "This is the loop number 4.\n",
      "This is the loop number 5.\n",
      "This is the loop number 6.\n",
      "This is the loop number 7.\n",
      "This is the loop number 8.\n",
      "This is the loop number 9.\n",
      "This is the loop number 10.\n",
      "This is the loop number 11.\n",
      "This is the loop number 12.\n",
      "This is the loop number 13.\n",
      "This is the loop number 14.\n",
      "This is the loop number 15.\n",
      "This is the loop number 16.\n",
      "This is the loop number 17.\n",
      "This is the loop number 18.\n",
      "This is the loop number 19.\n",
      "\n"
     ]
    }
   ],
   "source": [
    "#Reading file previously created:\n",
    "with open('data/Chap_3/test.txt') as f:\n",
    "    frl_w = f.read()\n",
    "print(frl_w)"
   ]
  },
  {
   "cell_type": "markdown",
   "metadata": {},
   "source": [
    "### 4.8.3 filepath and directories"
   ]
  },
  {
   "cell_type": "code",
   "execution_count": 59,
   "metadata": {
    "collapsed": false
   },
   "outputs": [
    {
     "data": {
      "text/plain": [
       "True"
      ]
     },
     "execution_count": 59,
     "metadata": {},
     "output_type": "execute_result"
    }
   ],
   "source": [
    "#Check if the path exists:\n",
    "import os\n",
    "myfilepath='data/Chap_3/test.txt'\n",
    "os.path.exists(myfilepath)"
   ]
  },
  {
   "cell_type": "code",
   "execution_count": 60,
   "metadata": {
    "collapsed": true
   },
   "outputs": [],
   "source": [
    "# make new folder\n",
    "testfolder='data/Chap_3/newfolder/'\n",
    "if not os.path.exists(testfolder):\n",
    "    os.makedirs(testfolder)"
   ]
  },
  {
   "cell_type": "markdown",
   "metadata": {},
   "source": [
    "## 4.9 Plotting Data: Matplotlib and Bokeh\n",
    "\n",
    "Matplotlib is an excellent 2D and 3D graphics library for generating scientific figures. Some of the many advantages of this library include:\n",
    "\n",
    "Easy to get started\n",
    "Support for LATEX\n",
    " formatted labels and texts\n",
    "Great control of every element in a figure, including figure size and DPI.\n",
    "High-quality output in many formats, including PNG, PDF, SVG, EPS, and PGF.\n",
    "GUI for interactively exploring figures and support for headless generation of figure files (useful for batch jobs).\n",
    "More information at the Matplotlib web page: http://matplotlib.org/\n",
    "\n",
    "Plotting interactively within an IPython notebook can be done with the ``%matplotlib`` command, and works in a similar way to the IPython shell.\n",
    "In the IPython notebook, you also have the option of embedding graphics directly in the notebook, with two possible options:\n",
    "\n",
    "- ``%matplotlib notebook`` will lead to *interactive* plots embedded within the notebook\n",
    "- ``%matplotlib inline`` will lead to *static* images of your plot embedded in the notebook\n",
    "\n",
    "For this book, we will generally opt for ``%matplotlib inline``:\n",
    "\n",
    "-------------------------------------------------------------------------------------------\n",
    "\n",
    "\n"
   ]
  },
  {
   "cell_type": "code",
   "execution_count": 8,
   "metadata": {
    "collapsed": true
   },
   "outputs": [],
   "source": [
    "from matplotlib import pyplot as plt"
   ]
  },
  {
   "cell_type": "code",
   "execution_count": 9,
   "metadata": {
    "collapsed": false
   },
   "outputs": [],
   "source": [
    "\"\"\"\n",
    "Simple demo of a horizontal bar chart.\n",
    "\"\"\"\n",
    "\n",
    "\n",
    "\n",
    "import numpy as np\n",
    "import random\n",
    "from matplotlib import pyplot as plt\n",
    "%config InlineBackend.figure_format = 'retina' #only for retina Mac"
   ]
  },
  {
   "cell_type": "markdown",
   "metadata": {},
   "source": [
    "In Jupyter environment we can enable Matplotlib with a magic command:"
   ]
  },
  {
   "cell_type": "code",
   "execution_count": 10,
   "metadata": {
    "collapsed": true
   },
   "outputs": [],
   "source": [
    "%matplotlib inline"
   ]
  },
  {
   "cell_type": "code",
   "execution_count": 11,
   "metadata": {
    "collapsed": false
   },
   "outputs": [
    {
     "data": {
      "image/png": "[encoded data removed]",
      "text/plain": [
       "<matplotlib.figure.Figure at 0x11064fcd0>"
      ]
     },
     "metadata": {
      "image/png": {
       "height": 390,
       "width": 533
      }
     },
     "output_type": "display_data"
    }
   ],
   "source": [
    "# prepare some data\n",
    "x = [1, 2, 3, 4, 5]\n",
    "y = [6, 7, 2, 4, 5]\n",
    "plt.xlabel('X') # label\n",
    "plt.ylabel('Y')\n",
    "plt.title('TITLE')\n",
    "\n",
    "plt.plot(x, y, '*')\n",
    "plt.plot(x, y, '-')\n",
    "plt.axis([0, 6, 0, 10]) #control X and Y axis extension\n",
    "plt.show()"
   ]
  },
  {
   "cell_type": "code",
   "execution_count": 13,
   "metadata": {
    "collapsed": false
   },
   "outputs": [
    {
     "data": {
      "text/plain": [
       "<matplotlib.figure.Figure at 0x1105f6e90>"
      ]
     },
     "metadata": {},
     "output_type": "display_data"
    }
   ],
   "source": [
    "plt.savefig('data/Chap_3/my_figure.png')"
   ]
  },
  {
   "cell_type": "code",
   "execution_count": 14,
   "metadata": {
    "collapsed": false
   },
   "outputs": [
    {
     "data": {
      "text/plain": [
       "[<matplotlib.lines.Line2D at 0x11064fe50>]"
      ]
     },
     "execution_count": 14,
     "metadata": {},
     "output_type": "execute_result"
    },
    {
     "data": {
      "image/png": "[encoded data removed]",
      "text/plain": [
       "<matplotlib.figure.Figure at 0x110754ad0>"
      ]
     },
     "metadata": {
      "image/png": {
       "height": 356,
       "width": 534
      }
     },
     "output_type": "display_data"
    }
   ],
   "source": [
    "x = np.arange(50)\n",
    "y = 2 + x**2\n",
    "plt.plot(x, y)"
   ]
  },
  {
   "cell_type": "markdown",
   "metadata": {},
   "source": [
    "** Histogram"
   ]
  },
  {
   "cell_type": "code",
   "execution_count": 15,
   "metadata": {
    "collapsed": false
   },
   "outputs": [
    {
     "name": "stdout",
     "output_type": "stream",
     "text": [
      "[ 489.35781439  492.01117624  462.94302087  466.37495698  486.44523596\n",
      "  462.04394738  465.33488096  453.64564683  423.42158822  513.51183782\n",
      "  550.87869053  453.04663326  443.11475388  448.89984076  490.74310995\n",
      "  412.66511131  433.78296994  438.65371083  527.68210621  457.04878535\n",
      "  391.38247453  426.39031274  478.5276943   509.68820813  530.33804665\n",
      "  524.57895948  448.55926494  492.86057242  559.74737831  492.53781951\n",
      "  538.59344599  435.29540017  507.26705003  455.41419908  543.18573069\n",
      "  496.45620057  486.93528413  542.85295987  581.47510109  494.22400248\n",
      "  557.80732865  505.66283577  527.03937983  600.19901223  495.44635162\n",
      "  476.61068771  470.00072784  543.51056233  502.91443811  527.31897853\n",
      "  596.45345935  429.65878751  528.59765342  513.09175051  477.40279131\n",
      "  552.96570978  448.9444825   591.00509179  548.52645536  515.70401401\n",
      "  507.95986883  497.25090097  515.13569337  521.10832637  564.69624538\n",
      "  545.1777062   532.15717374  609.57207849  544.66367459  456.92116304\n",
      "  559.88167239  514.38465984  546.93821713  490.96540058  459.10461451\n",
      "  470.97111254  562.20597441  611.0038685   509.74506083  471.48794151\n",
      "  596.37874458  431.25762403  380.13579043  492.05810951  447.90744282\n",
      "  405.81414002  374.76287474  478.41681837  543.78781255  472.30186597\n",
      "  483.39543953  473.86689512  513.85634258  503.89021117  483.55689232\n",
      "  551.32130113  475.37793995  463.25296008  517.85495194  518.63983068\n",
      "  462.31636844  463.502173    600.99905759  557.90506344  506.26185557\n",
      "  543.25979874  519.46849684  539.75146046  496.54062685  470.57662859\n",
      "  441.49360555  516.71821776  434.67748273  548.81928316  473.08888533\n",
      "  528.35934368  569.37943604  482.09376228  459.14292342  536.23839428\n",
      "  436.72888751  539.15736411  578.24433466  495.87047922  468.3224337\n",
      "  488.00370018  475.84186302  393.57571067  463.22644452  537.3260088\n",
      "  464.30536339  467.65524002  532.54763209  434.52322192  541.83366045\n",
      "  552.59753638  572.94705424  515.63101534  505.29038843  465.65637914\n",
      "  452.99898995  562.11943183  494.77829114  611.7531318   532.52515175\n",
      "  513.00385209  441.07184509  559.30547043  471.02732346  516.46433346\n",
      "  451.55328441  443.66473588  550.50898194  578.63184548  509.1503088\n",
      "  574.94706527  381.62948319  428.97799074  484.59922466  490.80589562\n",
      "  520.13739131  564.24811428  454.70394791  541.67420742  567.1648148\n",
      "  453.21916191  492.93659808  491.21011732  585.26452961  463.52051131\n",
      "  560.78267167  444.29446489  480.57386105  510.44689561  428.71943253\n",
      "  499.6373696   456.09112819  543.88864887  458.83957692  525.43858668\n",
      "  545.53220154  520.85037553  450.12062052  595.65329972  524.13249678\n",
      "  506.74388576  594.91550851  473.8598222   452.85824439  442.06660087\n",
      "  436.41430103  506.71650178  510.89095315  461.8094788   496.42069793\n",
      "  440.25758749  486.72379449  522.8697557   471.0404216   462.05808402\n",
      "  480.74861843  502.09696843  529.88739473  501.24099623  529.28942174\n",
      "  601.46698789  529.24680127  545.72676729  511.18422922  468.04391059\n",
      "  495.65966743  517.83671951  507.13458425  522.46169949  517.20022181\n",
      "  581.93816338  530.95101546  490.20904622  509.26973289  457.48378073\n",
      "  580.49819955  511.03974964  525.28723977  512.49349708  453.89690159\n",
      "  468.0302769   510.90834119  512.73225015  489.36555196  540.20595712\n",
      "  425.94820455  597.91316378  483.87871979  521.8146471   527.52919073\n",
      "  497.03031949  535.44917204  502.34855397  386.70575643  493.8881822\n",
      "  468.16124678  595.36081545  516.10333758  495.52304933  520.83681386\n",
      "  527.02900681  507.47139625  434.50138427  535.40669526  533.89068675\n",
      "  569.36211102  431.81802059  550.32818892  548.25944467  485.32280775\n",
      "  500.62297206  448.2179227   452.83364927  523.87119421  449.43780102\n",
      "  496.92296072  554.42571418  512.26664429  510.45202715  454.25228161\n",
      "  459.36382606  545.6518928   445.50888521  610.01731155  531.55017287\n",
      "  519.67278572  572.35455386  579.73569291  526.2046001   501.04012776\n",
      "  496.74468141  513.87940004  584.4587521   531.39983937  507.68460311\n",
      "  554.10244518  480.9070426   543.36531461  447.76047668  520.32317003\n",
      "  521.12155533  412.78539045  550.92617789  467.77214272  511.86688148\n",
      "  526.71623057  495.15487891  475.25174455  467.03451888  455.47990036\n",
      "  455.8162269   528.4349238   498.40861954  540.72459674  515.22490155\n",
      "  551.0187768   524.06171292  476.36728494  509.6208632   510.11205184\n",
      "  506.05713623  549.36561283  471.3155184   429.17744536  432.34772314\n",
      "  522.80749433  475.39973411  498.78554111  522.55886933  466.1171189\n",
      "  502.69315454  463.01826927  535.51592631  560.20967959  486.08855411\n",
      "  416.42306172  581.89702922  638.94960715  466.99155191  503.70593039\n",
      "  469.89179484  517.91155567  543.85671974  432.10962494  576.85195482\n",
      "  531.03294097  590.27474666  470.36641671  505.16395846  553.01283939\n",
      "  511.5399562   474.29801501  522.76259324  478.90491459  492.64380301\n",
      "  534.97230375  472.82336246  554.09411611  483.6057857   527.75223456\n",
      "  475.4431204   461.09967692  538.65196908  421.63906798  397.91264368\n",
      "  521.76462338  470.36889903  532.19642839  506.63934996  514.04405644\n",
      "  499.9445147   432.3192802   482.86700464  446.5675527   487.58927745\n",
      "  414.64933644  450.3654142   506.5844423   454.95312361  502.55936988\n",
      "  501.67434322  550.12823281  401.20608979  472.68092198  527.59913705\n",
      "  452.73770406  453.28492834  485.18610008  446.81109432  466.6176569\n",
      "  477.10721019  446.13336175  373.21164518  576.18496339  483.86139374\n",
      "  544.65068434  467.20978681  443.31837586  521.38623971  464.23830763\n",
      "  546.30260339  483.81169131  547.49418461  493.81634097  495.4257586\n",
      "  543.56863443  482.83326203  571.58635082  378.14602604  455.2566482\n",
      "  500.32372114  517.91936317  497.77331225  458.49186614  486.48397397\n",
      "  460.35621926  521.905331    428.15760826  488.47844732  549.47890045\n",
      "  468.11411836  495.67297073  485.03472801  439.26114556  479.77769368\n",
      "  556.81522634  504.56035442  491.92057299  489.62718641  469.7695797\n",
      "  468.30357033  553.92261755  444.96635624  474.14595667  457.94919068\n",
      "  454.91084144  421.1261834   544.92097037  434.85470787  527.99940826\n",
      "  522.37467168  457.05057519  487.74642275  483.98710802  491.12576137\n",
      "  438.27980854  470.11657268  460.02006496  488.20867248  483.66346373\n",
      "  470.35733839  581.02903059  457.67496635  472.91367816  546.50139454\n",
      "  460.36584231  633.81911638  488.17484814  546.33421089  507.93843885\n",
      "  514.38790087  537.92320826  557.4500051   422.27862641  494.95429979\n",
      "  596.50549784  450.94084281  459.17043851  504.75555032  460.91931401\n",
      "  474.3836818   494.72435925  539.8983951   465.70518658  523.25094183\n",
      "  392.30716642  429.66941003  494.37669134  419.53402771  528.93967872\n",
      "  563.02968307  578.74296126  558.303168    469.50785108  513.15582407\n",
      "  474.31976743  595.91253853  477.00010477  482.75405713  530.3756657\n",
      "  603.37899937  506.41390906  520.86443626  489.9469847   501.47360328\n",
      "  520.93733988  560.27969076  521.51218769  484.81786277  568.06520323\n",
      "  586.43050947  467.17179419  485.98256156  494.12269441  488.85274192\n",
      "  450.7813144   488.44771221  536.65264626  522.80862778  514.59610585\n",
      "  562.22639416  410.01411443  550.69827894  538.70313424  564.44618386\n",
      "  597.61027727  548.37919984  604.98952446  464.95634697  501.59953083\n",
      "  485.93013809  439.17028398  434.16338171  336.51450362  493.84802665\n",
      "  495.55496028  509.72211142  411.62625967  489.13253146  556.90086412\n",
      "  433.19165496  349.11324661  466.60246468  538.82622148  617.95522809\n",
      "  523.86775261  437.19686635  465.1966349   580.84792062  557.5454839\n",
      "  458.94480122  529.88738531  469.32522722  507.11893727  489.34444816\n",
      "  514.56564688  472.91922583  535.37004907  398.21253629  516.79946441\n",
      "  513.97157451  488.35835732  509.94918583  551.55551043  478.95374019\n",
      "  524.87031514  434.66992872  424.53821034  554.02263415  462.561303\n",
      "  492.59636831  485.29943649  470.73102612  493.1974868   502.11661239\n",
      "  556.84325794  590.69416864  503.50579562  471.21231147  555.27324316\n",
      "  421.01711938  497.03331712  513.36805356  468.02145987  397.95734576\n",
      "  529.58038578  539.19744142  419.18954759  456.38349286  511.27228446\n",
      "  525.19597683  516.64836139  544.24169756  551.04790902  465.13075037\n",
      "  439.96417531  394.69245112  498.62561973  497.25202451  404.07564235\n",
      "  478.59496415  507.73266167  541.69827287  496.87519295  444.36256363\n",
      "  545.51210077  513.21628817  494.79390553  541.47764301  411.29076409\n",
      "  426.76161526  447.05659454  541.08488966  542.45207033  565.3641195\n",
      "  545.15969473  532.02615167  483.04471679  547.60044872  537.93030893\n",
      "  439.72639707  565.63338389  582.7566052   529.75001102  529.38284384\n",
      "  436.57369194  532.71920226  529.61969184  495.07845154  513.59628563\n",
      "  530.8311613   474.28833376  527.4440281   454.57992297  503.41410483\n",
      "  543.01718588  586.1394675   540.29932419  444.65870717  498.62391578\n",
      "  462.53369463  519.84957743  514.80050866  604.09347208  587.50241515\n",
      "  445.00260199  622.70412844  607.0931207   527.5849078   444.95763127\n",
      "  419.46416883  478.2554582   512.0304324   594.84519245  489.33985041\n",
      "  418.80953235  424.50906206  481.93879515  565.42997802  484.46960772\n",
      "  527.70072898  451.33503452  529.53270795  514.41670982  497.43305861\n",
      "  537.22234545  506.25375256  492.81879247  461.9847718   538.40480447\n",
      "  429.73866782  546.66017883  474.28426245  523.16020556  541.83808527\n",
      "  493.12904373  575.16953669  552.64797518  484.30474436  502.276146\n",
      "  563.44909708  526.55760024  521.39233829  451.27034783  477.42471957\n",
      "  472.35209131  575.59785712  493.29416076  501.73773593  497.41197991\n",
      "  519.83467443  503.42600975  504.94775817  539.16871348  472.06499139\n",
      "  513.66066643  385.56542779  491.8369223   537.81911145  525.04770859\n",
      "  421.71491467  436.23398031  515.69009005  477.48754301  616.41236963\n",
      "  496.95544804  497.44292329  466.83075763  501.78032715  523.70691707\n",
      "  497.74199239  568.8516206   492.94165781  426.91391207  459.94321635\n",
      "  460.66046943  453.17581327  460.81552377  470.74760309  569.97441964\n",
      "  533.96629952  410.32246521  529.18663243  517.08858063  490.80479536\n",
      "  578.30656169  472.21295353  561.39047128  497.26554986  564.41753933\n",
      "  478.06774706  394.07295874  513.53011024  450.08674677  465.03423889\n",
      "  546.1690669   492.4478357   401.8507096   590.97109583  509.02063723\n",
      "  509.82923738  373.96244461  418.43362795  601.41464491  445.57403105\n",
      "  460.99611909  449.3724199   510.5729487   501.49269398  584.46440288\n",
      "  484.23313868  519.72248964  431.55596946  510.26379186  463.35594118\n",
      "  535.52678805  456.13528465  505.04349247  416.04796034  441.35562977\n",
      "  499.62837163  547.5984525   537.40555825  577.4514787   558.81491256\n",
      "  478.1299205   545.50347776  423.2475443   523.3590302   459.0748494\n",
      "  569.51548402  434.88619087  429.43054862  512.95626447  516.63783854\n",
      "  490.23951658  505.71441769  463.75636275  527.75201692  482.40321121\n",
      "  411.24536593  494.15673771  471.77129962  586.98590744  526.24783879\n",
      "  512.62289457  522.29053797  530.22939877  479.95203799  504.82595757\n",
      "  430.72175171  548.29924931  464.94493564  452.96393078  522.48813134\n",
      "  500.35112473  458.29190919  564.63721945  471.09481274  536.95213761\n",
      "  537.53069926  442.67001003  453.8785014   556.76478234  539.00476077\n",
      "  455.13226933  474.90463063  506.6168558   502.90889025  459.51726972\n",
      "  568.94534013  485.16849878  581.13609976  605.89195537  448.63196094\n",
      "  604.78367126  535.02449339  530.44501259  609.53635194  490.72714034\n",
      "  525.83832638  489.99858008  529.7132902   549.68489738  522.39335552\n",
      "  625.9110748   546.3150068   455.51128052  629.3311719   537.85831196\n",
      "  456.7002347   485.09500472  490.6023386   549.66946068  437.17809259\n",
      "  609.04407439  517.52232217  478.43652708  426.79961712  515.24820506\n",
      "  549.62688257  486.43129272  583.13436292  490.36118094  420.40316268\n",
      "  603.84962942  503.59849488  551.22157912  533.95320679  529.97954249\n",
      "  480.48446445  513.55747915  552.18827021  458.10043519  530.89007173\n",
      "  524.76638576  406.16014553  550.01233037  587.28361261  472.33678357\n",
      "  499.71862796  455.83672078  491.83743321  547.2537991   448.712178\n",
      "  488.75835424  505.50413702  533.80309636  561.04500662  545.61245278\n",
      "  570.53489166  498.29502287  504.69611814  473.68199348  572.36551121\n",
      "  455.55701267  508.92471861  572.14451673  550.54163955  398.70466445\n",
      "  545.16873409  587.43548561  480.38109196  444.33583151  545.39029966\n",
      "  541.17149014  539.76817302  435.15909644  581.1219663   448.73464717\n",
      "  524.68098017  588.50768602  480.82388252  521.55002371  576.2726885\n",
      "  513.85611355  464.81712169  457.81661137  560.46756191  534.81285848\n",
      "  489.72539337  529.84645719  493.1796145   499.42917384  440.86255079\n",
      "  579.55470687  592.48186304  463.67082107  479.89069824  534.39381469\n",
      "  495.69342106  464.49910702  489.56411077  520.59844729  540.69061254\n",
      "  445.74226191  466.69224263  472.95871614  436.11325401  535.5640013\n",
      "  447.50854363  459.88800499  558.49327607  522.49019798  482.04818994\n",
      "  574.80760413  550.80922793  555.6195108   455.53454893  480.82151209\n",
      "  488.55825165  368.23157395  535.06053051  498.63837455  483.75499978\n",
      "  431.69759985  539.50868585  495.4378999   453.04804857  506.58189761\n",
      "  452.17302916  531.78526794  523.76657552  504.28402133  582.25353407\n",
      "  492.70809948  507.42262265  485.04542626  419.10880733  514.14810444\n",
      "  490.7343365   515.05994937  423.83115675  546.7646391   501.85938021\n",
      "  490.72776099  611.4260868   549.624595    531.38422022  499.49412357\n",
      "  574.03418003  543.26362953  482.54311319  462.30467178  544.69655324\n",
      "  473.96155194  476.26789949  550.56457386  527.83890213  514.99137725\n",
      "  556.68305705  531.80159443  476.28557632  497.45111498  507.85650334\n",
      "  470.55379152  516.9097516   410.6767422   559.65924986  492.0341297\n",
      "  559.32858845  619.03216925  637.24551069  540.02471109  413.88106966\n",
      "  459.95430644  506.2160891   567.72433476  537.89642693  426.70115898\n",
      "  525.20334901  501.87177433  523.24613645  396.15122401  508.45436652\n",
      "  473.35830562  483.08474146  411.38655636  420.41090812  546.13073395\n",
      "  511.32062397  472.33004365  591.35730038  451.92634029  526.35846092\n",
      "  546.60170055  435.08815788  565.66862149  444.32905259  443.91498281\n",
      "  458.08814493  420.18722813  520.4723057   488.32668471  535.66390327\n",
      "  444.91242315  424.71215052  464.08734052  521.43105906  531.71558911\n",
      "  501.44683086  379.01080543  536.99340383  469.18885477  528.42722376]\n"
     ]
    }
   ],
   "source": [
    "mean = 500\n",
    "std = 50\n",
    "size = 1000\n",
    "data = np.random.normal(loc=mean, scale=std, size=size)\n",
    "print data"
   ]
  },
  {
   "cell_type": "code",
   "execution_count": 16,
   "metadata": {
    "collapsed": false
   },
   "outputs": [
    {
     "data": {
      "text/plain": [
       "<matplotlib.text.Text at 0x1105ac8d0>"
      ]
     },
     "execution_count": 16,
     "metadata": {},
     "output_type": "execute_result"
    },
    {
     "data": {
      "image/png": "[encoded data removed]",
      "text/plain": [
       "<matplotlib.figure.Figure at 0x1067f21d0>"
      ]
     },
     "metadata": {
      "image/png": {
       "height": 390,
       "width": 551
      }
     },
     "output_type": "display_data"
    }
   ],
   "source": [
    "plt.hist(data)\n",
    "plt.title(\"Histogram\")\n",
    "plt.xlabel(\"Data\")\n",
    "plt.ylabel(\"Freq\")"
   ]
  },
  {
   "cell_type": "markdown",
   "metadata": {},
   "source": [
    "Bokeh is a Python interactive visualization library that targets modern web browsers for presentation. Bokeh provides elegant, concise construction of novel graphics with high-performance interactivity over very large or streaming datasets in a quick and easy way.\n",
    "\n",
    "http://bokeh.pydata.org/en/latest/docs/user_guide.html\n",
    "\n",
    "http://bokeh.pydata.org/en/latest/"
   ]
  },
  {
   "cell_type": "code",
   "execution_count": 61,
   "metadata": {
    "collapsed": true
   },
   "outputs": [],
   "source": [
    "from bokeh.io import push_notebook, show, output_notebook\n",
    "from bokeh.plotting import figure, output_file, show"
   ]
  },
  {
   "cell_type": "markdown",
   "metadata": {},
   "source": [
    "In this case, we are in the Jupyter notebook, so call output_notebook(). We only need to call this once, and all subsequent calls to show() will display inline in the notebook."
   ]
  },
  {
   "cell_type": "code",
   "execution_count": 62,
   "metadata": {
    "collapsed": false
   },
   "outputs": [
    {
     "data": {
      "text/html": [
       "\n",
       "    <div class=\"bk-root\">\n",
       "        <a href=\"http://bokeh.pydata.org\" target=\"_blank\" class=\"bk-logo bk-logo-small bk-logo-notebook\"></a>\n",
       "        <span id=\"f39d48f2-db24-417b-a65f-796dfe868f4d\">Loading BokehJS ...</span>\n",
       "    </div>"
      ]
     },
     "metadata": {},
     "output_type": "display_data"
    },
    {
     "data": {
      "application/javascript": [
       "\n",
       "(function(global) {\n",
       "  function now() {\n",
       "    return new Date();\n",
       "  }\n",
       "\n",
       "  var force = \"1\";\n",
       "\n",
       "  if (typeof (window._bokeh_onload_callbacks) === \"undefined\" || force !== \"\") {\n",
       "    window._bokeh_onload_callbacks = [];\n",
       "    window._bokeh_is_loading = undefined;\n",
       "  }\n",
       "\n",
       "\n",
       "  \n",
       "  if (typeof (window._bokeh_timeout) === \"undefined\" || force !== \"\") {\n",
       "    window._bokeh_timeout = Date.now() + 5000;\n",
       "    window._bokeh_failed_load = false;\n",
       "  }\n",
       "\n",
       "  var NB_LOAD_WARNING = {'data': {'text/html':\n",
       "     \"<div style='background-color: #fdd'>\\n\"+\n",
       "     \"<p>\\n\"+\n",
       "     \"BokehJS does not appear to have successfully loaded. If loading BokehJS from CDN, this \\n\"+\n",
       "     \"may be due to a slow or bad network connection. Possible fixes:\\n\"+\n",
       "     \"</p>\\n\"+\n",
       "     \"<ul>\\n\"+\n",
       "     \"<li>re-rerun `output_notebook()` to attempt to load from CDN again, or</li>\\n\"+\n",
       "     \"<li>use INLINE resources instead, as so:</li>\\n\"+\n",
       "     \"</ul>\\n\"+\n",
       "     \"<code>\\n\"+\n",
       "     \"from bokeh.resources import INLINE\\n\"+\n",
       "     \"output_notebook(resources=INLINE)\\n\"+\n",
       "     \"</code>\\n\"+\n",
       "     \"</div>\"}};\n",
       "\n",
       "  function display_loaded() {\n",
       "    if (window.Bokeh !== undefined) {\n",
       "      Bokeh.$(\"#f39d48f2-db24-417b-a65f-796dfe868f4d\").text(\"BokehJS successfully loaded.\");\n",
       "    } else if (Date.now() < window._bokeh_timeout) {\n",
       "      setTimeout(display_loaded, 100)\n",
       "    }\n",
       "  }\n",
       "\n",
       "  function run_callbacks() {\n",
       "    window._bokeh_onload_callbacks.forEach(function(callback) { callback() });\n",
       "    delete window._bokeh_onload_callbacks\n",
       "    console.info(\"Bokeh: all callbacks have finished\");\n",
       "  }\n",
       "\n",
       "  function load_libs(js_urls, callback) {\n",
       "    window._bokeh_onload_callbacks.push(callback);\n",
       "    if (window._bokeh_is_loading > 0) {\n",
       "      console.log(\"Bokeh: BokehJS is being loaded, scheduling callback at\", now());\n",
       "      return null;\n",
       "    }\n",
       "    if (js_urls == null || js_urls.length === 0) {\n",
       "      run_callbacks();\n",
       "      return null;\n",
       "    }\n",
       "    console.log(\"Bokeh: BokehJS not loaded, scheduling load and callback at\", now());\n",
       "    window._bokeh_is_loading = js_urls.length;\n",
       "    for (var i = 0; i < js_urls.length; i++) {\n",
       "      var url = js_urls[i];\n",
       "      var s = document.createElement('script');\n",
       "      s.src = url;\n",
       "      s.async = false;\n",
       "      s.onreadystatechange = s.onload = function() {\n",
       "        window._bokeh_is_loading--;\n",
       "        if (window._bokeh_is_loading === 0) {\n",
       "          console.log(\"Bokeh: all BokehJS libraries loaded\");\n",
       "          run_callbacks()\n",
       "        }\n",
       "      };\n",
       "      s.onerror = function() {\n",
       "        console.warn(\"failed to load library \" + url);\n",
       "      };\n",
       "      console.log(\"Bokeh: injecting script tag for BokehJS library: \", url);\n",
       "      document.getElementsByTagName(\"head\")[0].appendChild(s);\n",
       "    }\n",
       "  };var element = document.getElementById(\"f39d48f2-db24-417b-a65f-796dfe868f4d\");\n",
       "  if (element == null) {\n",
       "    console.log(\"Bokeh: ERROR: autoload.js configured with elementid 'f39d48f2-db24-417b-a65f-796dfe868f4d' but no matching script tag was found. \")\n",
       "    return false;\n",
       "  }\n",
       "\n",
       "  var js_urls = ['https://cdn.pydata.org/bokeh/release/bokeh-0.12.2.min.js', 'https://cdn.pydata.org/bokeh/release/bokeh-widgets-0.12.2.min.js', 'https://cdn.pydata.org/bokeh/release/bokeh-compiler-0.12.2.min.js'];\n",
       "\n",
       "  var inline_js = [\n",
       "    function(Bokeh) {\n",
       "      Bokeh.set_log_level(\"info\");\n",
       "    },\n",
       "    \n",
       "    function(Bokeh) {\n",
       "      \n",
       "      Bokeh.$(\"#f39d48f2-db24-417b-a65f-796dfe868f4d\").text(\"BokehJS is loading...\");\n",
       "    },\n",
       "    function(Bokeh) {\n",
       "      console.log(\"Bokeh: injecting CSS: https://cdn.pydata.org/bokeh/release/bokeh-0.12.2.min.css\");\n",
       "      Bokeh.embed.inject_css(\"https://cdn.pydata.org/bokeh/release/bokeh-0.12.2.min.css\");\n",
       "      console.log(\"Bokeh: injecting CSS: https://cdn.pydata.org/bokeh/release/bokeh-widgets-0.12.2.min.css\");\n",
       "      Bokeh.embed.inject_css(\"https://cdn.pydata.org/bokeh/release/bokeh-widgets-0.12.2.min.css\");\n",
       "    }\n",
       "  ];\n",
       "\n",
       "  function run_inline_js() {\n",
       "    \n",
       "    if ((window.Bokeh !== undefined) || (force === \"1\")) {\n",
       "      for (var i = 0; i < inline_js.length; i++) {\n",
       "        inline_js[i](window.Bokeh);\n",
       "      }if (force === \"1\") {\n",
       "        display_loaded();\n",
       "      }} else if (Date.now() < window._bokeh_timeout) {\n",
       "      setTimeout(run_inline_js, 100);\n",
       "    } else if (!window._bokeh_failed_load) {\n",
       "      console.log(\"Bokeh: BokehJS failed to load within specified timeout.\");\n",
       "      window._bokeh_failed_load = true;\n",
       "    } else if (!force) {\n",
       "      var cell = $(\"#f39d48f2-db24-417b-a65f-796dfe868f4d\").parents('.cell').data().cell;\n",
       "      cell.output_area.append_execute_result(NB_LOAD_WARNING)\n",
       "    }\n",
       "\n",
       "  }\n",
       "\n",
       "  if (window._bokeh_is_loading === 0) {\n",
       "    console.log(\"Bokeh: BokehJS loaded, going straight to plotting\");\n",
       "    run_inline_js();\n",
       "  } else {\n",
       "    load_libs(js_urls, function() {\n",
       "      console.log(\"Bokeh: BokehJS plotting callback run at\", now());\n",
       "      run_inline_js();\n",
       "    });\n",
       "  }\n",
       "}(this));"
      ]
     },
     "metadata": {},
     "output_type": "display_data"
    },
    {
     "name": "stderr",
     "output_type": "stream",
     "text": [
      "INFO:bokeh.core.state:Session output file 'data/Chap_3/lines.html' already exists, will be overwritten.\n"
     ]
    },
    {
     "data": {
      "text/html": [
       "\n",
       "\n",
       "    <div class=\"bk-root\">\n",
       "        <div class=\"plotdiv\" id=\"89f15586-10ef-44b1-9bc2-7646dee4828e\"></div>\n",
       "    </div>\n",
       "<script type=\"text/javascript\">\n",
       "  \n",
       "  (function(global) {\n",
       "    function now() {\n",
       "      return new Date();\n",
       "    }\n",
       "  \n",
       "    var force = \"\";\n",
       "  \n",
       "    if (typeof (window._bokeh_onload_callbacks) === \"undefined\" || force !== \"\") {\n",
       "      window._bokeh_onload_callbacks = [];\n",
       "      window._bokeh_is_loading = undefined;\n",
       "    }\n",
       "  \n",
       "  \n",
       "    \n",
       "    if (typeof (window._bokeh_timeout) === \"undefined\" || force !== \"\") {\n",
       "      window._bokeh_timeout = Date.now() + 0;\n",
       "      window._bokeh_failed_load = false;\n",
       "    }\n",
       "  \n",
       "    var NB_LOAD_WARNING = {'data': {'text/html':\n",
       "       \"<div style='background-color: #fdd'>\\n\"+\n",
       "       \"<p>\\n\"+\n",
       "       \"BokehJS does not appear to have successfully loaded. If loading BokehJS from CDN, this \\n\"+\n",
       "       \"may be due to a slow or bad network connection. Possible fixes:\\n\"+\n",
       "       \"</p>\\n\"+\n",
       "       \"<ul>\\n\"+\n",
       "       \"<li>re-rerun `output_notebook()` to attempt to load from CDN again, or</li>\\n\"+\n",
       "       \"<li>use INLINE resources instead, as so:</li>\\n\"+\n",
       "       \"</ul>\\n\"+\n",
       "       \"<code>\\n\"+\n",
       "       \"from bokeh.resources import INLINE\\n\"+\n",
       "       \"output_notebook(resources=INLINE)\\n\"+\n",
       "       \"</code>\\n\"+\n",
       "       \"</div>\"}};\n",
       "  \n",
       "    function display_loaded() {\n",
       "      if (window.Bokeh !== undefined) {\n",
       "        Bokeh.$(\"#89f15586-10ef-44b1-9bc2-7646dee4828e\").text(\"BokehJS successfully loaded.\");\n",
       "      } else if (Date.now() < window._bokeh_timeout) {\n",
       "        setTimeout(display_loaded, 100)\n",
       "      }\n",
       "    }\n",
       "  \n",
       "    function run_callbacks() {\n",
       "      window._bokeh_onload_callbacks.forEach(function(callback) { callback() });\n",
       "      delete window._bokeh_onload_callbacks\n",
       "      console.info(\"Bokeh: all callbacks have finished\");\n",
       "    }\n",
       "  \n",
       "    function load_libs(js_urls, callback) {\n",
       "      window._bokeh_onload_callbacks.push(callback);\n",
       "      if (window._bokeh_is_loading > 0) {\n",
       "        console.log(\"Bokeh: BokehJS is being loaded, scheduling callback at\", now());\n",
       "        return null;\n",
       "      }\n",
       "      if (js_urls == null || js_urls.length === 0) {\n",
       "        run_callbacks();\n",
       "        return null;\n",
       "      }\n",
       "      console.log(\"Bokeh: BokehJS not loaded, scheduling load and callback at\", now());\n",
       "      window._bokeh_is_loading = js_urls.length;\n",
       "      for (var i = 0; i < js_urls.length; i++) {\n",
       "        var url = js_urls[i];\n",
       "        var s = document.createElement('script');\n",
       "        s.src = url;\n",
       "        s.async = false;\n",
       "        s.onreadystatechange = s.onload = function() {\n",
       "          window._bokeh_is_loading--;\n",
       "          if (window._bokeh_is_loading === 0) {\n",
       "            console.log(\"Bokeh: all BokehJS libraries loaded\");\n",
       "            run_callbacks()\n",
       "          }\n",
       "        };\n",
       "        s.onerror = function() {\n",
       "          console.warn(\"failed to load library \" + url);\n",
       "        };\n",
       "        console.log(\"Bokeh: injecting script tag for BokehJS library: \", url);\n",
       "        document.getElementsByTagName(\"head\")[0].appendChild(s);\n",
       "      }\n",
       "    };var element = document.getElementById(\"89f15586-10ef-44b1-9bc2-7646dee4828e\");\n",
       "    if (element == null) {\n",
       "      console.log(\"Bokeh: ERROR: autoload.js configured with elementid '89f15586-10ef-44b1-9bc2-7646dee4828e' but no matching script tag was found. \")\n",
       "      return false;\n",
       "    }\n",
       "  \n",
       "    var js_urls = [];\n",
       "  \n",
       "    var inline_js = [\n",
       "      function(Bokeh) {\n",
       "        Bokeh.$(function() {\n",
       "            var docs_json = {\"4e654ce1-411d-4b67-960b-710665371e91\":{\"roots\":{\"references\":[{\"attributes\":{\"axis_label\":\"x\",\"formatter\":{\"id\":\"d89e2acb-8691-43bd-ad10-0991b2eda058\",\"type\":\"BasicTickFormatter\"},\"plot\":{\"id\":\"d0a27e64-070b-4c56-9da7-b852989b4372\",\"subtype\":\"Figure\",\"type\":\"Plot\"},\"ticker\":{\"id\":\"8d3fcd6e-464a-438d-b8d9-d2159926f18d\",\"type\":\"BasicTicker\"}},\"id\":\"949ec9c3-4a9d-4ad6-ab92-8ec3247f1e9f\",\"type\":\"LinearAxis\"},{\"attributes\":{\"callback\":null},\"id\":\"511ccbf5-ced1-4be2-b777-5e2089fead09\",\"type\":\"DataRange1d\"},{\"attributes\":{\"dimension\":1,\"plot\":{\"id\":\"d0a27e64-070b-4c56-9da7-b852989b4372\",\"subtype\":\"Figure\",\"type\":\"Plot\"},\"ticker\":{\"id\":\"1ef696cd-f07c-4ca5-941a-415b1248e9eb\",\"type\":\"BasicTicker\"}},\"id\":\"7499bd74-44ea-4d49-8362-c8a50a58eeb7\",\"type\":\"Grid\"},{\"attributes\":{},\"id\":\"1ef696cd-f07c-4ca5-941a-415b1248e9eb\",\"type\":\"BasicTicker\"},{\"attributes\":{\"line_alpha\":{\"value\":0.1},\"line_color\":{\"value\":\"#1f77b4\"},\"line_width\":{\"value\":2},\"x\":{\"field\":\"x\"},\"y\":{\"field\":\"y\"}},\"id\":\"9dcb455d-1024-4174-8f20-2af0212b5db3\",\"type\":\"Line\"},{\"attributes\":{\"line_color\":{\"value\":\"#1f77b4\"},\"line_width\":{\"value\":2},\"x\":{\"field\":\"x\"},\"y\":{\"field\":\"y\"}},\"id\":\"01838318-8382-4046-9c52-ab7dade70b05\",\"type\":\"Line\"},{\"attributes\":{},\"id\":\"d89e2acb-8691-43bd-ad10-0991b2eda058\",\"type\":\"BasicTickFormatter\"},{\"attributes\":{\"bottom_units\":\"screen\",\"fill_alpha\":{\"value\":0.5},\"fill_color\":{\"value\":\"lightgrey\"},\"left_units\":\"screen\",\"level\":\"overlay\",\"line_alpha\":{\"value\":1.0},\"line_color\":{\"value\":\"black\"},\"line_dash\":[4,4],\"line_width\":{\"value\":2},\"plot\":null,\"render_mode\":\"css\",\"right_units\":\"screen\",\"top_units\":\"screen\"},\"id\":\"c4c7c929-422e-4e57-bd2a-12eb79d90161\",\"type\":\"BoxAnnotation\"},{\"attributes\":{\"axis_label\":\"y\",\"formatter\":{\"id\":\"07821048-49bb-45e5-878d-d77a1d3f2873\",\"type\":\"BasicTickFormatter\"},\"plot\":{\"id\":\"d0a27e64-070b-4c56-9da7-b852989b4372\",\"subtype\":\"Figure\",\"type\":\"Plot\"},\"ticker\":{\"id\":\"1ef696cd-f07c-4ca5-941a-415b1248e9eb\",\"type\":\"BasicTicker\"}},\"id\":\"d1ada352-65b8-49d3-8f15-2e6e3ab288f6\",\"type\":\"LinearAxis\"},{\"attributes\":{\"legends\":[[\"Temp.\",[{\"id\":\"1a009a1a-463b-4b75-aec0-14fc4f8d3f72\",\"type\":\"GlyphRenderer\"}]]],\"plot\":{\"id\":\"d0a27e64-070b-4c56-9da7-b852989b4372\",\"subtype\":\"Figure\",\"type\":\"Plot\"}},\"id\":\"710eaba6-bfcc-43a3-86b6-09fa0b4a5789\",\"type\":\"Legend\"},{\"attributes\":{\"plot\":{\"id\":\"d0a27e64-070b-4c56-9da7-b852989b4372\",\"subtype\":\"Figure\",\"type\":\"Plot\"}},\"id\":\"73be79d3-d806-4bef-822a-e0b6e32b11d2\",\"type\":\"PanTool\"},{\"attributes\":{},\"id\":\"57eed117-08a0-41bd-8409-e451bc95e57e\",\"type\":\"ToolEvents\"},{\"attributes\":{\"data_source\":{\"id\":\"44b37c6f-5f5c-44ae-82c7-fbe49b4b732b\",\"type\":\"ColumnDataSource\"},\"glyph\":{\"id\":\"01838318-8382-4046-9c52-ab7dade70b05\",\"type\":\"Line\"},\"hover_glyph\":null,\"nonselection_glyph\":{\"id\":\"9dcb455d-1024-4174-8f20-2af0212b5db3\",\"type\":\"Line\"},\"selection_glyph\":null},\"id\":\"1a009a1a-463b-4b75-aec0-14fc4f8d3f72\",\"type\":\"GlyphRenderer\"},{\"attributes\":{\"callback\":null},\"id\":\"a86c320e-7aad-4880-9eda-00569bca5e16\",\"type\":\"DataRange1d\"},{\"attributes\":{},\"id\":\"8d3fcd6e-464a-438d-b8d9-d2159926f18d\",\"type\":\"BasicTicker\"},{\"attributes\":{\"plot\":null,\"text\":\"simple line example\"},\"id\":\"4cc27472-cee1-4d35-ac8e-1ae3b591d2a4\",\"type\":\"Title\"},{\"attributes\":{\"below\":[{\"id\":\"949ec9c3-4a9d-4ad6-ab92-8ec3247f1e9f\",\"type\":\"LinearAxis\"}],\"left\":[{\"id\":\"d1ada352-65b8-49d3-8f15-2e6e3ab288f6\",\"type\":\"LinearAxis\"}],\"renderers\":[{\"id\":\"949ec9c3-4a9d-4ad6-ab92-8ec3247f1e9f\",\"type\":\"LinearAxis\"},{\"id\":\"4e41c843-32be-471d-b330-1a20a6054cc5\",\"type\":\"Grid\"},{\"id\":\"d1ada352-65b8-49d3-8f15-2e6e3ab288f6\",\"type\":\"LinearAxis\"},{\"id\":\"7499bd74-44ea-4d49-8362-c8a50a58eeb7\",\"type\":\"Grid\"},{\"id\":\"c4c7c929-422e-4e57-bd2a-12eb79d90161\",\"type\":\"BoxAnnotation\"},{\"id\":\"710eaba6-bfcc-43a3-86b6-09fa0b4a5789\",\"type\":\"Legend\"},{\"id\":\"1a009a1a-463b-4b75-aec0-14fc4f8d3f72\",\"type\":\"GlyphRenderer\"}],\"title\":{\"id\":\"4cc27472-cee1-4d35-ac8e-1ae3b591d2a4\",\"type\":\"Title\"},\"tool_events\":{\"id\":\"57eed117-08a0-41bd-8409-e451bc95e57e\",\"type\":\"ToolEvents\"},\"toolbar\":{\"id\":\"da4142df-0941-46b9-b62b-d6cc910150b4\",\"type\":\"Toolbar\"},\"x_range\":{\"id\":\"511ccbf5-ced1-4be2-b777-5e2089fead09\",\"type\":\"DataRange1d\"},\"y_range\":{\"id\":\"a86c320e-7aad-4880-9eda-00569bca5e16\",\"type\":\"DataRange1d\"}},\"id\":\"d0a27e64-070b-4c56-9da7-b852989b4372\",\"subtype\":\"Figure\",\"type\":\"Plot\"},{\"attributes\":{\"plot\":{\"id\":\"d0a27e64-070b-4c56-9da7-b852989b4372\",\"subtype\":\"Figure\",\"type\":\"Plot\"},\"ticker\":{\"id\":\"8d3fcd6e-464a-438d-b8d9-d2159926f18d\",\"type\":\"BasicTicker\"}},\"id\":\"4e41c843-32be-471d-b330-1a20a6054cc5\",\"type\":\"Grid\"},{\"attributes\":{\"overlay\":{\"id\":\"c4c7c929-422e-4e57-bd2a-12eb79d90161\",\"type\":\"BoxAnnotation\"},\"plot\":{\"id\":\"d0a27e64-070b-4c56-9da7-b852989b4372\",\"subtype\":\"Figure\",\"type\":\"Plot\"}},\"id\":\"20258cb3-e986-4ad0-89b6-be08deb3dd70\",\"type\":\"BoxZoomTool\"},{\"attributes\":{\"active_drag\":\"auto\",\"active_scroll\":\"auto\",\"active_tap\":\"auto\",\"tools\":[{\"id\":\"73be79d3-d806-4bef-822a-e0b6e32b11d2\",\"type\":\"PanTool\"},{\"id\":\"a2a50a55-3a89-4147-a8e9-97e09d902467\",\"type\":\"WheelZoomTool\"},{\"id\":\"20258cb3-e986-4ad0-89b6-be08deb3dd70\",\"type\":\"BoxZoomTool\"},{\"id\":\"7a5e6960-ed16-4279-9342-cd9f5986f9fa\",\"type\":\"SaveTool\"},{\"id\":\"894d48a0-841d-4143-839d-576a4fc91817\",\"type\":\"ResetTool\"},{\"id\":\"c6a002a2-522d-4871-83fb-dd6cccdd0ea5\",\"type\":\"HelpTool\"}]},\"id\":\"da4142df-0941-46b9-b62b-d6cc910150b4\",\"type\":\"Toolbar\"},{\"attributes\":{\"callback\":null,\"column_names\":[\"y\",\"x\"],\"data\":{\"x\":[1,2,3,4,5],\"y\":[6,7,2,4,5]}},\"id\":\"44b37c6f-5f5c-44ae-82c7-fbe49b4b732b\",\"type\":\"ColumnDataSource\"},{\"attributes\":{\"plot\":{\"id\":\"d0a27e64-070b-4c56-9da7-b852989b4372\",\"subtype\":\"Figure\",\"type\":\"Plot\"}},\"id\":\"7a5e6960-ed16-4279-9342-cd9f5986f9fa\",\"type\":\"SaveTool\"},{\"attributes\":{\"plot\":{\"id\":\"d0a27e64-070b-4c56-9da7-b852989b4372\",\"subtype\":\"Figure\",\"type\":\"Plot\"}},\"id\":\"a2a50a55-3a89-4147-a8e9-97e09d902467\",\"type\":\"WheelZoomTool\"},{\"attributes\":{\"plot\":{\"id\":\"d0a27e64-070b-4c56-9da7-b852989b4372\",\"subtype\":\"Figure\",\"type\":\"Plot\"}},\"id\":\"894d48a0-841d-4143-839d-576a4fc91817\",\"type\":\"ResetTool\"},{\"attributes\":{},\"id\":\"07821048-49bb-45e5-878d-d77a1d3f2873\",\"type\":\"BasicTickFormatter\"},{\"attributes\":{\"plot\":{\"id\":\"d0a27e64-070b-4c56-9da7-b852989b4372\",\"subtype\":\"Figure\",\"type\":\"Plot\"}},\"id\":\"c6a002a2-522d-4871-83fb-dd6cccdd0ea5\",\"type\":\"HelpTool\"}],\"root_ids\":[\"d0a27e64-070b-4c56-9da7-b852989b4372\"]},\"title\":\"Bokeh Application\",\"version\":\"0.12.2\"}};\n",
       "            var render_items = [{\"docid\":\"4e654ce1-411d-4b67-960b-710665371e91\",\"elementid\":\"89f15586-10ef-44b1-9bc2-7646dee4828e\",\"modelid\":\"d0a27e64-070b-4c56-9da7-b852989b4372\"}];\n",
       "            \n",
       "            Bokeh.embed.embed_items(docs_json, render_items);\n",
       "        });\n",
       "      },\n",
       "      function(Bokeh) {\n",
       "      }\n",
       "    ];\n",
       "  \n",
       "    function run_inline_js() {\n",
       "      \n",
       "      if ((window.Bokeh !== undefined) || (force === \"1\")) {\n",
       "        for (var i = 0; i < inline_js.length; i++) {\n",
       "          inline_js[i](window.Bokeh);\n",
       "        }if (force === \"1\") {\n",
       "          display_loaded();\n",
       "        }} else if (Date.now() < window._bokeh_timeout) {\n",
       "        setTimeout(run_inline_js, 100);\n",
       "      } else if (!window._bokeh_failed_load) {\n",
       "        console.log(\"Bokeh: BokehJS failed to load within specified timeout.\");\n",
       "        window._bokeh_failed_load = true;\n",
       "      } else if (!force) {\n",
       "        var cell = $(\"#89f15586-10ef-44b1-9bc2-7646dee4828e\").parents('.cell').data().cell;\n",
       "        cell.output_area.append_execute_result(NB_LOAD_WARNING)\n",
       "      }\n",
       "  \n",
       "    }\n",
       "  \n",
       "    if (window._bokeh_is_loading === 0) {\n",
       "      console.log(\"Bokeh: BokehJS loaded, going straight to plotting\");\n",
       "      run_inline_js();\n",
       "    } else {\n",
       "      load_libs(js_urls, function() {\n",
       "        console.log(\"Bokeh: BokehJS plotting callback run at\", now());\n",
       "        run_inline_js();\n",
       "      });\n",
       "    }\n",
       "  }(this));\n",
       "</script>"
      ]
     },
     "metadata": {},
     "output_type": "display_data"
    }
   ],
   "source": [
    "output_notebook()\n",
    "# prepare some data\n",
    "x = [1, 2, 3, 4, 5]\n",
    "y = [6, 7, 2, 4, 5]\n",
    "\n",
    "# output to static HTML file\n",
    "output_file(\"data/Chap_3/lines.html\")\n",
    "\n",
    "# create a new plot with a title and axis labels\n",
    "p = figure(title=\"simple line example\", x_axis_label='x', y_axis_label='y')\n",
    "\n",
    "# add a line renderer with legend and line thickness\n",
    "p.line(x, y, legend=\"Temp.\", line_width=2)\n",
    "\n",
    "# show the results\n",
    "show(p)"
   ]
  },
  {
   "cell_type": "code",
   "execution_count": 63,
   "metadata": {
    "collapsed": false
   },
   "outputs": [
    {
     "data": {
      "text/html": [
       "\n",
       "\n",
       "    <div class=\"bk-root\">\n",
       "        <div class=\"plotdiv\" id=\"ddb49773-4c8c-47a4-9db8-8c7744caaa62\"></div>\n",
       "    </div>\n",
       "<script type=\"text/javascript\">\n",
       "  \n",
       "  (function(global) {\n",
       "    function now() {\n",
       "      return new Date();\n",
       "    }\n",
       "  \n",
       "    var force = \"\";\n",
       "  \n",
       "    if (typeof (window._bokeh_onload_callbacks) === \"undefined\" || force !== \"\") {\n",
       "      window._bokeh_onload_callbacks = [];\n",
       "      window._bokeh_is_loading = undefined;\n",
       "    }\n",
       "  \n",
       "  \n",
       "    \n",
       "    if (typeof (window._bokeh_timeout) === \"undefined\" || force !== \"\") {\n",
       "      window._bokeh_timeout = Date.now() + 0;\n",
       "      window._bokeh_failed_load = false;\n",
       "    }\n",
       "  \n",
       "    var NB_LOAD_WARNING = {'data': {'text/html':\n",
       "       \"<div style='background-color: #fdd'>\\n\"+\n",
       "       \"<p>\\n\"+\n",
       "       \"BokehJS does not appear to have successfully loaded. If loading BokehJS from CDN, this \\n\"+\n",
       "       \"may be due to a slow or bad network connection. Possible fixes:\\n\"+\n",
       "       \"</p>\\n\"+\n",
       "       \"<ul>\\n\"+\n",
       "       \"<li>re-rerun `output_notebook()` to attempt to load from CDN again, or</li>\\n\"+\n",
       "       \"<li>use INLINE resources instead, as so:</li>\\n\"+\n",
       "       \"</ul>\\n\"+\n",
       "       \"<code>\\n\"+\n",
       "       \"from bokeh.resources import INLINE\\n\"+\n",
       "       \"output_notebook(resources=INLINE)\\n\"+\n",
       "       \"</code>\\n\"+\n",
       "       \"</div>\"}};\n",
       "  \n",
       "    function display_loaded() {\n",
       "      if (window.Bokeh !== undefined) {\n",
       "        Bokeh.$(\"#ddb49773-4c8c-47a4-9db8-8c7744caaa62\").text(\"BokehJS successfully loaded.\");\n",
       "      } else if (Date.now() < window._bokeh_timeout) {\n",
       "        setTimeout(display_loaded, 100)\n",
       "      }\n",
       "    }\n",
       "  \n",
       "    function run_callbacks() {\n",
       "      window._bokeh_onload_callbacks.forEach(function(callback) { callback() });\n",
       "      delete window._bokeh_onload_callbacks\n",
       "      console.info(\"Bokeh: all callbacks have finished\");\n",
       "    }\n",
       "  \n",
       "    function load_libs(js_urls, callback) {\n",
       "      window._bokeh_onload_callbacks.push(callback);\n",
       "      if (window._bokeh_is_loading > 0) {\n",
       "        console.log(\"Bokeh: BokehJS is being loaded, scheduling callback at\", now());\n",
       "        return null;\n",
       "      }\n",
       "      if (js_urls == null || js_urls.length === 0) {\n",
       "        run_callbacks();\n",
       "        return null;\n",
       "      }\n",
       "      console.log(\"Bokeh: BokehJS not loaded, scheduling load and callback at\", now());\n",
       "      window._bokeh_is_loading = js_urls.length;\n",
       "      for (var i = 0; i < js_urls.length; i++) {\n",
       "        var url = js_urls[i];\n",
       "        var s = document.createElement('script');\n",
       "        s.src = url;\n",
       "        s.async = false;\n",
       "        s.onreadystatechange = s.onload = function() {\n",
       "          window._bokeh_is_loading--;\n",
       "          if (window._bokeh_is_loading === 0) {\n",
       "            console.log(\"Bokeh: all BokehJS libraries loaded\");\n",
       "            run_callbacks()\n",
       "          }\n",
       "        };\n",
       "        s.onerror = function() {\n",
       "          console.warn(\"failed to load library \" + url);\n",
       "        };\n",
       "        console.log(\"Bokeh: injecting script tag for BokehJS library: \", url);\n",
       "        document.getElementsByTagName(\"head\")[0].appendChild(s);\n",
       "      }\n",
       "    };var element = document.getElementById(\"ddb49773-4c8c-47a4-9db8-8c7744caaa62\");\n",
       "    if (element == null) {\n",
       "      console.log(\"Bokeh: ERROR: autoload.js configured with elementid 'ddb49773-4c8c-47a4-9db8-8c7744caaa62' but no matching script tag was found. \")\n",
       "      return false;\n",
       "    }\n",
       "  \n",
       "    var js_urls = [];\n",
       "  \n",
       "    var inline_js = [\n",
       "      function(Bokeh) {\n",
       "        Bokeh.$(function() {\n",
       "            var docs_json = {\"98ac62d3-3ee0-4ef7-acec-e5a5b4d1d67d\":{\"roots\":{\"references\":[{\"attributes\":{\"formatter\":{\"id\":\"68333efb-9953-4ede-83d6-e199d3f3f200\",\"type\":\"BasicTickFormatter\"},\"plot\":{\"id\":\"29f107ce-3db6-4ae0-b67c-0550595a4320\",\"subtype\":\"Figure\",\"type\":\"Plot\"},\"ticker\":{\"id\":\"07b6fa0e-b3cf-4a31-b790-e4b1cbfa6718\",\"type\":\"BasicTicker\"}},\"id\":\"35c217d8-a15a-48f0-872f-8441eb257d09\",\"type\":\"LinearAxis\"},{\"attributes\":{\"data_source\":{\"id\":\"f71db2a2-4014-497b-b1c9-c9db7f3e0c02\",\"type\":\"ColumnDataSource\"},\"glyph\":{\"id\":\"93bda04e-2767-40ef-bb62-34b1e8846b38\",\"type\":\"Circle\"},\"hover_glyph\":null,\"nonselection_glyph\":{\"id\":\"571567d2-8d2e-4f46-89a6-fadaf5518511\",\"type\":\"Circle\"},\"selection_glyph\":null},\"id\":\"493ab946-2c9a-4e16-a95a-6a57795924bc\",\"type\":\"GlyphRenderer\"},{\"attributes\":{\"dimension\":1,\"plot\":{\"id\":\"29f107ce-3db6-4ae0-b67c-0550595a4320\",\"subtype\":\"Figure\",\"type\":\"Plot\"},\"ticker\":{\"id\":\"f37149b6-889d-43d7-b4c5-96be7fb6e9a9\",\"type\":\"BasicTicker\"}},\"id\":\"a97d2d54-e374-4e75-bc5c-01142725f6c2\",\"type\":\"Grid\"},{\"attributes\":{},\"id\":\"f37149b6-889d-43d7-b4c5-96be7fb6e9a9\",\"type\":\"BasicTicker\"},{\"attributes\":{\"plot\":null,\"text\":null},\"id\":\"820fe0dd-3ff9-4ae4-9a7d-a707cf4e7fcc\",\"type\":\"Title\"},{\"attributes\":{\"formatter\":{\"id\":\"41e4341b-0148-4b36-8ea4-23426862f448\",\"type\":\"BasicTickFormatter\"},\"plot\":{\"id\":\"29f107ce-3db6-4ae0-b67c-0550595a4320\",\"subtype\":\"Figure\",\"type\":\"Plot\"},\"ticker\":{\"id\":\"f37149b6-889d-43d7-b4c5-96be7fb6e9a9\",\"type\":\"BasicTicker\"}},\"id\":\"5a5a27a7-43b7-4714-acd2-e81b7064ae37\",\"type\":\"LinearAxis\"},{\"attributes\":{},\"id\":\"07b6fa0e-b3cf-4a31-b790-e4b1cbfa6718\",\"type\":\"BasicTicker\"},{\"attributes\":{\"bottom_units\":\"screen\",\"fill_alpha\":{\"value\":0.5},\"fill_color\":{\"value\":\"lightgrey\"},\"left_units\":\"screen\",\"level\":\"overlay\",\"line_alpha\":{\"value\":1.0},\"line_color\":{\"value\":\"black\"},\"line_dash\":[4,4],\"line_width\":{\"value\":2},\"plot\":null,\"render_mode\":\"css\",\"right_units\":\"screen\",\"top_units\":\"screen\"},\"id\":\"8a4add26-50e2-4e17-86a4-fd8319460650\",\"type\":\"BoxAnnotation\"},{\"attributes\":{\"callback\":null},\"id\":\"101994c6-e177-4692-b866-daea61c9db63\",\"type\":\"DataRange1d\"},{\"attributes\":{},\"id\":\"2b6bbc31-ff59-4751-a5a7-a17bef865183\",\"type\":\"ToolEvents\"},{\"attributes\":{\"overlay\":{\"id\":\"8a4add26-50e2-4e17-86a4-fd8319460650\",\"type\":\"BoxAnnotation\"},\"plot\":{\"id\":\"29f107ce-3db6-4ae0-b67c-0550595a4320\",\"subtype\":\"Figure\",\"type\":\"Plot\"}},\"id\":\"b21dbf84-54dd-45c0-8a79-bf925f545546\",\"type\":\"BoxZoomTool\"},{\"attributes\":{\"plot\":{\"id\":\"29f107ce-3db6-4ae0-b67c-0550595a4320\",\"subtype\":\"Figure\",\"type\":\"Plot\"}},\"id\":\"55ca0aaa-1f1e-4e52-b39a-132ecf5dbb3c\",\"type\":\"WheelZoomTool\"},{\"attributes\":{\"fill_alpha\":{\"value\":0.1},\"fill_color\":{\"value\":\"#1f77b4\"},\"line_alpha\":{\"value\":0.1},\"line_color\":{\"value\":\"#1f77b4\"},\"size\":{\"units\":\"screen\",\"value\":15},\"x\":{\"field\":\"x\"},\"y\":{\"field\":\"y\"}},\"id\":\"571567d2-8d2e-4f46-89a6-fadaf5518511\",\"type\":\"Circle\"},{\"attributes\":{\"active_drag\":\"auto\",\"active_scroll\":\"auto\",\"active_tap\":\"auto\",\"tools\":[{\"id\":\"645d6b4e-85b9-4719-9525-592c3a566ac7\",\"type\":\"PanTool\"},{\"id\":\"55ca0aaa-1f1e-4e52-b39a-132ecf5dbb3c\",\"type\":\"WheelZoomTool\"},{\"id\":\"b21dbf84-54dd-45c0-8a79-bf925f545546\",\"type\":\"BoxZoomTool\"},{\"id\":\"71a6486b-a1c9-4908-95cd-e0ffb1b12d63\",\"type\":\"SaveTool\"},{\"id\":\"65d717f4-c718-46ee-8d66-e16ee4869d84\",\"type\":\"ResetTool\"},{\"id\":\"079b637a-fa38-4959-a001-c92b9b7e0abc\",\"type\":\"HelpTool\"}]},\"id\":\"b5ace436-bd8e-48d3-9d52-3abe6f4977e2\",\"type\":\"Toolbar\"},{\"attributes\":{},\"id\":\"68333efb-9953-4ede-83d6-e199d3f3f200\",\"type\":\"BasicTickFormatter\"},{\"attributes\":{\"plot\":{\"id\":\"29f107ce-3db6-4ae0-b67c-0550595a4320\",\"subtype\":\"Figure\",\"type\":\"Plot\"},\"ticker\":{\"id\":\"07b6fa0e-b3cf-4a31-b790-e4b1cbfa6718\",\"type\":\"BasicTicker\"}},\"id\":\"53158085-d0c7-404c-8fd0-f09da880a031\",\"type\":\"Grid\"},{\"attributes\":{},\"id\":\"41e4341b-0148-4b36-8ea4-23426862f448\",\"type\":\"BasicTickFormatter\"},{\"attributes\":{\"callback\":null,\"column_names\":[\"y\",\"x\"],\"data\":{\"x\":[1,2,3,4,5],\"y\":[6,7,2,4,5]}},\"id\":\"f71db2a2-4014-497b-b1c9-c9db7f3e0c02\",\"type\":\"ColumnDataSource\"},{\"attributes\":{\"fill_alpha\":{\"value\":0.5},\"fill_color\":{\"value\":\"orange\"},\"line_color\":{\"value\":\"navy\"},\"size\":{\"units\":\"screen\",\"value\":15},\"x\":{\"field\":\"x\"},\"y\":{\"field\":\"y\"}},\"id\":\"93bda04e-2767-40ef-bb62-34b1e8846b38\",\"type\":\"Circle\"},{\"attributes\":{\"plot\":{\"id\":\"29f107ce-3db6-4ae0-b67c-0550595a4320\",\"subtype\":\"Figure\",\"type\":\"Plot\"}},\"id\":\"079b637a-fa38-4959-a001-c92b9b7e0abc\",\"type\":\"HelpTool\"},{\"attributes\":{\"plot\":{\"id\":\"29f107ce-3db6-4ae0-b67c-0550595a4320\",\"subtype\":\"Figure\",\"type\":\"Plot\"}},\"id\":\"65d717f4-c718-46ee-8d66-e16ee4869d84\",\"type\":\"ResetTool\"},{\"attributes\":{\"plot\":{\"id\":\"29f107ce-3db6-4ae0-b67c-0550595a4320\",\"subtype\":\"Figure\",\"type\":\"Plot\"}},\"id\":\"71a6486b-a1c9-4908-95cd-e0ffb1b12d63\",\"type\":\"SaveTool\"},{\"attributes\":{\"plot\":{\"id\":\"29f107ce-3db6-4ae0-b67c-0550595a4320\",\"subtype\":\"Figure\",\"type\":\"Plot\"}},\"id\":\"645d6b4e-85b9-4719-9525-592c3a566ac7\",\"type\":\"PanTool\"},{\"attributes\":{\"callback\":null},\"id\":\"efe5806c-9746-47d0-93e7-b3810232fd1b\",\"type\":\"DataRange1d\"},{\"attributes\":{\"below\":[{\"id\":\"35c217d8-a15a-48f0-872f-8441eb257d09\",\"type\":\"LinearAxis\"}],\"left\":[{\"id\":\"5a5a27a7-43b7-4714-acd2-e81b7064ae37\",\"type\":\"LinearAxis\"}],\"plot_height\":400,\"plot_width\":400,\"renderers\":[{\"id\":\"35c217d8-a15a-48f0-872f-8441eb257d09\",\"type\":\"LinearAxis\"},{\"id\":\"53158085-d0c7-404c-8fd0-f09da880a031\",\"type\":\"Grid\"},{\"id\":\"5a5a27a7-43b7-4714-acd2-e81b7064ae37\",\"type\":\"LinearAxis\"},{\"id\":\"a97d2d54-e374-4e75-bc5c-01142725f6c2\",\"type\":\"Grid\"},{\"id\":\"8a4add26-50e2-4e17-86a4-fd8319460650\",\"type\":\"BoxAnnotation\"},{\"id\":\"493ab946-2c9a-4e16-a95a-6a57795924bc\",\"type\":\"GlyphRenderer\"}],\"title\":{\"id\":\"820fe0dd-3ff9-4ae4-9a7d-a707cf4e7fcc\",\"type\":\"Title\"},\"tool_events\":{\"id\":\"2b6bbc31-ff59-4751-a5a7-a17bef865183\",\"type\":\"ToolEvents\"},\"toolbar\":{\"id\":\"b5ace436-bd8e-48d3-9d52-3abe6f4977e2\",\"type\":\"Toolbar\"},\"x_range\":{\"id\":\"101994c6-e177-4692-b866-daea61c9db63\",\"type\":\"DataRange1d\"},\"y_range\":{\"id\":\"efe5806c-9746-47d0-93e7-b3810232fd1b\",\"type\":\"DataRange1d\"}},\"id\":\"29f107ce-3db6-4ae0-b67c-0550595a4320\",\"subtype\":\"Figure\",\"type\":\"Plot\"}],\"root_ids\":[\"29f107ce-3db6-4ae0-b67c-0550595a4320\"]},\"title\":\"Bokeh Application\",\"version\":\"0.12.2\"}};\n",
       "            var render_items = [{\"docid\":\"98ac62d3-3ee0-4ef7-acec-e5a5b4d1d67d\",\"elementid\":\"ddb49773-4c8c-47a4-9db8-8c7744caaa62\",\"modelid\":\"29f107ce-3db6-4ae0-b67c-0550595a4320\"}];\n",
       "            \n",
       "            Bokeh.embed.embed_items(docs_json, render_items);\n",
       "        });\n",
       "      },\n",
       "      function(Bokeh) {\n",
       "      }\n",
       "    ];\n",
       "  \n",
       "    function run_inline_js() {\n",
       "      \n",
       "      if ((window.Bokeh !== undefined) || (force === \"1\")) {\n",
       "        for (var i = 0; i < inline_js.length; i++) {\n",
       "          inline_js[i](window.Bokeh);\n",
       "        }if (force === \"1\") {\n",
       "          display_loaded();\n",
       "        }} else if (Date.now() < window._bokeh_timeout) {\n",
       "        setTimeout(run_inline_js, 100);\n",
       "      } else if (!window._bokeh_failed_load) {\n",
       "        console.log(\"Bokeh: BokehJS failed to load within specified timeout.\");\n",
       "        window._bokeh_failed_load = true;\n",
       "      } else if (!force) {\n",
       "        var cell = $(\"#ddb49773-4c8c-47a4-9db8-8c7744caaa62\").parents('.cell').data().cell;\n",
       "        cell.output_area.append_execute_result(NB_LOAD_WARNING)\n",
       "      }\n",
       "  \n",
       "    }\n",
       "  \n",
       "    if (window._bokeh_is_loading === 0) {\n",
       "      console.log(\"Bokeh: BokehJS loaded, going straight to plotting\");\n",
       "      run_inline_js();\n",
       "    } else {\n",
       "      load_libs(js_urls, function() {\n",
       "        console.log(\"Bokeh: BokehJS plotting callback run at\", now());\n",
       "        run_inline_js();\n",
       "      });\n",
       "    }\n",
       "  }(this));\n",
       "</script>"
      ]
     },
     "metadata": {},
     "output_type": "display_data"
    }
   ],
   "source": [
    "# create a new plot with default tools, using figure\n",
    "p = figure(plot_width=400, plot_height=400)\n",
    "\n",
    "# add a circle renderer with a size, color, and alpha\n",
    "p.circle([1, 2, 3, 4, 5], [6, 7, 2, 4, 5], size=15, line_color=\"navy\", fill_color=\"orange\", fill_alpha=0.5)\n",
    "\n",
    "show(p) # show the results"
   ]
  },
  {
   "cell_type": "markdown",
   "metadata": {
    "collapsed": true
   },
   "source": [
    "<!--NAVIGATION-->\n",
    "< [3_Python_Intro](3_Python_intro.ipynb) | [Contents](Index.ipynb) | [4-Numpy - Intro](4_Numpy_intro.ipynb) >"
   ]
  }
 ],
 "metadata": {
  "anaconda-cloud": {
   "attach-environment": true,
   "environment": null,
   "summary": "System_Risk_GIS_FloodRisk_Python",
   "url": "https://anaconda.org/gecosistema/tutorial_dem_flooding"
  },
  "kernelspec": {
   "display_name": "Python [conda root]",
   "language": "python",
   "name": "conda-root-py"
  },
  "language_info": {
   "codemirror_mode": {
    "name": "ipython",
    "version": 2
   },
   "file_extension": ".py",
   "mimetype": "text/x-python",
   "name": "python",
   "nbconvert_exporter": "python",
   "pygments_lexer": "ipython2",
   "version": "2.7.12"
  },
  "nbpresent": {
   "slides": {
    "02846c44-38f9-4aef-ab37-8352ebc70511": {
     "id": "02846c44-38f9-4aef-ab37-8352ebc70511",
     "prev": "71b5d3d6-77a7-4745-885f-ffc1420d2665",
     "regions": {
      "e9303037-dc9c-4738-9a7f-ec376dc34ebd": {
       "attrs": {
        "height": 0.8,
        "width": 0.8,
        "x": 0.1,
        "y": 0.1
       },
       "content": {
        "cell": "08ed20e8-3a1e-4bfd-9bcc-194f5ea0b39a",
        "part": "whole"
       },
       "id": "e9303037-dc9c-4738-9a7f-ec376dc34ebd"
      }
     }
    },
    "060cbb0a-6be3-413b-b02d-fb39c6da0328": {
     "id": "060cbb0a-6be3-413b-b02d-fb39c6da0328",
     "prev": "5baef3ad-9342-45cb-be10-e49f5003c9d7",
     "regions": {
      "1b8534db-67d4-4e24-b3f8-4383a60de997": {
       "attrs": {
        "height": 0.8,
        "width": 0.8,
        "x": 0.1,
        "y": 0.1
       },
       "content": {
        "cell": "f81f9570-d4c4-4e2f-8a57-3881a4881b69",
        "part": "whole"
       },
       "id": "1b8534db-67d4-4e24-b3f8-4383a60de997"
      }
     }
    },
    "129f00a1-0146-4c50-8667-b07c5b2d0eeb": {
     "id": "129f00a1-0146-4c50-8667-b07c5b2d0eeb",
     "prev": "614538c9-99cd-42b3-b2c7-4e1ab0d4e7ce",
     "regions": {
      "ea63d8f6-c8ed-4b98-8c70-371f43ec89d9": {
       "attrs": {
        "height": 0.8,
        "width": 0.8,
        "x": 0.1,
        "y": 0.1
       },
       "content": {
        "cell": "dda7b0e7-4c44-4482-b791-23e93bedc4e8",
        "part": "whole"
       },
       "id": "ea63d8f6-c8ed-4b98-8c70-371f43ec89d9"
      }
     }
    },
    "24f3d903-07b4-46ad-8605-a30cc72864e8": {
     "id": "24f3d903-07b4-46ad-8605-a30cc72864e8",
     "prev": "389b4d70-b739-4d1a-8523-020ec1e069fd",
     "regions": {
      "93aaa554-dacc-471c-bbe8-b4aaac1e9872": {
       "attrs": {
        "height": 0.8,
        "width": 0.8,
        "x": 0.1,
        "y": 0.1
       },
       "content": {
        "cell": "a7945d9e-1ec9-49ad-97ea-03775d0db6ee",
        "part": "whole"
       },
       "id": "93aaa554-dacc-471c-bbe8-b4aaac1e9872"
      }
     }
    },
    "37b2a110-105d-4f03-8287-7b63a4923211": {
     "id": "37b2a110-105d-4f03-8287-7b63a4923211",
     "prev": "72a469c8-a471-4290-88de-7df3b22d42b0",
     "regions": {
      "a515c1f8-f153-41b5-8716-f22bf5005736": {
       "attrs": {
        "height": 0.8,
        "width": 0.8,
        "x": 0.1,
        "y": 0.1
       },
       "content": {
        "cell": "bbff907a-fe14-488d-b817-7818d01c8fed",
        "part": "whole"
       },
       "id": "a515c1f8-f153-41b5-8716-f22bf5005736"
      }
     }
    },
    "389b4d70-b739-4d1a-8523-020ec1e069fd": {
     "id": "389b4d70-b739-4d1a-8523-020ec1e069fd",
     "prev": "f3ed960f-5e66-4af9-b6db-7185e26ca908",
     "regions": {
      "aa3c9f93-5315-4267-a6d8-09e0ad39f5fc": {
       "attrs": {
        "height": 0.8,
        "width": 0.8,
        "x": 0.1,
        "y": 0.1
       },
       "content": {
        "cell": "2134dfb5-7454-4a64-8403-776934ebc23c",
        "part": "whole"
       },
       "id": "aa3c9f93-5315-4267-a6d8-09e0ad39f5fc"
      }
     }
    },
    "3d7f49bd-2657-4c4f-96db-4cda796a8940": {
     "id": "3d7f49bd-2657-4c4f-96db-4cda796a8940",
     "prev": "d28c9aad-45cd-4227-87ba-c966f9f7f892",
     "regions": {
      "f3c0d25c-5cda-43c3-b303-283279bd5d97": {
       "attrs": {
        "height": 0.8,
        "width": 0.8,
        "x": 0.1,
        "y": 0.1
       },
       "content": {
        "cell": "af6bdd26-055a-4f38-974c-90f6412bffdd",
        "part": "whole"
       },
       "id": "f3c0d25c-5cda-43c3-b303-283279bd5d97"
      }
     }
    },
    "5baef3ad-9342-45cb-be10-e49f5003c9d7": {
     "id": "5baef3ad-9342-45cb-be10-e49f5003c9d7",
     "prev": "e2b96bf4-ca5e-4cab-9f6c-88e974a66483",
     "regions": {
      "358e9f2a-97d5-4bbb-a5b0-b3fd0f714f62": {
       "attrs": {
        "height": 0.8,
        "width": 0.8,
        "x": 0.1,
        "y": 0.1
       },
       "content": {
        "cell": "ba961c1e-399a-4ff4-ab93-edb98666e243",
        "part": "whole"
       },
       "id": "358e9f2a-97d5-4bbb-a5b0-b3fd0f714f62"
      }
     }
    },
    "614538c9-99cd-42b3-b2c7-4e1ab0d4e7ce": {
     "id": "614538c9-99cd-42b3-b2c7-4e1ab0d4e7ce",
     "prev": "060cbb0a-6be3-413b-b02d-fb39c6da0328",
     "regions": {
      "10376570-99ad-47b9-910e-39f06583aa56": {
       "attrs": {
        "height": 0.8,
        "width": 0.8,
        "x": 0.1,
        "y": 0.1
       },
       "content": {
        "cell": "45e1366d-17c9-4927-bd4e-dc10b1085f44",
        "part": "whole"
       },
       "id": "10376570-99ad-47b9-910e-39f06583aa56"
      }
     }
    },
    "6203f2ae-d39f-423c-9237-df931af8bbca": {
     "id": "6203f2ae-d39f-423c-9237-df931af8bbca",
     "prev": "02846c44-38f9-4aef-ab37-8352ebc70511",
     "regions": {
      "91ccc09e-a852-4640-aa24-4e5c46f70ca3": {
       "attrs": {
        "height": 0.8,
        "width": 0.8,
        "x": 0.1,
        "y": 0.1
       },
       "content": {
        "cell": "eedc1df0-6c2e-428b-b1d6-f44bc0b0915c",
        "part": "whole"
       },
       "id": "91ccc09e-a852-4640-aa24-4e5c46f70ca3"
      }
     }
    },
    "71b5d3d6-77a7-4745-885f-ffc1420d2665": {
     "id": "71b5d3d6-77a7-4745-885f-ffc1420d2665",
     "prev": "af5e62de-6c34-4373-80ad-3d8691e42601",
     "regions": {
      "a73abf97-80cb-4861-8764-6813e587fa8d": {
       "attrs": {
        "height": 0.8,
        "width": 0.8,
        "x": 0.1,
        "y": 0.1
       },
       "content": {
        "cell": "32c9d0a9-ede4-40c3-b476-cac60d4c74ea",
        "part": "whole"
       },
       "id": "a73abf97-80cb-4861-8764-6813e587fa8d"
      }
     }
    },
    "72a469c8-a471-4290-88de-7df3b22d42b0": {
     "id": "72a469c8-a471-4290-88de-7df3b22d42b0",
     "prev": "6203f2ae-d39f-423c-9237-df931af8bbca",
     "regions": {
      "949cad9e-c468-4c9a-8d68-d633306c8f1a": {
       "attrs": {
        "height": 0.8,
        "width": 0.8,
        "x": 0.1,
        "y": 0.1
       },
       "content": {
        "cell": "ed7bdc7b-69ca-4774-b611-3248d21207f8",
        "part": "whole"
       },
       "id": "949cad9e-c468-4c9a-8d68-d633306c8f1a"
      }
     }
    },
    "7c2d2c6f-bd5a-4e85-911c-d1d708d28996": {
     "id": "7c2d2c6f-bd5a-4e85-911c-d1d708d28996",
     "prev": "3d7f49bd-2657-4c4f-96db-4cda796a8940",
     "regions": {
      "6e8b1ba0-4060-405e-a381-8f92630b8994": {
       "attrs": {
        "height": 0.8,
        "width": 0.8,
        "x": 0.1,
        "y": 0.1
       },
       "content": {
        "cell": "94a55052-1f09-4653-8d97-13691f89a5af",
        "part": "whole"
       },
       "id": "6e8b1ba0-4060-405e-a381-8f92630b8994"
      }
     }
    },
    "7d30fcfb-383a-4847-bd2a-52ed6304014e": {
     "id": "7d30fcfb-383a-4847-bd2a-52ed6304014e",
     "prev": "e24ad135-a3f7-46fe-b7fc-409bb89883e0",
     "regions": {
      "df410d6a-f9b1-4fef-8c22-8966240692a9": {
       "attrs": {
        "height": 0.8,
        "width": 0.8,
        "x": 0.1,
        "y": 0.1
       },
       "content": {
        "cell": "0c3e6324-872f-47b3-8a71-d6d69b35cbd7",
        "part": "whole"
       },
       "id": "df410d6a-f9b1-4fef-8c22-8966240692a9"
      }
     }
    },
    "85b24560-6b9a-4f3c-81bd-74b4f32df13a": {
     "id": "85b24560-6b9a-4f3c-81bd-74b4f32df13a",
     "prev": "eca5a0f2-9008-4092-bdd9-3191d5576458",
     "regions": {
      "d641820e-299e-4262-bb88-51e3036a823f": {
       "attrs": {
        "height": 0.8,
        "width": 0.8,
        "x": 0.1,
        "y": 0.1
       },
       "content": {
        "cell": "95869fba-1118-41e7-96a2-991e5c5a756a",
        "part": "whole"
       },
       "id": "d641820e-299e-4262-bb88-51e3036a823f"
      }
     }
    },
    "869d44bd-c99d-41f4-a284-d6ad6c3bbe4e": {
     "id": "869d44bd-c99d-41f4-a284-d6ad6c3bbe4e",
     "prev": "e9b66c21-dd23-48c2-9a3f-33fe494cefec",
     "regions": {
      "e55c411f-cb42-4dea-a485-50f361151b48": {
       "attrs": {
        "height": 0.8,
        "width": 0.8,
        "x": 0.1,
        "y": 0.1
       },
       "content": {
        "cell": "db87eb7a-bcfb-4f47-b2a7-31fec2ab8b7c",
        "part": "whole"
       },
       "id": "e55c411f-cb42-4dea-a485-50f361151b48"
      }
     }
    },
    "86ee40b8-3a7c-44d5-bdc8-6b4ab40da55b": {
     "id": "86ee40b8-3a7c-44d5-bdc8-6b4ab40da55b",
     "prev": "8920fe11-3ca1-47a5-abd4-02c2f5c6edd5",
     "regions": {
      "f95b9e1f-fc6e-4fc4-8861-777955515c41": {
       "attrs": {
        "height": 0.8,
        "width": 0.8,
        "x": 0.1,
        "y": 0.1
       },
       "content": {
        "cell": "f8957239-9b2b-417a-bb07-b8751138d10b",
        "part": "whole"
       },
       "id": "f95b9e1f-fc6e-4fc4-8861-777955515c41"
      }
     }
    },
    "8920fe11-3ca1-47a5-abd4-02c2f5c6edd5": {
     "id": "8920fe11-3ca1-47a5-abd4-02c2f5c6edd5",
     "prev": "869d44bd-c99d-41f4-a284-d6ad6c3bbe4e",
     "regions": {
      "07fa0bcb-52cf-4521-bfad-92fcdc5b7b90": {
       "attrs": {
        "height": 0.8,
        "width": 0.8,
        "x": 0.1,
        "y": 0.1
       },
       "content": {
        "cell": "51a0feff-4025-48e4-a45c-9c9b3a30da9c",
        "part": "whole"
       },
       "id": "07fa0bcb-52cf-4521-bfad-92fcdc5b7b90"
      }
     }
    },
    "af5e62de-6c34-4373-80ad-3d8691e42601": {
     "id": "af5e62de-6c34-4373-80ad-3d8691e42601",
     "prev": "7d30fcfb-383a-4847-bd2a-52ed6304014e",
     "regions": {
      "92e73601-62ca-468b-83f8-96fbc6505136": {
       "attrs": {
        "height": 0.8,
        "width": 0.8,
        "x": 0.1,
        "y": 0.1
       },
       "content": {
        "cell": "a1de97fa-11cc-45a5-8b48-0c26135390c2",
        "part": "whole"
       },
       "id": "92e73601-62ca-468b-83f8-96fbc6505136"
      }
     }
    },
    "b710730a-bcb2-40ce-b7a7-c0c89d3f3570": {
     "id": "b710730a-bcb2-40ce-b7a7-c0c89d3f3570",
     "prev": "7c2d2c6f-bd5a-4e85-911c-d1d708d28996",
     "regions": {
      "f28cfeef-dac1-40aa-a5ae-f80e3e06c1c2": {
       "attrs": {
        "height": 0.8,
        "width": 0.8,
        "x": 0.1,
        "y": 0.1
       },
       "content": {
        "cell": "e83c912e-aa12-49d4-ab61-acef128249f3",
        "part": "whole"
       },
       "id": "f28cfeef-dac1-40aa-a5ae-f80e3e06c1c2"
      }
     }
    },
    "b9811710-7832-41cf-a160-0cda733e8fe0": {
     "id": "b9811710-7832-41cf-a160-0cda733e8fe0",
     "prev": "86ee40b8-3a7c-44d5-bdc8-6b4ab40da55b",
     "regions": {
      "9846698b-693e-4e66-bc97-169dc99dac83": {
       "attrs": {
        "height": 0.8,
        "width": 0.8,
        "x": 0.1,
        "y": 0.1
       },
       "content": {
        "cell": "e84ec698-bb2f-455b-9a68-31dd3af64a3f",
        "part": "whole"
       },
       "id": "9846698b-693e-4e66-bc97-169dc99dac83"
      }
     }
    },
    "d28c9aad-45cd-4227-87ba-c966f9f7f892": {
     "id": "d28c9aad-45cd-4227-87ba-c966f9f7f892",
     "prev": "129f00a1-0146-4c50-8667-b07c5b2d0eeb",
     "regions": {
      "9d9dcd59-8531-475f-ba42-74cf48f9d3be": {
       "attrs": {
        "height": 0.8,
        "width": 0.8,
        "x": 0.1,
        "y": 0.1
       },
       "content": {
        "cell": "dd1fec34-ffa6-474c-9213-5adb5f106fb5",
        "part": "whole"
       },
       "id": "9d9dcd59-8531-475f-ba42-74cf48f9d3be"
      }
     }
    },
    "dc9683a6-86af-45cc-a2da-0e448e83c976": {
     "id": "dc9683a6-86af-45cc-a2da-0e448e83c976",
     "prev": "37b2a110-105d-4f03-8287-7b63a4923211",
     "regions": {
      "d36030ad-089f-46a2-8129-fd09da697617": {
       "attrs": {
        "height": 0.8,
        "width": 0.8,
        "x": 0.1,
        "y": 0.1
       },
       "content": {
        "cell": "308d21f1-0db4-46f3-b60a-923940edcb0b",
        "part": "whole"
       },
       "id": "d36030ad-089f-46a2-8129-fd09da697617"
      }
     }
    },
    "e24ad135-a3f7-46fe-b7fc-409bb89883e0": {
     "id": "e24ad135-a3f7-46fe-b7fc-409bb89883e0",
     "prev": "b710730a-bcb2-40ce-b7a7-c0c89d3f3570",
     "regions": {
      "d2e48674-006e-426e-b88e-34bc617cd4dc": {
       "attrs": {
        "height": 0.8,
        "width": 0.8,
        "x": 0.1,
        "y": 0.1
       },
       "content": {
        "cell": "3c915b92-276e-4181-a34e-08d6bce4dc6c",
        "part": "whole"
       },
       "id": "d2e48674-006e-426e-b88e-34bc617cd4dc"
      }
     }
    },
    "e2b96bf4-ca5e-4cab-9f6c-88e974a66483": {
     "id": "e2b96bf4-ca5e-4cab-9f6c-88e974a66483",
     "prev": "85b24560-6b9a-4f3c-81bd-74b4f32df13a",
     "regions": {
      "99d3efa5-59fb-4200-bbe7-372e66c756e0": {
       "attrs": {
        "height": 0.8,
        "width": 0.8,
        "x": 0.1,
        "y": 0.1
       },
       "content": {
        "cell": "e46f114f-b44b-4413-a2fc-f7d2ee494bb9",
        "part": "whole"
       },
       "id": "99d3efa5-59fb-4200-bbe7-372e66c756e0"
      }
     }
    },
    "e9b66c21-dd23-48c2-9a3f-33fe494cefec": {
     "id": "e9b66c21-dd23-48c2-9a3f-33fe494cefec",
     "prev": "24f3d903-07b4-46ad-8605-a30cc72864e8",
     "regions": {
      "ca42ff51-ab1f-4b25-9580-71ba5279d373": {
       "attrs": {
        "height": 0.8,
        "width": 0.8,
        "x": 0.1,
        "y": 0.1
       },
       "content": {
        "cell": "0985c53d-b3ee-4788-bab3-f6ae5da14e1a",
        "part": "whole"
       },
       "id": "ca42ff51-ab1f-4b25-9580-71ba5279d373"
      }
     }
    },
    "eca5a0f2-9008-4092-bdd9-3191d5576458": {
     "id": "eca5a0f2-9008-4092-bdd9-3191d5576458",
     "layout": "treemap",
     "prev": null,
     "regions": {
      "74d9e509-ac55-48e6-9c15-08c2d22b2cf8": {
       "attrs": {
        "height": 1,
        "pad": 0.01,
        "treemap:weight": 1,
        "width": 1,
        "x": 0,
        "y": 0
       },
       "content": {
        "cell": "71b9274c-7e14-4f96-a5b6-c5c2ab107d00",
        "part": "whole"
       },
       "id": "74d9e509-ac55-48e6-9c15-08c2d22b2cf8"
      }
     }
    },
    "f3ed960f-5e66-4af9-b6db-7185e26ca908": {
     "id": "f3ed960f-5e66-4af9-b6db-7185e26ca908",
     "prev": "dc9683a6-86af-45cc-a2da-0e448e83c976",
     "regions": {
      "99f485b1-3bc8-4ef2-b047-0894efda0c2f": {
       "attrs": {
        "height": 0.8,
        "width": 0.8,
        "x": 0.1,
        "y": 0.1
       },
       "content": {
        "cell": "13806d54-af83-46e7-9fa6-cd4df7537017",
        "part": "whole"
       },
       "id": "99f485b1-3bc8-4ef2-b047-0894efda0c2f"
      }
     }
    }
   },
   "themes": {
    "default": "1f3a7524-b862-4068-ad65-291ca58720ab",
    "theme": {}
   }
  }
 },
 "nbformat": 4,
 "nbformat_minor": 1
}
