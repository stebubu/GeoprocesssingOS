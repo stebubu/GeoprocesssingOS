{
 "cells": [
  {
   "cell_type": "markdown",
   "metadata": {},
   "source": [
    "<!--NAVIGATION-->\n",
    "< [3_Python_Intro](4_Python_intro.ipynb) | [Contents](Index.ipynb) | [4-Numpy - Intro](4_Numpy_intro.ipynb) >"
   ]
  },
  {
   "cell_type": "markdown",
   "metadata": {},
   "source": [
    "<img align=\"left\" style=\"width: 300px;\" src=\"figures/logo.png\"/>\n",
    "------------------\n",
    "# Bologna Training Course 23 – 27 January 2017\n",
    "\n",
    "# Hydrological and Flood Risk Geo-processing with python/GDAL \n",
    "<img  align=\"left\" style=\"width: 250px;\" src=\"figures/logo2011.jpg\"/>\n",
    "\n",
    "------------\n",
    "## Stefano Bagli and Paolo Mazzoli - [GECOsistema srl ](www.gecosistema.com)\n",
    "----------------------------------------------------------------------------------------------------------"
   ]
  },
  {
   "cell_type": "markdown",
   "metadata": {},
   "source": [
    "# 3 Python for Data Science- Basic Concept\n",
    "\n",
    "\n",
    "## 3.1 Why Coding?\n",
    "\n",
    "The ability to script your processes like this is extremely powerful. \n",
    "\n",
    "Not only does it make it easy to batch process many datasets at once (something I do often), but it gives you the ability to customize your analysis instead of being limited to what the software user interface allows. You can build your own custom toolkits based on your workflow, and use these over and over. Automation is another big one, and it’s the reason I fell in love with scripting in the first place. I hate pushing buttons and doing the same thing over and over, but I’ll happily spend time figuring out how to automate something so I never have to think about it again. One last advantage that I’ll mention here is that you always know exactly what you did, as long as you don’t lose your script, because everything is right there.\n",
    "\n",
    "- Got tired to use QGIS interface?\n",
    "\n",
    "- Need to iterate or repeat geospatial processing\n",
    "\n",
    "- do you need to embed geoprocessing operations in your code\n",
    "\n",
    "- you always know exactly what you did\n",
    "\n",
    "\n",
    "\n",
    "## 3.2 Why Python?\n",
    "\n",
    "**Several compelling reasons exist for using Python and open source tools for processing spatial data.**\n",
    "- It's easy to learn, easy to read and fast to develop¶\n",
    "    - It is considered to be the language of choice for beginners, and proper code formatting is in the design of the language. This is especially useful when you remember, that we are the scientist not programmers. What we need is to have a language that can be learned quickly, but at the same time is powerful enough to satisfy our needs.\n",
    "\n",
    "- It's an interpreted language\n",
    "    - interpreters exist for any operating system you’re likely to use, so programs written in Python will run on any computer with an interpreter, and interpreters exist for any operating system you’re likely to use. \n",
    "Another advantage of interpreted languages is that you can use them interactively. This is great for playing around and learning a language, because you can type a line of code and see the results instantly.\n",
    "\n",
    "- It's free and opensource.¶\n",
    "    - You will be able to use your scripts even if your institute does not have enough money to buy expensive software (MATLAB or IDL). You can make changes in the code, or at least have the possibility to look at the source code if you suspect that there is a bug.\n",
    "\n",
    "- It's multiplatform¶\n",
    "    - You can find it on many systems, so you are not tide to Windows, Mac or Linux. It sounds great, but not always the case, some modules will work only on limited number of operating systems (e.g. PyNGL, pyFerret).\n",
    "\n",
    "- It's general purpose language¶\n",
    "    - You can use it not only for data processing and visualization, but also for system administration, web development, database programming and so on. It is relatively easy to make your code run in the parallel mode. Last but not the least - if you ever decide to leave academia your chances on the market are much better with some python skills.\n",
    "\n",
    "- Another advantage to going with open source tools is that active user communities exist for some of these packages, and you may find that bugs and other issues are addressed much more quickly than with many proprietary software packages.\n",
    "\n",
    "\n",
    "### Downsides:\n",
    "\n",
    "- There is a smaller legacy code base¶\n",
    "FORTRAN and Matlab are used for decades, and have a lot of libraries for all kinds of scientific needs. Although now main functionality is covered by python modules, there are still many specific areas where no python solution is available. This problem can be partly solved by python's integration with other languages (MLabWrap, F2py).\n",
    "\n",
    "- It's slow¶\n",
    "... if you don't use vectorization or Cython when loops are inevitable. Critical parts still can be written in FORTRAN or C.\n",
    "\n",
    "\n",
    "### The Zen of Python"
   ]
  },
  {
   "cell_type": "code",
   "execution_count": null,
   "metadata": {
    "collapsed": true
   },
   "outputs": [],
   "source": [
    "import this"
   ]
  },
  {
   "cell_type": "markdown",
   "metadata": {},
   "source": [
    "## 3.3 More reading on this topic:\n",
    "\n",
    "10 Reasons Python Rocks for Research (And a Few Reasons it Doesn’t)\n",
    "http://www.stat.washington.edu/~hoytak/blog/whypython.html\n",
    "\n",
    "I used Matlab. Now I use Python\n",
    "http://stevetjoa.com/305/\n",
    "\n",
    "Eight Advantages of Python Over Matlab\n",
    "http://phillipmfeldman.org/Python/Advantages_of_Python_Over_Matlab.html\n",
    "\n",
    "Lectures on Scientific Computing with Python.\n",
    "https://github.com/jrjohansson/scientific-python-lectures#online-read-only-versions\n",
    "\n",
    "Earthpy\n",
    "http://earthpy.org/category/data-processing.html"
   ]
  },
  {
   "cell_type": "markdown",
   "metadata": {},
   "source": [
    "@from python intro folder\n",
    "<a href=\"http://www.youtube.com/watch?feature=player_embedded&v=1I2Bz0qbMsc\n",
    "\" target=\"_blank\"><img src=\"http://img.youtube.com/vi/1I2Bz0qbMsc/0.jpg\" \n",
    "alt=\"IMAGE ALT TEXT HERE\" width=\"240\" height=\"180\" border=\"10\" /></a>\n",
    "\n",
    "\n",
    "## 3.4  writing and executing code\n",
    "Another advantage of interpreted languages is that you can use them interactively. This is great for playing around and learning a language, because you can type a line of code and see the results instantly.\n",
    "\n",
    "You can run the Python interpreter in a terminal window, but it’s probably easier to use IDLE, which is a simple development environment installed with Python. \n",
    "Two different types of windows exist in IDLE, shells and edit windows. \n",
    "A shell is an interactive window in which you can type Python code and get immediate results.\n",
    "For example in the ANACONDA suite is available the SPYDER python IDLE\n",
    "\n",
    "<img   style=\"width: 700px;\" src=\"figures/spyder.png\"/>\n",
    "\n",
    "Many editors are easy to configure, so you can run a Python script directly without leaving the editor. See the documentation for your favorite editor to learn how to do this. Packages that are designed specifically for working with Python code are Spyder, PyCharm, Wing IDE, and PyScripter. \n",
    "\n",
    "## 3.5 Basic structure of a script\n",
    "\n",
    "- first lines usually import modules/libraries\n",
    "- new line using whitespace/enter\n",
    "- Python uses indentation to define blocks of code\n",
    "- Python is also case sensitive, which means that uppercase and lowercase letters are different from one another\n",
    "- '# This is a comment'"
   ]
  },
  {
   "cell_type": "markdown",
   "metadata": {},
   "source": [
    "## 3.6 Let's Start\n",
    "The first programming command demonstrated when you are learning a programming language is usually to make the computer print 'Hello World!'. In Python, doing this is pretty simple:"
   ]
  },
  {
   "cell_type": "code",
   "execution_count": 1,
   "metadata": {
    "collapsed": false
   },
   "outputs": [
    {
     "name": "stdout",
     "output_type": "stream",
     "text": [
      "Hello World!\n"
     ]
    }
   ],
   "source": [
    "print('Hello World!')"
   ]
  },
  {
   "cell_type": "code",
   "execution_count": null,
   "metadata": {
    "collapsed": true
   },
   "outputs": [],
   "source": [
    "# this is a comment. the python interpreter ignores it.\n",
    "# comments are just notes for humans to read to help understand the code\n",
    "# best practice: add a comment for every couple lines of code to explain what's going on and why\n",
    "# you'd be amazed at how quickly you forget your code's logic"
   ]
  },
  {
   "cell_type": "code",
   "execution_count": 163,
   "metadata": {
    "collapsed": false
   },
   "outputs": [
    {
     "data": {
      "text/plain": [
       "1.0317345582503639"
      ]
     },
     "execution_count": 163,
     "metadata": {},
     "output_type": "execute_result"
    }
   ],
   "source": [
    "import random\n",
    "random.gauss(0, 1)"
   ]
  },
  {
   "cell_type": "markdown",
   "metadata": {},
   "source": [
    "## 4.3 Variables\n",
    "A name that is used to denote something or a value is called a variable. In python, variables can be declared and values can be assigned to it as follows,"
   ]
  },
  {
   "cell_type": "code",
   "execution_count": 164,
   "metadata": {
    "collapsed": true
   },
   "outputs": [],
   "source": [
    "x = 2\n",
    "y = 5\n",
    "xy = 'Hey'"
   ]
  },
  {
   "cell_type": "code",
   "execution_count": null,
   "metadata": {
    "collapsed": true
   },
   "outputs": [],
   "source": [
    "# variables, such as x here, contain values and their values can vary\n",
    "x = 5"
   ]
  },
  {
   "cell_type": "code",
   "execution_count": null,
   "metadata": {
    "collapsed": true
   },
   "outputs": [],
   "source": [
    "# what is the value of x?\n",
    "x"
   ]
  },
  {
   "cell_type": "code",
   "execution_count": null,
   "metadata": {
    "collapsed": true
   },
   "outputs": [],
   "source": [
    "# you can perform operations on variables, just like you can on two numbers\n",
    "x + 3"
   ]
  },
  {
   "cell_type": "code",
   "execution_count": null,
   "metadata": {
    "collapsed": true
   },
   "outputs": [],
   "source": [
    "# to update the value of a variable, you need to do an assignment again\n",
    "x = x + 3"
   ]
  },
  {
   "cell_type": "code",
   "execution_count": null,
   "metadata": {
    "collapsed": true
   },
   "outputs": [],
   "source": [
    "# use print to write some value to the console\n",
    "print(x)\n",
    "print(y)"
   ]
  },
  {
   "cell_type": "markdown",
   "metadata": {},
   "source": [
    "Python is a dynamically typed language, which means that variable types aren’t checked until runtime, and you can even change the data type stored in a variable.\n",
    "\n",
    "Notice that you use a single equal sign to assign a value to a variable. To test for equality, always use a double equal sign."
   ]
  },
  {
   "cell_type": "code",
   "execution_count": 165,
   "metadata": {
    "collapsed": false
   },
   "outputs": [
    {
     "data": {
      "text/plain": [
       "True"
      ]
     },
     "execution_count": 165,
     "metadata": {},
     "output_type": "execute_result"
    }
   ],
   "source": [
    "n = 10\n",
    "n == 10"
   ]
  },
  {
   "cell_type": "markdown",
   "metadata": {},
   "source": [
    "## 4.4 Data Types\n",
    "Data in Python is interpreted as having a type. In low-level, compiled languages like C or C++, the programmer has to explicitly declare the type of each variable before actually using it. In Python, the type is inferred at run time, and you can always ask Python what the type of an object is:\n"
   ]
  },
  {
   "cell_type": "code",
   "execution_count": null,
   "metadata": {
    "collapsed": true
   },
   "outputs": [],
   "source": [
    "# integers are whole numbers\n",
    "type(125)"
   ]
  },
  {
   "cell_type": "code",
   "execution_count": null,
   "metadata": {
    "collapsed": true
   },
   "outputs": [],
   "source": [
    "# every variable has a data type, and they can be of any type\n",
    "x = 125\n",
    "type(x)\n",
    "# float is a floating point (aka decimal) number\n",
    "some_rate = 4.3\n",
    "type(some_rate)\n",
    "# strings are strings of characters\n",
    "s = 'abc'\n",
    "type(s)\n"
   ]
  },
  {
   "cell_type": "markdown",
   "metadata": {},
   "source": [
    "### Booleans"
   ]
  },
  {
   "cell_type": "code",
   "execution_count": 166,
   "metadata": {
    "collapsed": false
   },
   "outputs": [
    {
     "data": {
      "text/plain": [
       "True"
      ]
     },
     "execution_count": 166,
     "metadata": {},
     "output_type": "execute_result"
    }
   ],
   "source": [
    "True or False"
   ]
  },
  {
   "cell_type": "markdown",
   "metadata": {},
   "source": [
    "### Numeric Type and Aritmetic Operators -Python as Calculator\n",
    "\n",
    "| Symbol | Task Performed |\n",
    "|----|---|\n",
    "| +  | Addition |\n",
    "| -  | Subtraction |\n",
    "| /  | division |\n",
    "| %  | mod |\n",
    "| *  | multiplication |\n",
    "| //  | floor division |\n",
    "| **  | to the power of |"
   ]
  },
  {
   "cell_type": "code",
   "execution_count": 167,
   "metadata": {
    "collapsed": false
   },
   "outputs": [
    {
     "name": "stdout",
     "output_type": "stream",
     "text": [
      "3\n",
      "1\n",
      "0\n"
     ]
    }
   ],
   "source": [
    "print 1+2\n",
    "\n",
    "print 3-2\n",
    "\n",
    "print 1/2"
   ]
  },
  {
   "cell_type": "code",
   "execution_count": 3,
   "metadata": {
    "collapsed": false
   },
   "outputs": [
    {
     "name": "stdout",
     "output_type": "stream",
     "text": [
      "5\n"
     ]
    }
   ],
   "source": [
    "x=4\n",
    "x+=1 # unitary increment the variable x\n",
    "print x"
   ]
  },
  {
   "cell_type": "code",
   "execution_count": 168,
   "metadata": {
    "collapsed": false
   },
   "outputs": [
    {
     "data": {
      "text/plain": [
       "0.5"
      ]
     },
     "execution_count": 168,
     "metadata": {},
     "output_type": "execute_result"
    }
   ],
   "source": [
    "1/2.0"
   ]
  },
  {
   "cell_type": "markdown",
   "metadata": {},
   "source": [
    "| Symbol | Task Performed |\n",
    "|----|---|\n",
    "| == | True, if it is equal |\n",
    "| !=  | True, if not equal to |\n",
    "| < | less than |\n",
    "| > | greater than |\n",
    "| <=  | less than or equal to |\n",
    "| >=  | greater than or equal to |\n",
    "\n",
    "| Symbol | Task Performed |\n",
    "|----|---|\n",
    "| &  | Logical And |\n",
    "| l  | Logical OR |\n",
    "| ^  | XOR |\n",
    "| ~  | Negate |\n",
    "| >>  | Right shift |\n",
    "| <<  | Left shift |"
   ]
  },
  {
   "cell_type": "markdown",
   "metadata": {},
   "source": [
    "### Strings and Print command\n",
    "The **print** statement can be used in the following different ways :\n",
    "\n",
    "    - print \"Hello World\"\n",
    "    - print \"Hello\", <Variable Containing the String>\n",
    "    - print \"Hello\" + <Variable Containing the String>\n",
    "    - print \"Hello %s\" % <variable containing the string>"
   ]
  },
  {
   "cell_type": "code",
   "execution_count": 169,
   "metadata": {
    "collapsed": false
   },
   "outputs": [
    {
     "name": "stdout",
     "output_type": "stream",
     "text": [
      "Hello World\n",
      "Hey\n",
      "Hello World\n",
      "Hello World !\n",
      "HelloWorld!\n"
     ]
    }
   ],
   "source": [
    "print \"Hello World\"\n",
    "print 'Hey'\n",
    "string1 = 'World'\n",
    "print 'Hello', string1\n",
    "\n",
    "string2 = '!'\n",
    "print 'Hello', string1, string2\n",
    "\n",
    "print 'Hello' + string1 + string2"
   ]
  },
  {
   "cell_type": "markdown",
   "metadata": {},
   "source": [
    "Similarly, when using other data types\n",
    "\n",
    "    - %s -> string\n",
    "    - %d -> Integer\n",
    "    - %f -> Float\n",
    "    - %o -> Octal\n",
    "    - %x -> Hexadecimal\n",
    "    - %e -> exponential\n",
    "    \n",
    "This can be used for conversions inside the print statement itself."
   ]
  },
  {
   "cell_type": "code",
   "execution_count": 170,
   "metadata": {
    "collapsed": false
   },
   "outputs": [
    {
     "name": "stdout",
     "output_type": "stream",
     "text": [
      "Actual Number = 18\n",
      "Float of the number = 18.000000\n",
      "Octal equivalent of the number = 22\n",
      "Hexadecimal equivalent of the number = 12\n",
      "Exponential equivalent of the number = 1.800000e+01\n"
     ]
    }
   ],
   "source": [
    "print \"Actual Number = %d\" %18\n",
    "print \"Float of the number = %f\" %18\n",
    "print \"Octal equivalent of the number = %o\" %18\n",
    "print \"Hexadecimal equivalent of the number = %x\" %18\n",
    "print \"Exponential equivalent of the number = %e\" %18"
   ]
  },
  {
   "cell_type": "code",
   "execution_count": 171,
   "metadata": {
    "collapsed": false
   },
   "outputs": [
    {
     "data": {
      "text/plain": [
       "'3.12131'"
      ]
     },
     "execution_count": 171,
     "metadata": {},
     "output_type": "execute_result"
    }
   ],
   "source": [
    "\"%.5f\" % 3.121312312312"
   ]
  },
  {
   "cell_type": "markdown",
   "metadata": {},
   "source": [
    "### List and Tuples\n",
    "A list is an ordered collection of items that are accessed via their index. The first item in the list has index 0, the second has index 1, and so on. The items don’t even have to all be the same data type. You can create an empty list with a set of square brackets, [], or you can populate it right off the bat. For example, this creates a list with a mixture of numbers and strings and then accesses some of them\n"
   ]
  },
  {
   "cell_type": "code",
   "execution_count": 172,
   "metadata": {
    "collapsed": false
   },
   "outputs": [
    {
     "data": {
      "text/plain": [
       "5"
      ]
     },
     "execution_count": 172,
     "metadata": {},
     "output_type": "execute_result"
    }
   ],
   "source": [
    "data = [5, 'Bob', 'yellow', -43, 'cat']\n",
    "data[0]"
   ]
  },
  {
   "cell_type": "markdown",
   "metadata": {},
   "source": [
    "Tuples are also ordered collections of items, but they can’t be changed once created. Instead of brackets, tuples are surrounded by parentheses. You can access items and test for existence the same as with lists:"
   ]
  },
  {
   "cell_type": "code",
   "execution_count": 173,
   "metadata": {
    "collapsed": false
   },
   "outputs": [
    {
     "name": "stdout",
     "output_type": "stream",
     "text": [
      "('Bob', 'yellow')\n",
      "5\n",
      "True\n"
     ]
    },
    {
     "ename": "TypeError",
     "evalue": "'tuple' object does not support item assignment",
     "output_type": "error",
     "traceback": [
      "\u001b[0;31m---------------------------------------------------------------------------\u001b[0m",
      "\u001b[0;31mTypeError\u001b[0m                                 Traceback (most recent call last)",
      "\u001b[0;32m<ipython-input-173-b6e22471e903>\u001b[0m in \u001b[0;36m<module>\u001b[0;34m()\u001b[0m\n\u001b[1;32m      6\u001b[0m \u001b[0;32mprint\u001b[0m \u001b[0;34m'Bob'\u001b[0m \u001b[0;32min\u001b[0m \u001b[0mdata\u001b[0m\u001b[0;34m\u001b[0m\u001b[0m\n\u001b[1;32m      7\u001b[0m \u001b[0;31m# no possible to change a touple\u001b[0m\u001b[0;34m\u001b[0m\u001b[0;34m\u001b[0m\u001b[0m\n\u001b[0;32m----> 8\u001b[0;31m \u001b[0mdata\u001b[0m\u001b[0;34m[\u001b[0m\u001b[0;36m0\u001b[0m\u001b[0;34m]\u001b[0m \u001b[0;34m=\u001b[0m \u001b[0;36m10\u001b[0m\u001b[0;34m\u001b[0m\u001b[0m\n\u001b[0m",
      "\u001b[0;31mTypeError\u001b[0m: 'tuple' object does not support item assignment"
     ]
    }
   ],
   "source": [
    "data = (5, 'Bob', 'yellow', -43, 'cat')\n",
    "print data[1:3]\n",
    "\n",
    "print len(data)\n",
    "\n",
    "print 'Bob' in data\n",
    "# no possible to change a touple\n",
    "data[0] = 10"
   ]
  },
  {
   "cell_type": "markdown",
   "metadata": {},
   "source": [
    "## 4.5 Control Flow\n",
    "\n",
    "\n",
    "### If, else, elif\n",
    "\n",
    "Perhaps the simplest way to change execution order is to test a condition and do something different depending on the outcome of the test. This can be done with an if statement.\n",
    "\n",
    "if some_condition:\n",
    "    \n",
    "    algorithm\n",
    "    "
   ]
  },
  {
   "cell_type": "code",
   "execution_count": null,
   "metadata": {
    "collapsed": true
   },
   "outputs": [],
   "source": [
    "x = 12\n",
    "if x >10:\n",
    "    print \"Hello\""
   ]
  },
  {
   "cell_type": "code",
   "execution_count": null,
   "metadata": {
    "collapsed": true
   },
   "outputs": [],
   "source": [
    "n=1\n",
    "if n == 1:\n",
    "    print('n equals 1')\n",
    "else:\n",
    "    print('n does not equal 1')\n",
    "print('This is not part of the condition')"
   ]
  },
  {
   "cell_type": "code",
   "execution_count": null,
   "metadata": {
    "collapsed": true
   },
   "outputs": [],
   "source": [
    "if n == 1:\n",
    "    print('n equals 1')\n",
    "elif n == 3:\n",
    "    print('n equals 3')\n",
    "elif n > 5:\n",
    "    print('n is greater than 5')\n",
    "else:\n",
    "    print('what is n?')"
   ]
  },
  {
   "cell_type": "markdown",
   "metadata": {},
   "source": [
    "### while\n",
    "A while statement executes a block of code as long as a condition is True. The condi- tion is evaluated, and if it’s True, then the code is executed. Then the condition is checked again, and if it’s still True, then the code executes again. This continues until the condition is False. If the condition never becomes False, then the code will run forever, which is called an infinite loop and is a scenario you definitely want to avoid."
   ]
  },
  {
   "cell_type": "code",
   "execution_count": null,
   "metadata": {
    "collapsed": false
   },
   "outputs": [],
   "source": [
    "n = 0\n",
    "while n < 5:\n",
    "    print(n)\n",
    "    n += 1\n",
    "    "
   ]
  },
  {
   "cell_type": "markdown",
   "metadata": {},
   "source": [
    "### for\n",
    "A for statement allows you to iterate over a sequence of values and do something for each one. When you write a for statement, you not only provide the sequence to iter- ate over, but you also provide a variable name. Each time through the loop, this vari- able contains a different value from the sequence. This example iterates through a list of names and prints a message for each one:"
   ]
  },
  {
   "cell_type": "code",
   "execution_count": null,
   "metadata": {
    "collapsed": false
   },
   "outputs": [],
   "source": [
    "names = ['Chris', 'Janet', 'Tami']\n",
    "for name in names:\n",
    "    print('Hello {}!'.format(name))\n"
   ]
  },
  {
   "cell_type": "markdown",
   "metadata": {},
   "source": [
    "### THE RANGE FUNCTION\n",
    "The range function makes it easy to iterate over a sequence of numbers. Although this function has more parameters, the simplest way to use it is to provide a number n, and it will create a sequence from 0 to n-1.\n"
   ]
  },
  {
   "cell_type": "code",
   "execution_count": null,
   "metadata": {
    "collapsed": false
   },
   "outputs": [],
   "source": [
    "n = 0\n",
    "for i in range(1,20,2):\n",
    "    n += 1\n",
    "\n",
    "print(n)\n"
   ]
  },
  {
   "cell_type": "markdown",
   "metadata": {},
   "source": [
    "### break, continue, and else\n",
    "A few statements apply to while and for loops. The first one, break, will kick execution completely out of the loop, as in this example that stops the loop when i is equal to 3"
   ]
  },
  {
   "cell_type": "code",
   "execution_count": null,
   "metadata": {
    "collapsed": false
   },
   "outputs": [],
   "source": [
    "for i in range(5):\n",
    "    if i == 3:\n",
    "        break\n",
    "    print(i)"
   ]
  },
  {
   "cell_type": "markdown",
   "metadata": {},
   "source": [
    "The continue statement jumps back up to the top of the loop and starts the next iteration, skipping the rest of the code that would normally be executed during the current loop iteration."
   ]
  },
  {
   "cell_type": "code",
   "execution_count": null,
   "metadata": {
    "collapsed": false
   },
   "outputs": [],
   "source": [
    "for i in range(5):\n",
    "\n",
    "    if i == 3:\n",
    "        continue\n",
    "    print(i)"
   ]
  },
  {
   "cell_type": "markdown",
   "metadata": {
    "nbpresent": {
     "id": "f81f9570-d4c4-4e2f-8a57-3881a4881b69"
    }
   },
   "source": [
    "## 4.6 Functions\n",
    "\n",
    "If you find that you reuse the same bits of code over and over, you can create your own function and call that instead of repeating the same code. This makes things much easier and also less error-prone, because you won’t have nearly as many places to make typos. When you create a function, you need to give it a name and tell it what parameters the user needs to provide to use it.\n",
    "Let’s create a simple function to calculate a factorial:"
   ]
  },
  {
   "cell_type": "code",
   "execution_count": null,
   "metadata": {
    "collapsed": true
   },
   "outputs": [],
   "source": [
    "def factorial(n):\n",
    "            answer = 1\n",
    "            for i in range(1, n + 1):\n",
    "                answer = answer * i\n",
    "            return answer"
   ]
  },
  {
   "cell_type": "code",
   "execution_count": null,
   "metadata": {
    "collapsed": false
   },
   "outputs": [],
   "source": [
    "fact5 = factorial(5)\n",
    "print fact5"
   ]
  },
  {
   "cell_type": "markdown",
   "metadata": {},
   "source": [
    "## 4.7 Classes\n",
    "\n",
    "Classes are an extremely powerful concept, but all you need to understand for the purposes of this tutorial are that they’re data types that can contain their own internal data and functions"
   ]
  },
  {
   "cell_type": "markdown",
   "metadata": {
    "collapsed": true
   },
   "source": [
    "<!--NAVIGATION-->\n",
    "< [3_Python_Intro](3_Python_intro.ipynb) | [Contents](Index.ipynb) | [4-Numpy - Intro](4_Numpy_intro.ipynb) >"
   ]
  }
 ],
 "metadata": {
  "anaconda-cloud": {
   "attach-environment": true,
   "environment": null,
   "summary": "System_Risk_GIS_FloodRisk_Python",
   "url": "https://anaconda.org/gecosistema/tutorial_dem_flooding"
  },
  "kernelspec": {
   "display_name": "Python [conda root]",
   "language": "python",
   "name": "conda-root-py"
  },
  "language_info": {
   "codemirror_mode": {
    "name": "ipython",
    "version": 2
   },
   "file_extension": ".py",
   "mimetype": "text/x-python",
   "name": "python",
   "nbconvert_exporter": "python",
   "pygments_lexer": "ipython2",
   "version": "2.7.12"
  },
  "nbpresent": {
   "slides": {
    "02846c44-38f9-4aef-ab37-8352ebc70511": {
     "id": "02846c44-38f9-4aef-ab37-8352ebc70511",
     "prev": "71b5d3d6-77a7-4745-885f-ffc1420d2665",
     "regions": {
      "e9303037-dc9c-4738-9a7f-ec376dc34ebd": {
       "attrs": {
        "height": 0.8,
        "width": 0.8,
        "x": 0.1,
        "y": 0.1
       },
       "content": {
        "cell": "08ed20e8-3a1e-4bfd-9bcc-194f5ea0b39a",
        "part": "whole"
       },
       "id": "e9303037-dc9c-4738-9a7f-ec376dc34ebd"
      }
     }
    },
    "060cbb0a-6be3-413b-b02d-fb39c6da0328": {
     "id": "060cbb0a-6be3-413b-b02d-fb39c6da0328",
     "prev": "5baef3ad-9342-45cb-be10-e49f5003c9d7",
     "regions": {
      "1b8534db-67d4-4e24-b3f8-4383a60de997": {
       "attrs": {
        "height": 0.8,
        "width": 0.8,
        "x": 0.1,
        "y": 0.1
       },
       "content": {
        "cell": "f81f9570-d4c4-4e2f-8a57-3881a4881b69",
        "part": "whole"
       },
       "id": "1b8534db-67d4-4e24-b3f8-4383a60de997"
      }
     }
    },
    "129f00a1-0146-4c50-8667-b07c5b2d0eeb": {
     "id": "129f00a1-0146-4c50-8667-b07c5b2d0eeb",
     "prev": "614538c9-99cd-42b3-b2c7-4e1ab0d4e7ce",
     "regions": {
      "ea63d8f6-c8ed-4b98-8c70-371f43ec89d9": {
       "attrs": {
        "height": 0.8,
        "width": 0.8,
        "x": 0.1,
        "y": 0.1
       },
       "content": {
        "cell": "dda7b0e7-4c44-4482-b791-23e93bedc4e8",
        "part": "whole"
       },
       "id": "ea63d8f6-c8ed-4b98-8c70-371f43ec89d9"
      }
     }
    },
    "24f3d903-07b4-46ad-8605-a30cc72864e8": {
     "id": "24f3d903-07b4-46ad-8605-a30cc72864e8",
     "prev": "389b4d70-b739-4d1a-8523-020ec1e069fd",
     "regions": {
      "93aaa554-dacc-471c-bbe8-b4aaac1e9872": {
       "attrs": {
        "height": 0.8,
        "width": 0.8,
        "x": 0.1,
        "y": 0.1
       },
       "content": {
        "cell": "a7945d9e-1ec9-49ad-97ea-03775d0db6ee",
        "part": "whole"
       },
       "id": "93aaa554-dacc-471c-bbe8-b4aaac1e9872"
      }
     }
    },
    "37b2a110-105d-4f03-8287-7b63a4923211": {
     "id": "37b2a110-105d-4f03-8287-7b63a4923211",
     "prev": "72a469c8-a471-4290-88de-7df3b22d42b0",
     "regions": {
      "a515c1f8-f153-41b5-8716-f22bf5005736": {
       "attrs": {
        "height": 0.8,
        "width": 0.8,
        "x": 0.1,
        "y": 0.1
       },
       "content": {
        "cell": "bbff907a-fe14-488d-b817-7818d01c8fed",
        "part": "whole"
       },
       "id": "a515c1f8-f153-41b5-8716-f22bf5005736"
      }
     }
    },
    "389b4d70-b739-4d1a-8523-020ec1e069fd": {
     "id": "389b4d70-b739-4d1a-8523-020ec1e069fd",
     "prev": "f3ed960f-5e66-4af9-b6db-7185e26ca908",
     "regions": {
      "aa3c9f93-5315-4267-a6d8-09e0ad39f5fc": {
       "attrs": {
        "height": 0.8,
        "width": 0.8,
        "x": 0.1,
        "y": 0.1
       },
       "content": {
        "cell": "2134dfb5-7454-4a64-8403-776934ebc23c",
        "part": "whole"
       },
       "id": "aa3c9f93-5315-4267-a6d8-09e0ad39f5fc"
      }
     }
    },
    "3d7f49bd-2657-4c4f-96db-4cda796a8940": {
     "id": "3d7f49bd-2657-4c4f-96db-4cda796a8940",
     "prev": "d28c9aad-45cd-4227-87ba-c966f9f7f892",
     "regions": {
      "f3c0d25c-5cda-43c3-b303-283279bd5d97": {
       "attrs": {
        "height": 0.8,
        "width": 0.8,
        "x": 0.1,
        "y": 0.1
       },
       "content": {
        "cell": "af6bdd26-055a-4f38-974c-90f6412bffdd",
        "part": "whole"
       },
       "id": "f3c0d25c-5cda-43c3-b303-283279bd5d97"
      }
     }
    },
    "5baef3ad-9342-45cb-be10-e49f5003c9d7": {
     "id": "5baef3ad-9342-45cb-be10-e49f5003c9d7",
     "prev": "e2b96bf4-ca5e-4cab-9f6c-88e974a66483",
     "regions": {
      "358e9f2a-97d5-4bbb-a5b0-b3fd0f714f62": {
       "attrs": {
        "height": 0.8,
        "width": 0.8,
        "x": 0.1,
        "y": 0.1
       },
       "content": {
        "cell": "ba961c1e-399a-4ff4-ab93-edb98666e243",
        "part": "whole"
       },
       "id": "358e9f2a-97d5-4bbb-a5b0-b3fd0f714f62"
      }
     }
    },
    "614538c9-99cd-42b3-b2c7-4e1ab0d4e7ce": {
     "id": "614538c9-99cd-42b3-b2c7-4e1ab0d4e7ce",
     "prev": "060cbb0a-6be3-413b-b02d-fb39c6da0328",
     "regions": {
      "10376570-99ad-47b9-910e-39f06583aa56": {
       "attrs": {
        "height": 0.8,
        "width": 0.8,
        "x": 0.1,
        "y": 0.1
       },
       "content": {
        "cell": "45e1366d-17c9-4927-bd4e-dc10b1085f44",
        "part": "whole"
       },
       "id": "10376570-99ad-47b9-910e-39f06583aa56"
      }
     }
    },
    "6203f2ae-d39f-423c-9237-df931af8bbca": {
     "id": "6203f2ae-d39f-423c-9237-df931af8bbca",
     "prev": "02846c44-38f9-4aef-ab37-8352ebc70511",
     "regions": {
      "91ccc09e-a852-4640-aa24-4e5c46f70ca3": {
       "attrs": {
        "height": 0.8,
        "width": 0.8,
        "x": 0.1,
        "y": 0.1
       },
       "content": {
        "cell": "eedc1df0-6c2e-428b-b1d6-f44bc0b0915c",
        "part": "whole"
       },
       "id": "91ccc09e-a852-4640-aa24-4e5c46f70ca3"
      }
     }
    },
    "71b5d3d6-77a7-4745-885f-ffc1420d2665": {
     "id": "71b5d3d6-77a7-4745-885f-ffc1420d2665",
     "prev": "af5e62de-6c34-4373-80ad-3d8691e42601",
     "regions": {
      "a73abf97-80cb-4861-8764-6813e587fa8d": {
       "attrs": {
        "height": 0.8,
        "width": 0.8,
        "x": 0.1,
        "y": 0.1
       },
       "content": {
        "cell": "32c9d0a9-ede4-40c3-b476-cac60d4c74ea",
        "part": "whole"
       },
       "id": "a73abf97-80cb-4861-8764-6813e587fa8d"
      }
     }
    },
    "72a469c8-a471-4290-88de-7df3b22d42b0": {
     "id": "72a469c8-a471-4290-88de-7df3b22d42b0",
     "prev": "6203f2ae-d39f-423c-9237-df931af8bbca",
     "regions": {
      "949cad9e-c468-4c9a-8d68-d633306c8f1a": {
       "attrs": {
        "height": 0.8,
        "width": 0.8,
        "x": 0.1,
        "y": 0.1
       },
       "content": {
        "cell": "ed7bdc7b-69ca-4774-b611-3248d21207f8",
        "part": "whole"
       },
       "id": "949cad9e-c468-4c9a-8d68-d633306c8f1a"
      }
     }
    },
    "7c2d2c6f-bd5a-4e85-911c-d1d708d28996": {
     "id": "7c2d2c6f-bd5a-4e85-911c-d1d708d28996",
     "prev": "3d7f49bd-2657-4c4f-96db-4cda796a8940",
     "regions": {
      "6e8b1ba0-4060-405e-a381-8f92630b8994": {
       "attrs": {
        "height": 0.8,
        "width": 0.8,
        "x": 0.1,
        "y": 0.1
       },
       "content": {
        "cell": "94a55052-1f09-4653-8d97-13691f89a5af",
        "part": "whole"
       },
       "id": "6e8b1ba0-4060-405e-a381-8f92630b8994"
      }
     }
    },
    "7d30fcfb-383a-4847-bd2a-52ed6304014e": {
     "id": "7d30fcfb-383a-4847-bd2a-52ed6304014e",
     "prev": "e24ad135-a3f7-46fe-b7fc-409bb89883e0",
     "regions": {
      "df410d6a-f9b1-4fef-8c22-8966240692a9": {
       "attrs": {
        "height": 0.8,
        "width": 0.8,
        "x": 0.1,
        "y": 0.1
       },
       "content": {
        "cell": "0c3e6324-872f-47b3-8a71-d6d69b35cbd7",
        "part": "whole"
       },
       "id": "df410d6a-f9b1-4fef-8c22-8966240692a9"
      }
     }
    },
    "85b24560-6b9a-4f3c-81bd-74b4f32df13a": {
     "id": "85b24560-6b9a-4f3c-81bd-74b4f32df13a",
     "prev": "eca5a0f2-9008-4092-bdd9-3191d5576458",
     "regions": {
      "d641820e-299e-4262-bb88-51e3036a823f": {
       "attrs": {
        "height": 0.8,
        "width": 0.8,
        "x": 0.1,
        "y": 0.1
       },
       "content": {
        "cell": "95869fba-1118-41e7-96a2-991e5c5a756a",
        "part": "whole"
       },
       "id": "d641820e-299e-4262-bb88-51e3036a823f"
      }
     }
    },
    "869d44bd-c99d-41f4-a284-d6ad6c3bbe4e": {
     "id": "869d44bd-c99d-41f4-a284-d6ad6c3bbe4e",
     "prev": "e9b66c21-dd23-48c2-9a3f-33fe494cefec",
     "regions": {
      "e55c411f-cb42-4dea-a485-50f361151b48": {
       "attrs": {
        "height": 0.8,
        "width": 0.8,
        "x": 0.1,
        "y": 0.1
       },
       "content": {
        "cell": "db87eb7a-bcfb-4f47-b2a7-31fec2ab8b7c",
        "part": "whole"
       },
       "id": "e55c411f-cb42-4dea-a485-50f361151b48"
      }
     }
    },
    "86ee40b8-3a7c-44d5-bdc8-6b4ab40da55b": {
     "id": "86ee40b8-3a7c-44d5-bdc8-6b4ab40da55b",
     "prev": "8920fe11-3ca1-47a5-abd4-02c2f5c6edd5",
     "regions": {
      "f95b9e1f-fc6e-4fc4-8861-777955515c41": {
       "attrs": {
        "height": 0.8,
        "width": 0.8,
        "x": 0.1,
        "y": 0.1
       },
       "content": {
        "cell": "f8957239-9b2b-417a-bb07-b8751138d10b",
        "part": "whole"
       },
       "id": "f95b9e1f-fc6e-4fc4-8861-777955515c41"
      }
     }
    },
    "8920fe11-3ca1-47a5-abd4-02c2f5c6edd5": {
     "id": "8920fe11-3ca1-47a5-abd4-02c2f5c6edd5",
     "prev": "869d44bd-c99d-41f4-a284-d6ad6c3bbe4e",
     "regions": {
      "07fa0bcb-52cf-4521-bfad-92fcdc5b7b90": {
       "attrs": {
        "height": 0.8,
        "width": 0.8,
        "x": 0.1,
        "y": 0.1
       },
       "content": {
        "cell": "51a0feff-4025-48e4-a45c-9c9b3a30da9c",
        "part": "whole"
       },
       "id": "07fa0bcb-52cf-4521-bfad-92fcdc5b7b90"
      }
     }
    },
    "af5e62de-6c34-4373-80ad-3d8691e42601": {
     "id": "af5e62de-6c34-4373-80ad-3d8691e42601",
     "prev": "7d30fcfb-383a-4847-bd2a-52ed6304014e",
     "regions": {
      "92e73601-62ca-468b-83f8-96fbc6505136": {
       "attrs": {
        "height": 0.8,
        "width": 0.8,
        "x": 0.1,
        "y": 0.1
       },
       "content": {
        "cell": "a1de97fa-11cc-45a5-8b48-0c26135390c2",
        "part": "whole"
       },
       "id": "92e73601-62ca-468b-83f8-96fbc6505136"
      }
     }
    },
    "b710730a-bcb2-40ce-b7a7-c0c89d3f3570": {
     "id": "b710730a-bcb2-40ce-b7a7-c0c89d3f3570",
     "prev": "7c2d2c6f-bd5a-4e85-911c-d1d708d28996",
     "regions": {
      "f28cfeef-dac1-40aa-a5ae-f80e3e06c1c2": {
       "attrs": {
        "height": 0.8,
        "width": 0.8,
        "x": 0.1,
        "y": 0.1
       },
       "content": {
        "cell": "e83c912e-aa12-49d4-ab61-acef128249f3",
        "part": "whole"
       },
       "id": "f28cfeef-dac1-40aa-a5ae-f80e3e06c1c2"
      }
     }
    },
    "b9811710-7832-41cf-a160-0cda733e8fe0": {
     "id": "b9811710-7832-41cf-a160-0cda733e8fe0",
     "prev": "86ee40b8-3a7c-44d5-bdc8-6b4ab40da55b",
     "regions": {
      "9846698b-693e-4e66-bc97-169dc99dac83": {
       "attrs": {
        "height": 0.8,
        "width": 0.8,
        "x": 0.1,
        "y": 0.1
       },
       "content": {
        "cell": "e84ec698-bb2f-455b-9a68-31dd3af64a3f",
        "part": "whole"
       },
       "id": "9846698b-693e-4e66-bc97-169dc99dac83"
      }
     }
    },
    "d28c9aad-45cd-4227-87ba-c966f9f7f892": {
     "id": "d28c9aad-45cd-4227-87ba-c966f9f7f892",
     "prev": "129f00a1-0146-4c50-8667-b07c5b2d0eeb",
     "regions": {
      "9d9dcd59-8531-475f-ba42-74cf48f9d3be": {
       "attrs": {
        "height": 0.8,
        "width": 0.8,
        "x": 0.1,
        "y": 0.1
       },
       "content": {
        "cell": "dd1fec34-ffa6-474c-9213-5adb5f106fb5",
        "part": "whole"
       },
       "id": "9d9dcd59-8531-475f-ba42-74cf48f9d3be"
      }
     }
    },
    "dc9683a6-86af-45cc-a2da-0e448e83c976": {
     "id": "dc9683a6-86af-45cc-a2da-0e448e83c976",
     "prev": "37b2a110-105d-4f03-8287-7b63a4923211",
     "regions": {
      "d36030ad-089f-46a2-8129-fd09da697617": {
       "attrs": {
        "height": 0.8,
        "width": 0.8,
        "x": 0.1,
        "y": 0.1
       },
       "content": {
        "cell": "308d21f1-0db4-46f3-b60a-923940edcb0b",
        "part": "whole"
       },
       "id": "d36030ad-089f-46a2-8129-fd09da697617"
      }
     }
    },
    "e24ad135-a3f7-46fe-b7fc-409bb89883e0": {
     "id": "e24ad135-a3f7-46fe-b7fc-409bb89883e0",
     "prev": "b710730a-bcb2-40ce-b7a7-c0c89d3f3570",
     "regions": {
      "d2e48674-006e-426e-b88e-34bc617cd4dc": {
       "attrs": {
        "height": 0.8,
        "width": 0.8,
        "x": 0.1,
        "y": 0.1
       },
       "content": {
        "cell": "3c915b92-276e-4181-a34e-08d6bce4dc6c",
        "part": "whole"
       },
       "id": "d2e48674-006e-426e-b88e-34bc617cd4dc"
      }
     }
    },
    "e2b96bf4-ca5e-4cab-9f6c-88e974a66483": {
     "id": "e2b96bf4-ca5e-4cab-9f6c-88e974a66483",
     "prev": "85b24560-6b9a-4f3c-81bd-74b4f32df13a",
     "regions": {
      "99d3efa5-59fb-4200-bbe7-372e66c756e0": {
       "attrs": {
        "height": 0.8,
        "width": 0.8,
        "x": 0.1,
        "y": 0.1
       },
       "content": {
        "cell": "e46f114f-b44b-4413-a2fc-f7d2ee494bb9",
        "part": "whole"
       },
       "id": "99d3efa5-59fb-4200-bbe7-372e66c756e0"
      }
     }
    },
    "e9b66c21-dd23-48c2-9a3f-33fe494cefec": {
     "id": "e9b66c21-dd23-48c2-9a3f-33fe494cefec",
     "prev": "24f3d903-07b4-46ad-8605-a30cc72864e8",
     "regions": {
      "ca42ff51-ab1f-4b25-9580-71ba5279d373": {
       "attrs": {
        "height": 0.8,
        "width": 0.8,
        "x": 0.1,
        "y": 0.1
       },
       "content": {
        "cell": "0985c53d-b3ee-4788-bab3-f6ae5da14e1a",
        "part": "whole"
       },
       "id": "ca42ff51-ab1f-4b25-9580-71ba5279d373"
      }
     }
    },
    "eca5a0f2-9008-4092-bdd9-3191d5576458": {
     "id": "eca5a0f2-9008-4092-bdd9-3191d5576458",
     "layout": "treemap",
     "prev": null,
     "regions": {
      "74d9e509-ac55-48e6-9c15-08c2d22b2cf8": {
       "attrs": {
        "height": 1,
        "pad": 0.01,
        "treemap:weight": 1,
        "width": 1,
        "x": 0,
        "y": 0
       },
       "content": {
        "cell": "71b9274c-7e14-4f96-a5b6-c5c2ab107d00",
        "part": "whole"
       },
       "id": "74d9e509-ac55-48e6-9c15-08c2d22b2cf8"
      }
     }
    },
    "f3ed960f-5e66-4af9-b6db-7185e26ca908": {
     "id": "f3ed960f-5e66-4af9-b6db-7185e26ca908",
     "prev": "dc9683a6-86af-45cc-a2da-0e448e83c976",
     "regions": {
      "99f485b1-3bc8-4ef2-b047-0894efda0c2f": {
       "attrs": {
        "height": 0.8,
        "width": 0.8,
        "x": 0.1,
        "y": 0.1
       },
       "content": {
        "cell": "13806d54-af83-46e7-9fa6-cd4df7537017",
        "part": "whole"
       },
       "id": "99f485b1-3bc8-4ef2-b047-0894efda0c2f"
      }
     }
    }
   },
   "themes": {
    "default": "1f3a7524-b862-4068-ad65-291ca58720ab",
    "theme": {}
   }
  }
 },
 "nbformat": 4,
 "nbformat_minor": 1
}
