{
 "cells": [
  {
   "cell_type": "markdown",
   "metadata": {},
   "source": [
    "<!--NAVIGATION-->\n",
    "< [7_Risk_Mapping Python_GDA](7_Risk_Mapping Python_GDAL.ipynb) | [Contents](Index.ipynb)  >"
   ]
  },
  {
   "cell_type": "markdown",
   "metadata": {},
   "source": [
    "<img align=\"left\" style=\"width: 350px;\" src=\"figures/logo.png\"/>\n",
    "----------------------------------------------------------------------------------------------------------------------\n",
    "# Bologna Training Course 23 – 27 January 2017\n",
    "\n",
    "# Hydrological and Flood Risk Geo-processing with Open Source (Python/GDAL) \n",
    "<img  align=\"left\" style=\"width: 300px;\" src=\"figures/logo2011.jpg\"/>\n",
    "\n",
    "----------------------------------------------------------------------------------------------------------------------\n",
    "## Stefano Bagli and Paolo Mazzoli - [GECOsistema srl ](www.gecosistema.com)\n",
    "----------------------------------------------------------------------------------------------------------------------"
   ]
  },
  {
   "cell_type": "code",
   "execution_count": 20,
   "metadata": {
    "collapsed": true
   },
   "outputs": [],
   "source": [
    "import gdal,gdalconst\n",
    "import numpy\n",
    "import os, glob\n",
    "import sys\n",
    "import matplotlib.pyplot as plt\n",
    "from osgeo import ogr, osr\n",
    "import csv\n",
    "#-------------------------------------------------------------------------------\n",
    "#   GDAL2Numpy\n",
    "#-------------------------------------------------------------------------------\n",
    "def GDAL2Numpy(pathname):\n",
    "    dataset = gdal.Open(pathname,gdalconst.GA_ReadOnly) # open the dataset in read mode\n",
    "    band = dataset.GetRasterBand(1) # get the first band (Remember that band indices start at 1 instead of 0 )\n",
    "    cols = dataset.RasterXSize # read number of colums\n",
    "    rows = dataset.RasterYSize # read number of rows\n",
    "    geotransform = dataset.GetGeoTransform() # read the geotransform (origin coordinates and pixel sizes, along with rotation values)\n",
    "    projection = dataset.GetProjection() # read the proj info\n",
    "    wdata = band.ReadAsArray(0, 0, cols, rows).astype(\"float32\") #read all pixels as array\n",
    "    nodata =band.GetNoDataValue()\n",
    "    return (wdata,geotransform,projection,nodata) \n",
    "#-------------------------------------------------------------------------------\n",
    "#   Numpy2GTiff\n",
    "#-------------------------------------------------------------------------------\n",
    "def Numpy2GTiff(arr ,geotransform,projection,filename):\n",
    "    if isinstance(arr,numpy.ndarray):\n",
    "        rows,cols = arr.shape\n",
    "        if rows>0 and cols>0:\n",
    "            dtype = str(arr.dtype)\n",
    "            if   dtype in [\"uint8\"]:\n",
    "                fmt = gdal.GDT_Byte\n",
    "            elif dtype in [\"uint16\"]:\n",
    "                fmt = gdal.GDT_UInt16\n",
    "            elif dtype in [\"uint32\"]:\n",
    "                fmt = gdal.GDT_UInt32\n",
    "            elif dtype in [\"float32\"]:\n",
    "                fmt = gdal.GDT_Float32\n",
    "            elif dtype in [\"float64\"]:\n",
    "                fmt = gdal.GDT_Float64\n",
    "            else:\n",
    "                fmt = gdal.GDT_Float64\n",
    "\n",
    "            driver = gdal.GetDriverByName(\"GTiff\")\n",
    "            dataset = driver.Create( filename, cols, rows, 1, fmt )\n",
    "            if (geotransform!=None):\n",
    "                dataset.SetGeoTransform( geotransform )\n",
    "            if (projection!=None):\n",
    "                dataset.SetProjection(projection)\n",
    "            dataset.GetRasterBand(1).WriteArray( arr )\n",
    "            dataset = None\n",
    "            return filename\n",
    "    return None"
   ]
  },
  {
   "cell_type": "markdown",
   "metadata": {},
   "source": [
    "# 7- From Flood Hazard to Risk Mapping\n",
    "\n",
    "The following example shows how to map flood risk from hazard maps (flooded area derived from hydrodynamic models -  LISFLOOD ) through the use of Damage Curves.\n",
    "\n",
    "\n",
    "## 7.1 Damage Curve\n",
    "\n",
    "Damage Curve Definition  - relatioship between Water Depth and Damages (Economical, Social, Environmental)\n",
    "<img style=\"width: 700px;\" src=\"figures/damage_1.png\">\n",
    "\n",
    "Flood damage functions measure the susceptibility of assets (economic, life or environmental losses) to certain inundation characteristics, in this case specifically inundation depth"
   ]
  },
  {
   "cell_type": "markdown",
   "metadata": {},
   "source": [
    "### 7.1.1 Social (Life Losses) Damage Function Jonkman\n",
    "Jonkman Damage function between the water depth and mortality are deived from data from the 1953 flood, in which a storm surge on the North Sea inundated a large part of the South West of the Netherlands and cause 1800 deaths.\n",
    "\n",
    "<#img src=\"figures/damage_jon.PNG\">\n",
    "\n",
    "<img src=\"figures/losslife.PNG\">\n",
    "\n",
    "\n",
    "Boyd et al. (2005) derived a mortality function based on observations from seven flood events, including hurricanes Betsy (1965) and Camille (1969) in the United States.\n",
    "\n",
    "$$F_{{\\text{D}}} = \\frac{{0.34}} {{(1 + \\exp (20.37 - 6.18h))}}$$\n",
    "\n",
    "<img src=\"figures/life1.gif\">\n"
   ]
  },
  {
   "cell_type": "code",
   "execution_count": 32,
   "metadata": {
    "collapsed": false
   },
   "outputs": [
    {
     "data": {
      "text/html": [
       "<iframe src=http://link.springer.com/article/10.1007/s11069-008-9227-5 width=900 height=500></iframe>"
      ],
      "text/plain": [
       "<IPython.core.display.HTML object>"
      ]
     },
     "execution_count": 32,
     "metadata": {},
     "output_type": "execute_result"
    }
   ],
   "source": [
    "import IPython\n",
    "url = 'http://link.springer.com/article/10.1007/s11069-008-9227-5'\n",
    "iframe = '<iframe src=' + url + ' width=900 height=500></iframe>'\n",
    "IPython.display.HTML(iframe)\n"
   ]
  },
  {
   "cell_type": "code",
   "execution_count": 31,
   "metadata": {
    "collapsed": false
   },
   "outputs": [
    {
     "data": {
      "text/plain": [
       "<matplotlib.legend.Legend at 0x118ca27d0>"
      ]
     },
     "execution_count": 31,
     "metadata": {},
     "output_type": "execute_result"
    },
    {
     "data": {
      "image/png": "[encoded data removed]",
      "text/plain": [
       "<matplotlib.figure.Figure at 0x10cbd5b90>"
      ]
     },
     "metadata": {},
     "output_type": "display_data"
    }
   ],
   "source": [
    "%matplotlib inline\n",
    "import math\n",
    "\n",
    "from matplotlib import pyplot as plt\n",
    "x =numpy.arange(5)\n",
    "y=0.000918*numpy.exp(1.52*x)\n",
    "y1=0.34/(1+numpy.exp(20.37-6.18*x))\n",
    "\n",
    "#y=(-0.21+3.57*numpy.log10(x))/10.0\n",
    "plt.xlabel('Water Depth [m]') # label\n",
    "plt.ylabel('Life Losses')\n",
    "plt.title('Mortality Damage Function - Jonkman')\n",
    "plt.plot(x, y, label='Jonkman')\n",
    "plt.plot(x, y1, label='Boyd')\n",
    "plt.legend()"
   ]
  },
  {
   "cell_type": "markdown",
   "metadata": {},
   "source": [
    "\n",
    "<img src=\"figures/nod.PNG\">"
   ]
  },
  {
   "cell_type": "code",
   "execution_count": 22,
   "metadata": {
    "collapsed": false
   },
   "outputs": [
    {
     "name": "stdout",
     "output_type": "stream",
     "text": [
      "Total Number of Deaths=7186.1\n"
     ]
    },
    {
     "name": "stderr",
     "output_type": "stream",
     "text": [
      "/anaconda/lib/python2.7/site-packages/ipykernel/__main__.py:7: RuntimeWarning: overflow encountered in multiply\n"
     ]
    },
    {
     "data": {
      "text/plain": [
       "'NOD_floodMapEU_rp500y_Turim.tif'"
      ]
     },
     "execution_count": 22,
     "metadata": {},
     "output_type": "execute_result"
    }
   ],
   "source": [
    "#def Social_damage_func(workdir,waterdepthfilename,popfilename):\n",
    "def lifelosses(workdir,waterdepthfilename,Expopfilename):    \n",
    "    (WDgrid,geotransform,projection,nodata)=GDAL2Numpy(workdir+waterdepthfilename) #read water depth filename    \n",
    "    #LOL_map=0.0536*WDgrid+0.184 #Linerized Jonkman damage funtion - fraction of life losses    \n",
    "    #LOL_map=0.0012*numpy.power(WDgrid,3)+0.0257*numpy.power(WDgrid,2)+0.00113*WDgrid\n",
    "    #LOL_map=(-0.21+3.57*numpy.log(WDgrid))/10.0\n",
    "    LOL_map=(0.000918*numpy.exp(1.52*WDgrid)) # compute the map of life losses fraction \n",
    "    LOL_map=numpy.where(LOL_map>0, LOL_map,0) # force negative values to 0\n",
    "    LOL_map=numpy.where(LOL_map>1, 1,LOL_map) # force >1 values to 1\n",
    "    Numpy2GTiff(LOL_map ,geotransform,projection,workdir+'output/'+'LOL_'+waterdepthfilename) # save LifeofLosses map\n",
    "    (EXPOgrid,geotransform,projection,nodata)=GDAL2Numpy(workdir+Expopfilename) # read population array\n",
    "    #print LOL_map\n",
    "    EXPOgrid=numpy.where(EXPOgrid>0, EXPOgrid,0) # force negative values to 0\n",
    "    # population is ab/km2 - raster size is 100 m - compute the factor in order to evaluate \n",
    "    # the number of people living in each pixel\n",
    "    pixelsize=100.0 # 100 m\n",
    "    unit=1000.0  # km\n",
    "    factor=(unit*unit)/(pixelsize*pixelsize)\n",
    "    \n",
    "    EXPOgrid=EXPOgrid/factor # number of people living in a 100 m pixel\n",
    "    \n",
    "    NumberOfDeathMap=LOL_map*(EXPOgrid)\n",
    "    NumberOfDeathMap=numpy.where(NumberOfDeathMap>=1, NumberOfDeathMap,0)\n",
    "    #print NunberOfDeathMap\n",
    "    print \"Total Number of Deaths=\"+str(numpy.sum(NumberOfDeathMap))\n",
    "    Numpy2GTiff(NumberOfDeathMap ,geotransform,projection,workdir+'output/'+'NOD_'+waterdepthfilename)\n",
    "    return 'NOD_'+waterdepthfilename\n",
    "    \n",
    "\n",
    "workdir='data/Chap_7/'\n",
    "waterdepthfilename='floodMapEU_rp500y_Turim.tif'\n",
    "Expopfilename='popu01clcv5_Turim.tif'\n",
    "lifelosses(workdir,waterdepthfilename,Expopfilename)"
   ]
  },
  {
   "cell_type": "markdown",
   "metadata": {},
   "source": [
    "### 7.1.2 Economical Damage Function"
   ]
  },
  {
   "cell_type": "code",
   "execution_count": 2,
   "metadata": {
    "collapsed": false
   },
   "outputs": [
    {
     "name": "stdout",
     "output_type": "stream",
     "text": [
      "[  1.   2.   3.   4.   6.   7.   8.   9.  10.  11.  12.  14.  15.  16.  18.\n",
      "  20.  21.  23.  24.  25.  26.  29.  30.  32.  40.  41.]\n",
      "CORNE Class1.0 ASSET VALUE(keuro/mq)=0.589443999639\n",
      "CORNE Class2.0 ASSET VALUE(keuro/mq)=0.567143531681\n",
      "CORNE Class3.0 ASSET VALUE(keuro/mq)=0.62297271085\n",
      "CORNE Class4.0 ASSET VALUE(keuro/mq)=0.662062517098\n",
      "CORNE Class6.0 ASSET VALUE(keuro/mq)=0.99911218424\n",
      "CORNE Class7.0 ASSET VALUE(keuro/mq)=0.458924638315\n",
      "CORNE Class8.0 ASSET VALUE(keuro/mq)=0.182740787713\n",
      "CORNE Class9.0 ASSET VALUE(keuro/mq)=0.915483870583\n",
      "CORNE Class10.0 ASSET VALUE(keuro/mq)=0.708467936276\n",
      "CORNE Class11.0 ASSET VALUE(keuro/mq)=0.100058820633\n",
      "CORNE Class12.0 ASSET VALUE(keuro/mq)=0.938506451746\n",
      "CORNE Class14.0 ASSET VALUE(keuro/mq)=0.531181808377\n",
      "CORNE Class15.0 ASSET VALUE(keuro/mq)=0.561446191359\n",
      "CORNE Class16.0 ASSET VALUE(keuro/mq)=0.278799935976\n",
      "CORNE Class18.0 ASSET VALUE(keuro/mq)=0.608214723099\n",
      "CORNE Class20.0 ASSET VALUE(keuro/mq)=0.345103591428\n",
      "CORNE Class21.0 ASSET VALUE(keuro/mq)=0.540746288037\n",
      "CORNE Class23.0 ASSET VALUE(keuro/mq)=0.561470183045\n",
      "CORNE Class24.0 ASSET VALUE(keuro/mq)=0.275349455071\n",
      "CORNE Class25.0 ASSET VALUE(keuro/mq)=0.52163088574\n",
      "CORNE Class26.0 ASSET VALUE(keuro/mq)=0.619709755055\n",
      "CORNE Class29.0 ASSET VALUE(keuro/mq)=0.432305957285\n",
      "CORNE Class30.0 ASSET VALUE(keuro/mq)=0.372665272642\n",
      "CORNE Class32.0 ASSET VALUE(keuro/mq)=0.636964954958\n",
      "CORNE Class40.0 ASSET VALUE(keuro/mq)=0.901112644681\n",
      "CORNE Class41.0 ASSET VALUE(keuro/mq)=0.776396187579\n"
     ]
    },
    {
     "data": {
      "text/plain": [
       "'data/Chap_7/output/ASSET_g100_clc12_V18_5_Turim.tif'"
      ]
     },
     "execution_count": 2,
     "metadata": {},
     "output_type": "execute_result"
    }
   ],
   "source": [
    "import random\n",
    "\n",
    "\n",
    "workdir='data/Chap_7/'\n",
    "workoutdir='data/Chap_7/output/'\n",
    "CORINEfilename='g100_clc12_V18_5_Turim.tif'\n",
    "\n",
    "(CORINE,geotransform,projection,nodata)=GDAL2Numpy(workdir+CORINEfilename)\n",
    "uniquevalues= numpy.unique(CORINE)\n",
    "\n",
    "print uniquevalues\n",
    "# Reclassify Corine Land Cover and Assign Asset Economical Values keuro/mq - The Script Assign Random Values\n",
    "for k in uniquevalues:\n",
    "    \n",
    "    assetvalue=random.uniform(0.1, 1.0)\n",
    "    print \"CORNE Class\"+str(k)+\" ASSET VALUE(keuro/mq)=\"+str(assetvalue)\n",
    "    CORINE=numpy.where(CORINE==k,assetvalue*10000,CORINE)\n",
    "Numpy2GTiff(CORINE,geotransform,projection,workoutdir+'ASSET_'+CORINEfilename)"
   ]
  },
  {
   "cell_type": "markdown",
   "metadata": {},
   "source": [
    "#### Read Asset Values from an Excel file"
   ]
  },
  {
   "cell_type": "code",
   "execution_count": 28,
   "metadata": {
    "collapsed": false
   },
   "outputs": [
    {
     "data": {
      "text/plain": [
       "'data/Chap_7/output/ASSET1_g100_clc12_V18_5_Turim.tif'"
      ]
     },
     "execution_count": 28,
     "metadata": {},
     "output_type": "execute_result"
    }
   ],
   "source": [
    "\n",
    "workdir='data/Chap_7/'\n",
    "workoutdir='data/Chap_7/output/'\n",
    "CORINEfilename='g100_clc12_V18_5_Turim.tif'\n",
    "\n",
    "import pandas as pd\n",
    "import numpy\n",
    "data = pd.read_excel('data/Chap_7/clc_legend.xls')\n",
    "#print data.shape\n",
    "(CORINE,geotransform,projection,nodata)=GDAL2Numpy(workdir+CORINEfilename)\n",
    "\n",
    "for k in range(0,47):\n",
    "    GridID=data['GRID_CODE'][k]\n",
    "    AssetValue=data['Values'][k]\n",
    "    CORINE=numpy.where(CORINE==GridID,AssetValue*10000,CORINE)\n",
    "    \n",
    "Numpy2GTiff(CORINE,geotransform,projection,workoutdir+'ASSET1_'+CORINEfilename)    \n",
    "\n"
   ]
  },
  {
   "cell_type": "code",
   "execution_count": 27,
   "metadata": {
    "collapsed": false
   },
   "outputs": [
    {
     "data": {
      "text/plain": [
       "<matplotlib.legend.Legend at 0x117f0ca10>"
      ]
     },
     "execution_count": 27,
     "metadata": {},
     "output_type": "execute_result"
    },
    {
     "data": {
      "image/png": "[encoded data removed]",
      "text/plain": [
       "<matplotlib.figure.Figure at 0x117e75950>"
      ]
     },
     "metadata": {},
     "output_type": "display_data"
    }
   ],
   "source": [
    "x =numpy.arange(5)\n",
    "y=2.2*x*x+2*x\n",
    "y1=2.2*x*x+2*x\n",
    "y2=3.2*x*x+2*x\n",
    "y3=4.2*x*x+3*x\n",
    "y4=5.2*x*x+2*x\n",
    "\n",
    "plt.xlabel('Water Depth [m]') # label\n",
    "plt.ylabel('% Damages')\n",
    "plt.title('Economic Damagase for different LC')\n",
    "plt.plot(x, y, label='LC1')\n",
    "plt.plot(x, y1, label='LC2')\n",
    "plt.plot(x, y2, label='LC3')\n",
    "plt.plot(x, y3, label='LC4')\n",
    "plt.plot(x, y4, label='LC5')\n",
    "plt.legend()"
   ]
  },
  {
   "cell_type": "markdown",
   "metadata": {},
   "source": [
    "<img src=\"figures/ecodam.PNG\">"
   ]
  },
  {
   "cell_type": "code",
   "execution_count": 5,
   "metadata": {
    "collapsed": true
   },
   "outputs": [],
   "source": [
    "def economiclosses(workdir,waterdepthfilename,Assetfilename,CORINEfilename,CorineClass):\n",
    "    (ASSETVALUEgrid,geotransform,projection,nodata)=GDAL2Numpy(workdir+'output/'+'ASSET_'+CORINEfilename)\n",
    "    ASSETVALUEgrid=numpy.where(ASSETVALUEgrid>0, ASSETVALUEgrid,0)\n",
    "    DAMFRAC_map_tot=numpy.zeros((500,500),dtype=numpy.float)\n",
    "    ECODAMAGE_map_tot=numpy.zeros((500,500),dtype=numpy.float)\n",
    "    #print ECODAMAGE_map_tot\n",
    "    for k in CorineClass:\n",
    "        \n",
    "        (WDgrid,geotransform,projection,nodata)=GDAL2Numpy(workdir+waterdepthfilename) #read water depth filename      \n",
    "        (CORINEgrid,geotransform,projection,nodata)=GDAL2Numpy(workdir+CORINEfilename)\n",
    "        if k>0 and k<=5:\n",
    "            function='((2.2*X*X)+2*X)/100.0'\n",
    "        if k>5 and k<=10:\n",
    "            function='((3.2*X*X)+2*X)/100.0'\n",
    "        if k>10 and k<=15:\n",
    "            function='((4.2*X*X)+3*X)/100.0'\n",
    "        if k>15 and k<=25:\n",
    "            function='((5.2*X*X)+2*X)/100.0'\n",
    "        if k>25:\n",
    "            function='((6.2*X*X)+4*X)/100.0'        \n",
    "        \n",
    "        DAMFRAC_map=numpy.where(CORINEgrid==float(k),eval(function,{'X':WDgrid}),0.0)\n",
    "    \n",
    "        #print DAMFRAC_map\n",
    "        #DAMFRAC_map=0.0012*numpy.power(WDgrid,3)+0.0257*numpy.power(WDgrid,2)+0.00113*WDgrid \n",
    "    \n",
    "    \n",
    "        DAMFRAC_map=numpy.where(DAMFRAC_map>0, DAMFRAC_map,0)\n",
    "        DAMFRAC_map=numpy.where(DAMFRAC_map>1, 1,DAMFRAC_map)\n",
    "        #Numpy2GTiff(DAMFRAC_map ,geotransform,projection,workdir+'DAMFRAC_'+waterdepthfilename)\n",
    "        #(ASSETVALUEgrid,geotransform,projection,nodata)=GDAL2Numpy(workdir+'ASSET_'+CORINEfilename)\n",
    "        #print LOL_map\n",
    "        #ASSETVALUEgrid=numpy.where(ASSETVALUEgrid>0, ASSETVALUEgrid,0) \n",
    "        ECODAMAGE_map=DAMFRAC_map*(ASSETVALUEgrid)\n",
    "        ECODAMAGE_map=numpy.where(ECODAMAGE_map>=1, ECODAMAGE_map,0)\n",
    "        #print str(numpy.sum(ECODAMAGE_map))\n",
    "        #print NunberOfDeathMap\n",
    "        #print \"Total Economic Damage kEURO=\"+str(numpy.sum(ECODAMAGE_map))\n",
    "        #Numpy2GTiff(ECODAMAGE ,geotransform,projection,workdir+'ECODAM_'+waterdepthfilename)\n",
    "        \n",
    "        DAMFRAC_map_tot=DAMFRAC_map_tot+DAMFRAC_map\n",
    "        ECODAMAGE_map_tot=ECODAMAGE_map_tot+ECODAMAGE_map\n",
    "    Numpy2GTiff(DAMFRAC_map_tot ,geotransform,projection,workdir+'output/'+'DAMFRAC_'+waterdepthfilename)\n",
    "    Numpy2GTiff(ECODAMAGE_map_tot ,geotransform,projection,workdir+'output/'+'ECODAM_'+waterdepthfilename)\n",
    "    print \"Total Economic Damage kEURO=\"+str(numpy.sum(ECODAMAGE_map_tot))\n",
    "    return 'ECODAM_'+waterdepthfilename"
   ]
  },
  {
   "cell_type": "code",
   "execution_count": 6,
   "metadata": {
    "collapsed": false
   },
   "outputs": [
    {
     "name": "stdout",
     "output_type": "stream",
     "text": [
      "[  1.   2.   3.   4.   6.   7.   8.   9.  10.  11.  12.  14.  15.  16.  18.\n",
      "  20.  21.  23.  24.  25.  26.  29.  30.  32.  40.  41.]\n",
      "Total Economic Damage kEURO=46844131.0844\n"
     ]
    },
    {
     "data": {
      "text/plain": [
       "'ECODAM_floodMapEU_rp500y_Turim.tif'"
      ]
     },
     "execution_count": 6,
     "metadata": {},
     "output_type": "execute_result"
    }
   ],
   "source": [
    "numpy.seterr(all='ignore')\n",
    "workdir='data/Chap_7/'\n",
    "\n",
    "waterdepthfilename='floodMapEU_rp500y_Turim.tif'\n",
    "Assetfilename='ASSET_'+CORINEfilename\n",
    "CORINEfilename='g100_clc12_V18_5_Turim.tif'\n",
    "CorineClass=uniquevalues.tolist()\n",
    "print uniquevalues\n",
    "\n",
    "economiclosses(workdir,waterdepthfilename,Assetfilename,CORINEfilename,CorineClass)"
   ]
  },
  {
   "cell_type": "markdown",
   "metadata": {},
   "source": [
    "### 7.1.3 Produce Damage Maps for each Flood Scenario"
   ]
  },
  {
   "cell_type": "code",
   "execution_count": 8,
   "metadata": {
    "collapsed": false
   },
   "outputs": [
    {
     "name": "stdout",
     "output_type": "stream",
     "text": [
      "Scenario Return Time =10\n",
      "Total Number of Deaths=5774.27\n",
      "Total Economic Damage kEURO=21847432.026\n",
      "Scenario Return Time =20\n",
      "Total Number of Deaths=7506.23\n",
      "Total Economic Damage kEURO=26936914.6009\n",
      "Scenario Return Time =50\n",
      "Total Number of Deaths=10058.2\n",
      "Total Economic Damage kEURO=33097295.7059\n",
      "Scenario Return Time =100\n",
      "Total Number of Deaths=12257.8\n",
      "Total Economic Damage kEURO=37503325.5364\n",
      "Scenario Return Time =200\n",
      "Total Number of Deaths=14431.2\n",
      "Total Economic Damage kEURO=41653400.4074\n",
      "Scenario Return Time =500\n",
      "Total Number of Deaths=17240.8\n",
      "Total Economic Damage kEURO=46844131.0844\n",
      "['ECODAM_floodMapEU_rp10y_Turim.tif', 'ECODAM_floodMapEU_rp20y_Turim.tif', 'ECODAM_floodMapEU_rp50y_Turim.tif', 'ECODAM_floodMapEU_rp100y_Turim.tif', 'ECODAM_floodMapEU_rp200y_Turim.tif', 'ECODAM_floodMapEU_rp500y_Turim.tif']\n",
      "['NOD_floodMapEU_rp10y_Turim.tif', 'NOD_floodMapEU_rp20y_Turim.tif', 'NOD_floodMapEU_rp50y_Turim.tif', 'NOD_floodMapEU_rp100y_Turim.tif', 'NOD_floodMapEU_rp200y_Turim.tif', 'NOD_floodMapEU_rp500y_Turim.tif']\n"
     ]
    }
   ],
   "source": [
    "FloodscenarioRT=(10,20,50,100,200,500)\n",
    "workdir='data/Chap_7/'\n",
    "waterdepthfilename='floodMapEU_rp500y_Turim.tif'\n",
    "Expopfilename='popu01clcv5_Turim.tif'\n",
    "CORINEfilename='g100_clc12_V18_5_Turim.tif'\n",
    "Assetfilename='ASSET_'+CORINEfilename\n",
    "CorineClass=uniquevalues.tolist()\n",
    "ecodamagelist=[]\n",
    "lifedamagelist=[]\n",
    "for RT in FloodscenarioRT:\n",
    "    print \"Scenario Return Time =\"+str(RT)\n",
    "    lifedamagelist.append(lifelosses(workdir,'floodMapEU_rp'+str(RT)+'y_Turim.tif',Expopfilename))\n",
    "    ecodamagelist.append(economiclosses(workdir,'floodMapEU_rp'+str(RT)+'y_Turim.tif',Assetfilename,CORINEfilename,CorineClass))\n",
    "print ecodamagelist\n",
    "print lifedamagelist"
   ]
  },
  {
   "cell_type": "markdown",
   "metadata": {
    "nbpresent": {
     "id": "0985c53d-b3ee-4788-bab3-f6ae5da14e1a"
    }
   },
   "source": [
    "## 7.3 Combing Damage and Probability - Risk Map\n",
    "**RISK = Damage Map (euro, deaths) * probability (1/year)**\n",
    "\n",
    "Flood risk is frequently expressed as the expectation of the damage, i.e. the Expected Annual Damage (EAD)\n",
    "\n",
    "\n",
    "<img src=\"figures/risk_5.PNG\">\n",
    "<img src=\"figures/risk_6.PNG\">"
   ]
  },
  {
   "cell_type": "code",
   "execution_count": 9,
   "metadata": {
    "collapsed": false
   },
   "outputs": [
    {
     "data": {
      "text/plain": [
       "'data/Chap_7/output/TOTPOPRISK.tif'"
      ]
     },
     "execution_count": 9,
     "metadata": {},
     "output_type": "execute_result"
    }
   ],
   "source": [
    "workdir='data/Chap_7/'\n",
    "FloodscenarioRT=(10,20,50,100,200,500)\n",
    "\n",
    "RI_NOD_map_tot=numpy.zeros((500,500),dtype=numpy.float)\n",
    "RI_ECO_map_tot=numpy.zeros((500,500),dtype=numpy.float)\n",
    "for i in range (0, int(len(FloodscenarioRT))-1):\n",
    "    Pj=FloodscenarioRT[i]\n",
    "    Pj1=FloodscenarioRT[i+1]\n",
    "    deltaP=float(Pj1-Pj)\n",
    "    (ECOgrid_j,geotransform,projection,nodata)=GDAL2Numpy(workdir+'output/'+'ECODAM_floodMapEU_rp'+str(Pj)+'y_Turim.tif')\n",
    "    (ECOgrid_j1,geotransform,projection,nodata)=GDAL2Numpy(workdir+'output/'+'ECODAM_floodMapEU_rp'+str(Pj1)+'y_Turim.tif')\n",
    "    (NODgrid_j,geotransform,projection,nodata)=GDAL2Numpy(workdir+'output/'+'NOD_floodMapEU_rp'+str(Pj)+'y_Turim.tif')\n",
    "    (NODgrid_j1,geotransform,projection,nodata)=GDAL2Numpy(workdir+'output/'+'NOD_floodMapEU_rp'+str(Pj1)+'y_Turim.tif')\n",
    "    A_ECOgrid=0.5*(ECOgrid_j+ECOgrid_j1)\n",
    "    A_NODgrid=0.5*(NODgrid_j+NODgrid_j1)\n",
    "    RIj_ECO=(A_ECOgrid/deltaP)\n",
    "    RIj_NOD=(A_NODgrid/deltaP)\n",
    "    RI_NOD_map_tot=RI_NOD_map_tot+RIj_NOD\n",
    "    RI_ECO_map_tot=RI_ECO_map_tot+RIj_ECO\n",
    "Numpy2GTiff(RI_ECO_map_tot,geotransform,projection,workdir+'output/'+\"TOTECORISK.tif\")\n",
    "Numpy2GTiff(RI_NOD_map_tot,geotransform,projection,workdir+'output/'+\"TOTPOPRISK.tif\")\n",
    "    \n",
    "\n"
   ]
  },
  {
   "cell_type": "markdown",
   "metadata": {
    "nbpresent": {
     "id": "51a0feff-4025-48e4-a45c-9c9b3a30da9c"
    }
   },
   "source": [
    "## 7.4  GIS-based Multi-Criteria Risk Mapping\n",
    "\n",
    "For  natural  hazards,  risk-based  decision-making  is  a  multidimensional  and  multidisciplinary  activity  embracing  environmental,  socio-economic  and  management_related  factors  at  different spatial and temporal scales.  \n",
    "\n",
    "Risk assessment is conducted in order to identify the magnitude and spatial distribution of flood risks. \n",
    "Most current approaches focus only on economic risks. \n",
    "Environmental, social and cultural risks are often neglected or mentioned as a side product. \n",
    "\n",
    "Multicriteria Analysis enables consideration of all relevant risks, is an appropriate method of incorporating all relevant types of consequences without measuring them on one monetary scale. \n",
    "\n",
    "\n",
    "**Multi-criteria Analysis (MCA) allows a comparison between different alternatives by a broader set of criteria which can all be expressed in their own different dimensions, be it qualitative or merely ranked (-- to + +).**\n"
   ]
  },
  {
   "cell_type": "markdown",
   "metadata": {
    "collapsed": true
   },
   "source": [
    "<img align=\"left\" style=\"padding-right:10px;\" src=\"figures/MCA_1.png\">\n",
    "\n",
    "\n",
    "<img align=\"left\" style=\"padding-right:10px;\" src=\"figures/MCA.png\">"
   ]
  },
  {
   "cell_type": "code",
   "execution_count": 10,
   "metadata": {
    "collapsed": false
   },
   "outputs": [],
   "source": [
    "def interval_normalization(array):\n",
    "    min=numpy.min(array)\n",
    "    max=numpy.max(array)\n",
    "\n",
    "    normalized = (array-min)/(max-min)\n",
    "    return normalized\n",
    "\n",
    "def max_normalization(array):\n",
    "\n",
    "    max=numpy.max(array)\n",
    "\n",
    "    normalized = (array/max)\n",
    "    return normalized\n",
    "\n",
    "\n",
    "def rasterMCA(ECORiskfilename,POPRiskfilename,normtype,w_eco,w_pop):\n",
    "    \n",
    "    (ECORisk,geotransform,projection,nodata)=GDAL2Numpy(workdir+'output/'+ECORiskfilename)\n",
    "    (POPRisk,geotransform,projection,nodata)=GDAL2Numpy(workdir+'output/'+POPRiskfilename)\n",
    "\n",
    "    #normalization\n",
    "    if normtype=='interval':\n",
    "    \n",
    "        ECORisk=interval_normalization(ECORisk)\n",
    "        POPRisk=interval_normalization(POPRisk)\n",
    "    if normtype=='max':\n",
    "    \n",
    "        ECORisk=max_normalization(ECORisk)\n",
    "        POPRisk=max_normalization(POPRisk)\n",
    "    #weighting sum\n",
    "\n",
    "    TOTRISK=w_eco*ECORisk+w_pop*POPRisk\n",
    "    Numpy2GTiff(TOTRISK ,geotransform,projection,workdir+'output/'+'TOTRISK.tif')"
   ]
  },
  {
   "cell_type": "code",
   "execution_count": 11,
   "metadata": {
    "collapsed": false
   },
   "outputs": [],
   "source": [
    "ECORiskfilename=\"TOTECORISK.tif\"\n",
    "POPRiskfilename=\"TOTPOPRISK.tif\"\n",
    "normtype='max'\n",
    "w_eco=0.4\n",
    "w_pop=0.6\n",
    "rasterMCA(ECORiskfilename,POPRiskfilename,normtype,w_eco,w_pop)"
   ]
  },
  {
   "cell_type": "markdown",
   "metadata": {},
   "source": [
    "## 7.5 Exsercise\n",
    "\n",
    "- Mapping the Economic Flood Risk for Bologna area.\n",
    " -Describe your code and results in a Jupyter notebook\n",
    " -Upload the notebook in GitHub and share it with nbviewer\n",
    "\n",
    "\n",
    "### 7.5.1 Input Data\n",
    "- floods maps\n",
    "- corine land cover\n",
    "\n",
    "### 7.5.2 Pseudo-Code\n",
    "\n",
    "- Read Corine Land-Cover Map\n",
    "- Assign Asset value for each corine class\n",
    "- Read the flood map scenarios\n",
    "- evaluate economic damages for each RT flood maps\n",
    "- Compute the total risk\n",
    "- Identify and map the areas under major flood risk\n",
    "\n"
   ]
  },
  {
   "cell_type": "markdown",
   "metadata": {
    "collapsed": false
   },
   "source": [
    "<!--NAVIGATION-->\n",
    "< [7_Risk_Mapping Python_GDA](7_Risk_Mapping Python_GDAL.ipynb) | [Contents](Index.ipynb)  >"
   ]
  }
 ],
 "metadata": {
  "anaconda-cloud": {
   "attach-environment": false,
   "environment": null,
   "summary": "System_Risk_GIS_FloodRisk_Python",
   "url": "https://anaconda.org/gecosistema/tutorial_dem_flooding"
  },
  "kernelspec": {
   "display_name": "Python [conda root]",
   "language": "python",
   "name": "conda-root-py"
  },
  "language_info": {
   "codemirror_mode": {
    "name": "ipython",
    "version": 2
   },
   "file_extension": ".py",
   "mimetype": "text/x-python",
   "name": "python",
   "nbconvert_exporter": "python",
   "pygments_lexer": "ipython2",
   "version": "2.7.12"
  },
  "nbpresent": {
   "slides": {
    "02846c44-38f9-4aef-ab37-8352ebc70511": {
     "id": "02846c44-38f9-4aef-ab37-8352ebc70511",
     "prev": "71b5d3d6-77a7-4745-885f-ffc1420d2665",
     "regions": {
      "e9303037-dc9c-4738-9a7f-ec376dc34ebd": {
       "attrs": {
        "height": 0.8,
        "width": 0.8,
        "x": 0.1,
        "y": 0.1
       },
       "content": {
        "cell": "08ed20e8-3a1e-4bfd-9bcc-194f5ea0b39a",
        "part": "whole"
       },
       "id": "e9303037-dc9c-4738-9a7f-ec376dc34ebd"
      }
     }
    },
    "060cbb0a-6be3-413b-b02d-fb39c6da0328": {
     "id": "060cbb0a-6be3-413b-b02d-fb39c6da0328",
     "prev": "5baef3ad-9342-45cb-be10-e49f5003c9d7",
     "regions": {
      "1b8534db-67d4-4e24-b3f8-4383a60de997": {
       "attrs": {
        "height": 0.8,
        "width": 0.8,
        "x": 0.1,
        "y": 0.1
       },
       "content": {
        "cell": "f81f9570-d4c4-4e2f-8a57-3881a4881b69",
        "part": "whole"
       },
       "id": "1b8534db-67d4-4e24-b3f8-4383a60de997"
      }
     }
    },
    "129f00a1-0146-4c50-8667-b07c5b2d0eeb": {
     "id": "129f00a1-0146-4c50-8667-b07c5b2d0eeb",
     "prev": "614538c9-99cd-42b3-b2c7-4e1ab0d4e7ce",
     "regions": {
      "ea63d8f6-c8ed-4b98-8c70-371f43ec89d9": {
       "attrs": {
        "height": 0.8,
        "width": 0.8,
        "x": 0.1,
        "y": 0.1
       },
       "content": {
        "cell": "dda7b0e7-4c44-4482-b791-23e93bedc4e8",
        "part": "whole"
       },
       "id": "ea63d8f6-c8ed-4b98-8c70-371f43ec89d9"
      }
     }
    },
    "24f3d903-07b4-46ad-8605-a30cc72864e8": {
     "id": "24f3d903-07b4-46ad-8605-a30cc72864e8",
     "prev": "389b4d70-b739-4d1a-8523-020ec1e069fd",
     "regions": {
      "93aaa554-dacc-471c-bbe8-b4aaac1e9872": {
       "attrs": {
        "height": 0.8,
        "width": 0.8,
        "x": 0.1,
        "y": 0.1
       },
       "content": {
        "cell": "a7945d9e-1ec9-49ad-97ea-03775d0db6ee",
        "part": "whole"
       },
       "id": "93aaa554-dacc-471c-bbe8-b4aaac1e9872"
      }
     }
    },
    "37b2a110-105d-4f03-8287-7b63a4923211": {
     "id": "37b2a110-105d-4f03-8287-7b63a4923211",
     "prev": "72a469c8-a471-4290-88de-7df3b22d42b0",
     "regions": {
      "a515c1f8-f153-41b5-8716-f22bf5005736": {
       "attrs": {
        "height": 0.8,
        "width": 0.8,
        "x": 0.1,
        "y": 0.1
       },
       "content": {
        "cell": "bbff907a-fe14-488d-b817-7818d01c8fed",
        "part": "whole"
       },
       "id": "a515c1f8-f153-41b5-8716-f22bf5005736"
      }
     }
    },
    "389b4d70-b739-4d1a-8523-020ec1e069fd": {
     "id": "389b4d70-b739-4d1a-8523-020ec1e069fd",
     "prev": "f3ed960f-5e66-4af9-b6db-7185e26ca908",
     "regions": {
      "aa3c9f93-5315-4267-a6d8-09e0ad39f5fc": {
       "attrs": {
        "height": 0.8,
        "width": 0.8,
        "x": 0.1,
        "y": 0.1
       },
       "content": {
        "cell": "2134dfb5-7454-4a64-8403-776934ebc23c",
        "part": "whole"
       },
       "id": "aa3c9f93-5315-4267-a6d8-09e0ad39f5fc"
      }
     }
    },
    "3d7f49bd-2657-4c4f-96db-4cda796a8940": {
     "id": "3d7f49bd-2657-4c4f-96db-4cda796a8940",
     "prev": "d28c9aad-45cd-4227-87ba-c966f9f7f892",
     "regions": {
      "f3c0d25c-5cda-43c3-b303-283279bd5d97": {
       "attrs": {
        "height": 0.8,
        "width": 0.8,
        "x": 0.1,
        "y": 0.1
       },
       "content": {
        "cell": "af6bdd26-055a-4f38-974c-90f6412bffdd",
        "part": "whole"
       },
       "id": "f3c0d25c-5cda-43c3-b303-283279bd5d97"
      }
     }
    },
    "5baef3ad-9342-45cb-be10-e49f5003c9d7": {
     "id": "5baef3ad-9342-45cb-be10-e49f5003c9d7",
     "prev": "e2b96bf4-ca5e-4cab-9f6c-88e974a66483",
     "regions": {
      "358e9f2a-97d5-4bbb-a5b0-b3fd0f714f62": {
       "attrs": {
        "height": 0.8,
        "width": 0.8,
        "x": 0.1,
        "y": 0.1
       },
       "content": {
        "cell": "ba961c1e-399a-4ff4-ab93-edb98666e243",
        "part": "whole"
       },
       "id": "358e9f2a-97d5-4bbb-a5b0-b3fd0f714f62"
      }
     }
    },
    "614538c9-99cd-42b3-b2c7-4e1ab0d4e7ce": {
     "id": "614538c9-99cd-42b3-b2c7-4e1ab0d4e7ce",
     "prev": "060cbb0a-6be3-413b-b02d-fb39c6da0328",
     "regions": {
      "10376570-99ad-47b9-910e-39f06583aa56": {
       "attrs": {
        "height": 0.8,
        "width": 0.8,
        "x": 0.1,
        "y": 0.1
       },
       "content": {
        "cell": "45e1366d-17c9-4927-bd4e-dc10b1085f44",
        "part": "whole"
       },
       "id": "10376570-99ad-47b9-910e-39f06583aa56"
      }
     }
    },
    "6203f2ae-d39f-423c-9237-df931af8bbca": {
     "id": "6203f2ae-d39f-423c-9237-df931af8bbca",
     "prev": "02846c44-38f9-4aef-ab37-8352ebc70511",
     "regions": {
      "91ccc09e-a852-4640-aa24-4e5c46f70ca3": {
       "attrs": {
        "height": 0.8,
        "width": 0.8,
        "x": 0.1,
        "y": 0.1
       },
       "content": {
        "cell": "eedc1df0-6c2e-428b-b1d6-f44bc0b0915c",
        "part": "whole"
       },
       "id": "91ccc09e-a852-4640-aa24-4e5c46f70ca3"
      }
     }
    },
    "71b5d3d6-77a7-4745-885f-ffc1420d2665": {
     "id": "71b5d3d6-77a7-4745-885f-ffc1420d2665",
     "prev": "af5e62de-6c34-4373-80ad-3d8691e42601",
     "regions": {
      "a73abf97-80cb-4861-8764-6813e587fa8d": {
       "attrs": {
        "height": 0.8,
        "width": 0.8,
        "x": 0.1,
        "y": 0.1
       },
       "content": {
        "cell": "32c9d0a9-ede4-40c3-b476-cac60d4c74ea",
        "part": "whole"
       },
       "id": "a73abf97-80cb-4861-8764-6813e587fa8d"
      }
     }
    },
    "72a469c8-a471-4290-88de-7df3b22d42b0": {
     "id": "72a469c8-a471-4290-88de-7df3b22d42b0",
     "prev": "6203f2ae-d39f-423c-9237-df931af8bbca",
     "regions": {
      "949cad9e-c468-4c9a-8d68-d633306c8f1a": {
       "attrs": {
        "height": 0.8,
        "width": 0.8,
        "x": 0.1,
        "y": 0.1
       },
       "content": {
        "cell": "ed7bdc7b-69ca-4774-b611-3248d21207f8",
        "part": "whole"
       },
       "id": "949cad9e-c468-4c9a-8d68-d633306c8f1a"
      }
     }
    },
    "7c2d2c6f-bd5a-4e85-911c-d1d708d28996": {
     "id": "7c2d2c6f-bd5a-4e85-911c-d1d708d28996",
     "prev": "3d7f49bd-2657-4c4f-96db-4cda796a8940",
     "regions": {
      "6e8b1ba0-4060-405e-a381-8f92630b8994": {
       "attrs": {
        "height": 0.8,
        "width": 0.8,
        "x": 0.1,
        "y": 0.1
       },
       "content": {
        "cell": "94a55052-1f09-4653-8d97-13691f89a5af",
        "part": "whole"
       },
       "id": "6e8b1ba0-4060-405e-a381-8f92630b8994"
      }
     }
    },
    "7d30fcfb-383a-4847-bd2a-52ed6304014e": {
     "id": "7d30fcfb-383a-4847-bd2a-52ed6304014e",
     "prev": "e24ad135-a3f7-46fe-b7fc-409bb89883e0",
     "regions": {
      "df410d6a-f9b1-4fef-8c22-8966240692a9": {
       "attrs": {
        "height": 0.8,
        "width": 0.8,
        "x": 0.1,
        "y": 0.1
       },
       "content": {
        "cell": "0c3e6324-872f-47b3-8a71-d6d69b35cbd7",
        "part": "whole"
       },
       "id": "df410d6a-f9b1-4fef-8c22-8966240692a9"
      }
     }
    },
    "85b24560-6b9a-4f3c-81bd-74b4f32df13a": {
     "id": "85b24560-6b9a-4f3c-81bd-74b4f32df13a",
     "prev": "eca5a0f2-9008-4092-bdd9-3191d5576458",
     "regions": {
      "d641820e-299e-4262-bb88-51e3036a823f": {
       "attrs": {
        "height": 0.8,
        "width": 0.8,
        "x": 0.1,
        "y": 0.1
       },
       "content": {
        "cell": "95869fba-1118-41e7-96a2-991e5c5a756a",
        "part": "whole"
       },
       "id": "d641820e-299e-4262-bb88-51e3036a823f"
      }
     }
    },
    "869d44bd-c99d-41f4-a284-d6ad6c3bbe4e": {
     "id": "869d44bd-c99d-41f4-a284-d6ad6c3bbe4e",
     "prev": "e9b66c21-dd23-48c2-9a3f-33fe494cefec",
     "regions": {
      "e55c411f-cb42-4dea-a485-50f361151b48": {
       "attrs": {
        "height": 0.8,
        "width": 0.8,
        "x": 0.1,
        "y": 0.1
       },
       "content": {
        "cell": "db87eb7a-bcfb-4f47-b2a7-31fec2ab8b7c",
        "part": "whole"
       },
       "id": "e55c411f-cb42-4dea-a485-50f361151b48"
      }
     }
    },
    "86ee40b8-3a7c-44d5-bdc8-6b4ab40da55b": {
     "id": "86ee40b8-3a7c-44d5-bdc8-6b4ab40da55b",
     "prev": "8920fe11-3ca1-47a5-abd4-02c2f5c6edd5",
     "regions": {
      "f95b9e1f-fc6e-4fc4-8861-777955515c41": {
       "attrs": {
        "height": 0.8,
        "width": 0.8,
        "x": 0.1,
        "y": 0.1
       },
       "content": {
        "cell": "f8957239-9b2b-417a-bb07-b8751138d10b",
        "part": "whole"
       },
       "id": "f95b9e1f-fc6e-4fc4-8861-777955515c41"
      }
     }
    },
    "8920fe11-3ca1-47a5-abd4-02c2f5c6edd5": {
     "id": "8920fe11-3ca1-47a5-abd4-02c2f5c6edd5",
     "prev": "869d44bd-c99d-41f4-a284-d6ad6c3bbe4e",
     "regions": {
      "07fa0bcb-52cf-4521-bfad-92fcdc5b7b90": {
       "attrs": {
        "height": 0.8,
        "width": 0.8,
        "x": 0.1,
        "y": 0.1
       },
       "content": {
        "cell": "51a0feff-4025-48e4-a45c-9c9b3a30da9c",
        "part": "whole"
       },
       "id": "07fa0bcb-52cf-4521-bfad-92fcdc5b7b90"
      }
     }
    },
    "af5e62de-6c34-4373-80ad-3d8691e42601": {
     "id": "af5e62de-6c34-4373-80ad-3d8691e42601",
     "prev": "7d30fcfb-383a-4847-bd2a-52ed6304014e",
     "regions": {
      "92e73601-62ca-468b-83f8-96fbc6505136": {
       "attrs": {
        "height": 0.8,
        "width": 0.8,
        "x": 0.1,
        "y": 0.1
       },
       "content": {
        "cell": "a1de97fa-11cc-45a5-8b48-0c26135390c2",
        "part": "whole"
       },
       "id": "92e73601-62ca-468b-83f8-96fbc6505136"
      }
     }
    },
    "b710730a-bcb2-40ce-b7a7-c0c89d3f3570": {
     "id": "b710730a-bcb2-40ce-b7a7-c0c89d3f3570",
     "prev": "7c2d2c6f-bd5a-4e85-911c-d1d708d28996",
     "regions": {
      "f28cfeef-dac1-40aa-a5ae-f80e3e06c1c2": {
       "attrs": {
        "height": 0.8,
        "width": 0.8,
        "x": 0.1,
        "y": 0.1
       },
       "content": {
        "cell": "e83c912e-aa12-49d4-ab61-acef128249f3",
        "part": "whole"
       },
       "id": "f28cfeef-dac1-40aa-a5ae-f80e3e06c1c2"
      }
     }
    },
    "b9811710-7832-41cf-a160-0cda733e8fe0": {
     "id": "b9811710-7832-41cf-a160-0cda733e8fe0",
     "prev": "86ee40b8-3a7c-44d5-bdc8-6b4ab40da55b",
     "regions": {
      "9846698b-693e-4e66-bc97-169dc99dac83": {
       "attrs": {
        "height": 0.8,
        "width": 0.8,
        "x": 0.1,
        "y": 0.1
       },
       "content": {
        "cell": "e84ec698-bb2f-455b-9a68-31dd3af64a3f",
        "part": "whole"
       },
       "id": "9846698b-693e-4e66-bc97-169dc99dac83"
      }
     }
    },
    "d28c9aad-45cd-4227-87ba-c966f9f7f892": {
     "id": "d28c9aad-45cd-4227-87ba-c966f9f7f892",
     "prev": "129f00a1-0146-4c50-8667-b07c5b2d0eeb",
     "regions": {
      "9d9dcd59-8531-475f-ba42-74cf48f9d3be": {
       "attrs": {
        "height": 0.8,
        "width": 0.8,
        "x": 0.1,
        "y": 0.1
       },
       "content": {
        "cell": "dd1fec34-ffa6-474c-9213-5adb5f106fb5",
        "part": "whole"
       },
       "id": "9d9dcd59-8531-475f-ba42-74cf48f9d3be"
      }
     }
    },
    "dc9683a6-86af-45cc-a2da-0e448e83c976": {
     "id": "dc9683a6-86af-45cc-a2da-0e448e83c976",
     "prev": "37b2a110-105d-4f03-8287-7b63a4923211",
     "regions": {
      "d36030ad-089f-46a2-8129-fd09da697617": {
       "attrs": {
        "height": 0.8,
        "width": 0.8,
        "x": 0.1,
        "y": 0.1
       },
       "content": {
        "cell": "308d21f1-0db4-46f3-b60a-923940edcb0b",
        "part": "whole"
       },
       "id": "d36030ad-089f-46a2-8129-fd09da697617"
      }
     }
    },
    "e24ad135-a3f7-46fe-b7fc-409bb89883e0": {
     "id": "e24ad135-a3f7-46fe-b7fc-409bb89883e0",
     "prev": "b710730a-bcb2-40ce-b7a7-c0c89d3f3570",
     "regions": {
      "d2e48674-006e-426e-b88e-34bc617cd4dc": {
       "attrs": {
        "height": 0.8,
        "width": 0.8,
        "x": 0.1,
        "y": 0.1
       },
       "content": {
        "cell": "3c915b92-276e-4181-a34e-08d6bce4dc6c",
        "part": "whole"
       },
       "id": "d2e48674-006e-426e-b88e-34bc617cd4dc"
      }
     }
    },
    "e2b96bf4-ca5e-4cab-9f6c-88e974a66483": {
     "id": "e2b96bf4-ca5e-4cab-9f6c-88e974a66483",
     "prev": "85b24560-6b9a-4f3c-81bd-74b4f32df13a",
     "regions": {
      "99d3efa5-59fb-4200-bbe7-372e66c756e0": {
       "attrs": {
        "height": 0.8,
        "width": 0.8,
        "x": 0.1,
        "y": 0.1
       },
       "content": {
        "cell": "e46f114f-b44b-4413-a2fc-f7d2ee494bb9",
        "part": "whole"
       },
       "id": "99d3efa5-59fb-4200-bbe7-372e66c756e0"
      }
     }
    },
    "e9b66c21-dd23-48c2-9a3f-33fe494cefec": {
     "id": "e9b66c21-dd23-48c2-9a3f-33fe494cefec",
     "prev": "24f3d903-07b4-46ad-8605-a30cc72864e8",
     "regions": {
      "ca42ff51-ab1f-4b25-9580-71ba5279d373": {
       "attrs": {
        "height": 0.8,
        "width": 0.8,
        "x": 0.1,
        "y": 0.1
       },
       "content": {
        "cell": "0985c53d-b3ee-4788-bab3-f6ae5da14e1a",
        "part": "whole"
       },
       "id": "ca42ff51-ab1f-4b25-9580-71ba5279d373"
      }
     }
    },
    "eca5a0f2-9008-4092-bdd9-3191d5576458": {
     "id": "eca5a0f2-9008-4092-bdd9-3191d5576458",
     "layout": "treemap",
     "prev": null,
     "regions": {
      "74d9e509-ac55-48e6-9c15-08c2d22b2cf8": {
       "attrs": {
        "height": 1,
        "pad": 0.01,
        "treemap:weight": 1,
        "width": 1,
        "x": 0,
        "y": 0
       },
       "content": {
        "cell": "71b9274c-7e14-4f96-a5b6-c5c2ab107d00",
        "part": "whole"
       },
       "id": "74d9e509-ac55-48e6-9c15-08c2d22b2cf8"
      }
     }
    },
    "f3ed960f-5e66-4af9-b6db-7185e26ca908": {
     "id": "f3ed960f-5e66-4af9-b6db-7185e26ca908",
     "prev": "dc9683a6-86af-45cc-a2da-0e448e83c976",
     "regions": {
      "99f485b1-3bc8-4ef2-b047-0894efda0c2f": {
       "attrs": {
        "height": 0.8,
        "width": 0.8,
        "x": 0.1,
        "y": 0.1
       },
       "content": {
        "cell": "13806d54-af83-46e7-9fa6-cd4df7537017",
        "part": "whole"
       },
       "id": "99f485b1-3bc8-4ef2-b047-0894efda0c2f"
      }
     }
    }
   },
   "themes": {
    "default": "1f3a7524-b862-4068-ad65-291ca58720ab",
    "theme": {}
   }
  }
 },
 "nbformat": 4,
 "nbformat_minor": 1
}
