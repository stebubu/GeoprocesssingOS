{
 "cells": [
  {
   "cell_type": "markdown",
   "metadata": {},
   "source": [
    "<!--NAVIGATION-->\n",
    "< [4_Numpy_intro](5_Numpy_intro.ipynb) | [Contents](Index.ipynb) | [5_Geoprocessing_Python_GDAL](5_Geoprocessing_Python_GDAL.ipynb) >"
   ]
  },
  {
   "cell_type": "markdown",
   "metadata": {},
   "source": [
    "<img align=\"left\" style=\"width: 350px;\" src=\"figures/logo.png\"/>\n",
    "----------------------------------------------------------------------------------------------------------------------\n",
    "# Bologna Training Course 23 – 27 January 2017\n",
    "\n",
    "# Hydrological and Flood Risk Geo-processing with Open Source (Python/GDAL) \n",
    "<img  align=\"left\" style=\"width: 300px;\" src=\"figures/logo2011.jpg\"/>\n",
    "\n",
    "----------------------------------------------------------------------------------------------------------------------\n",
    "## Stefano Bagli and Paolo Mazzoli - [GECOsistema srl ](www.gecosistema.com)\n",
    "----------------------------------------------------------------------------------------------------------------------"
   ]
  },
  {
   "cell_type": "markdown",
   "metadata": {},
   "source": [
    "# 4 Numpy - Intro\n",
    "Numpy is the core library for scientific computing in Python. \n",
    "It provides a high-performance multidimensional array object, and tools for working with these arrays. \n",
    "If you are already familiar with MATLAB, you might find this tutorial useful to get started with Numpy.\n",
    "[Matlab-Numpy](http://scipy.github.io/old-wiki/pages/NumPy_for_Matlab_Users)\n",
    "\n"
   ]
  },
  {
   "cell_type": "code",
   "execution_count": 2,
   "metadata": {
    "collapsed": false
   },
   "outputs": [
    {
     "data": {
      "text/plain": [
       "'1.11.1'"
      ]
     },
     "execution_count": 2,
     "metadata": {},
     "output_type": "execute_result"
    }
   ],
   "source": [
    "import numpy as np\n",
    "np.__version__"
   ]
  },
  {
   "cell_type": "markdown",
   "metadata": {},
   "source": [
    "## 4.1 Creating Arrays from Python Lists\n",
    "\n",
    "First, we can use ``np.array`` to create arrays from Python lists:"
   ]
  },
  {
   "cell_type": "code",
   "execution_count": null,
   "metadata": {
    "collapsed": true
   },
   "outputs": [],
   "source": [
    "# integer array:\n",
    "np.array([1, 4, 2, 5, 3])"
   ]
  },
  {
   "cell_type": "markdown",
   "metadata": {},
   "source": [
    "Remember that unlike Python lists, NumPy is constrained to arrays that all contain the same type.\n",
    "If types do not match, NumPy will upcast if possible (here, integers are up-cast to floating point):"
   ]
  },
  {
   "cell_type": "code",
   "execution_count": null,
   "metadata": {
    "collapsed": true
   },
   "outputs": [],
   "source": [
    "np.array([3.14, 4, 2, 3])"
   ]
  },
  {
   "cell_type": "markdown",
   "metadata": {},
   "source": [
    "If we want to explicitly set the data type of the resulting array, we can use the ``dtype`` keyword:"
   ]
  },
  {
   "cell_type": "code",
   "execution_count": null,
   "metadata": {
    "collapsed": true
   },
   "outputs": [],
   "source": [
    "np.array([1, 2, 3, 4], dtype='float32')"
   ]
  },
  {
   "cell_type": "markdown",
   "metadata": {},
   "source": [
    "Finally, unlike Python lists, NumPy arrays can explicitly be multi-dimensional; here's one way of initializing a multidimensional array using a list of lists:"
   ]
  },
  {
   "cell_type": "code",
   "execution_count": null,
   "metadata": {
    "collapsed": true
   },
   "outputs": [],
   "source": [
    "# nested lists result in multi-dimensional arrays\n",
    "np.array([range(i, i + 3) for i in [2, 4, 6]])"
   ]
  },
  {
   "cell_type": "markdown",
   "metadata": {},
   "source": [
    "## 4.2 Creating Arrays from Scratch\n",
    "\n",
    "Especially for larger arrays, it is more efficient to create arrays from scratch using routines built into NumPy.\n",
    "Here are several examples:"
   ]
  },
  {
   "cell_type": "code",
   "execution_count": null,
   "metadata": {
    "collapsed": true
   },
   "outputs": [],
   "source": [
    "# Create a length-10 integer array filled with zeros\n",
    "arr1=np.zeros(10, dtype=int)\n",
    "print arr1\n",
    "# Create a 3x5 floating-point array filled with ones\n",
    "arr2=np.ones((3, 5), dtype=float)\n",
    "print arr2\n",
    "# Create a 3x3 array of uniformly distributed\n",
    "# random values between 0 and 1\n",
    "arr3=np.random.random((3, 3))\n",
    "print arr3\n",
    "# Create a 3x3 array of random integers in the interval [0, 10)\n",
    "arr4=np.random.randint(0, 10, (3, 3))\n",
    "print arr4"
   ]
  },
  {
   "cell_type": "markdown",
   "metadata": {},
   "source": [
    "| Data type\t    | Description |\n",
    "|---------------|-------------|\n",
    "| ``bool_``     | Boolean (True or False) stored as a byte |\n",
    "| ``int_``      | Default integer type (same as C ``long``; normally either ``int64`` or ``int32``)| \n",
    "| ``intc``      | Identical to C ``int`` (normally ``int32`` or ``int64``)| \n",
    "| ``intp``      | Integer used for indexing (same as C ``ssize_t``; normally either ``int32`` or ``int64``)| \n",
    "| ``int8``      | Byte (-128 to 127)| \n",
    "| ``int16``     | Integer (-32768 to 32767)|\n",
    "| ``int32``     | Integer (-2147483648 to 2147483647)|\n",
    "| ``int64``     | Integer (-9223372036854775808 to 9223372036854775807)| \n",
    "| ``uint8``     | Unsigned integer (0 to 255)| \n",
    "| ``uint16``    | Unsigned integer (0 to 65535)| \n",
    "| ``uint32``    | Unsigned integer (0 to 4294967295)| \n",
    "| ``uint64``    | Unsigned integer (0 to 18446744073709551615)| \n",
    "| ``float_``    | Shorthand for ``float64``.| \n",
    "| ``float16``   | Half precision float: sign bit, 5 bits exponent, 10 bits mantissa| \n",
    "| ``float32``   | Single precision float: sign bit, 8 bits exponent, 23 bits mantissa| \n",
    "| ``float64``   | Double precision float: sign bit, 11 bits exponent, 52 bits mantissa| \n",
    "| ``complex_``  | Shorthand for ``complex128``.| \n",
    "| ``complex64`` | Complex number, represented by two 32-bit floats| \n",
    "| ``complex128``| Complex number, represented by two 64-bit floats| "
   ]
  },
  {
   "cell_type": "markdown",
   "metadata": {},
   "source": [
    "## 4.3 NumPy Array Attributes"
   ]
  },
  {
   "cell_type": "code",
   "execution_count": null,
   "metadata": {
    "collapsed": true
   },
   "outputs": [],
   "source": [
    "print(\"arr4 ndim: \", arr4.ndim)\n",
    "print(\"arr4 shape:\", arr4.shape)\n",
    "print(\"arr4 size: \", arr4.size)"
   ]
  },
  {
   "cell_type": "markdown",
   "metadata": {},
   "source": [
    "## 4.4 Array Indexing: Accessing Single Elements\n",
    "\n",
    "1-n dimensional array"
   ]
  },
  {
   "cell_type": "code",
   "execution_count": null,
   "metadata": {
    "collapsed": true
   },
   "outputs": [],
   "source": [
    "arr1[0]"
   ]
  },
  {
   "cell_type": "code",
   "execution_count": null,
   "metadata": {
    "collapsed": true
   },
   "outputs": [],
   "source": [
    "arr1[5]"
   ]
  },
  {
   "cell_type": "code",
   "execution_count": null,
   "metadata": {
    "collapsed": true
   },
   "outputs": [],
   "source": [
    "arr1[-1]"
   ]
  },
  {
   "cell_type": "markdown",
   "metadata": {},
   "source": [
    "In a multi-dimensional array, items can be accessed using a comma-separated tuple of indices:"
   ]
  },
  {
   "cell_type": "code",
   "execution_count": null,
   "metadata": {
    "collapsed": true
   },
   "outputs": [],
   "source": [
    "arr4[0, 0]"
   ]
  },
  {
   "cell_type": "code",
   "execution_count": null,
   "metadata": {
    "collapsed": true
   },
   "outputs": [],
   "source": [
    "arr4[2, 0]"
   ]
  },
  {
   "cell_type": "markdown",
   "metadata": {},
   "source": [
    "Values can also be modified using any of the above index notation:"
   ]
  },
  {
   "cell_type": "code",
   "execution_count": null,
   "metadata": {
    "collapsed": true
   },
   "outputs": [],
   "source": [
    "arr4[0, 0] = 12\n",
    "arr4"
   ]
  },
  {
   "cell_type": "markdown",
   "metadata": {},
   "source": [
    "### 4.4.1 Array Slicing\n",
    "Just as we can use square brackets to access individual array elements, we can also use them to access subarrays with the *slice* notation, marked by the colon (``:``) character.\n",
    "The NumPy slicing syntax follows that of the standard Python list; to access a slice of an array ``x``, use this:\n",
    "``` python\n",
    "x[start:stop:step]\n",
    "```\n",
    "If any of these are unspecified, they default to the values ``start=0``, ``stop=``*``size of dimension``*, ``step=1``.\n",
    "We'll take a look at accessing sub-arrays in one dimension and in multiple dimensions."
   ]
  },
  {
   "cell_type": "markdown",
   "metadata": {},
   "source": [
    "One-Dimensional Array"
   ]
  },
  {
   "cell_type": "code",
   "execution_count": null,
   "metadata": {
    "collapsed": true
   },
   "outputs": [],
   "source": [
    "x = np.arange(10)\n",
    "x"
   ]
  },
  {
   "cell_type": "code",
   "execution_count": null,
   "metadata": {
    "collapsed": true
   },
   "outputs": [],
   "source": [
    "x[:5]  # first five elements"
   ]
  },
  {
   "cell_type": "code",
   "execution_count": null,
   "metadata": {
    "collapsed": true
   },
   "outputs": [],
   "source": [
    "x[5:]  # elements after index 5"
   ]
  },
  {
   "cell_type": "markdown",
   "metadata": {},
   "source": [
    "2D Array"
   ]
  },
  {
   "cell_type": "code",
   "execution_count": null,
   "metadata": {
    "collapsed": true
   },
   "outputs": [],
   "source": [
    "x2 = np.random.randint(10, size=(3, 4))"
   ]
  },
  {
   "cell_type": "code",
   "execution_count": null,
   "metadata": {
    "collapsed": true
   },
   "outputs": [],
   "source": [
    "x2[:2, :3]  # two rows, three columns"
   ]
  },
  {
   "cell_type": "code",
   "execution_count": null,
   "metadata": {
    "collapsed": true
   },
   "outputs": [],
   "source": [
    "x2[:3, ::2]  # all rows, every other column"
   ]
  },
  {
   "cell_type": "code",
   "execution_count": null,
   "metadata": {
    "collapsed": true
   },
   "outputs": [],
   "source": [
    "print(x2[:, 0])  # first column of x2"
   ]
  },
  {
   "cell_type": "code",
   "execution_count": null,
   "metadata": {
    "collapsed": true
   },
   "outputs": [],
   "source": [
    "print(x2[0, :])  # first row of x2"
   ]
  },
  {
   "cell_type": "markdown",
   "metadata": {},
   "source": [
    "### 4.4.1 Array Re-shape\n",
    "Another useful type of operation is reshaping of arrays.\n",
    "The most flexible way of doing this is with the ``reshape`` method.\n",
    "For example, if you want to put the numbers 1 through 9 in a $3 \\times 3$ grid, you can do the following:"
   ]
  },
  {
   "cell_type": "code",
   "execution_count": null,
   "metadata": {
    "collapsed": true
   },
   "outputs": [],
   "source": [
    "grid = np.arange(1, 10).reshape((3, 3))\n",
    "print(grid)"
   ]
  },
  {
   "cell_type": "code",
   "execution_count": null,
   "metadata": {
    "collapsed": true
   },
   "outputs": [],
   "source": []
  },
  {
   "cell_type": "markdown",
   "metadata": {},
   "source": [
    "## 4.5 Reading Array from CSV- Panda Package\n"
   ]
  },
  {
   "cell_type": "code",
   "execution_count": 4,
   "metadata": {
    "collapsed": false
   },
   "outputs": [
    {
     "name": "stdout",
     "output_type": "stream",
     "text": [
      "[[  9.48848263e-01   2.44421749e-01   3.72116259e-01   6.24029342e-01\n",
      "    6.73650190e-02   2.02309591e-01   2.35807425e-01   4.32149428e-01]\n",
      " [  8.74260337e-01   5.36371519e-01   5.87122357e-01   3.73965062e-01\n",
      "    9.78976609e-01   5.94326559e-01   5.76428400e-01   2.51849978e-01]\n",
      " [  1.93187063e-01   4.11829936e-01   2.44980500e-01   3.02306477e-01\n",
      "    8.99028831e-01   6.82403367e-01   4.37184100e-01   7.93183972e-01]\n",
      " [  1.08506956e-01   9.61694200e-02   4.15509902e-01   4.18631140e-02\n",
      "    2.53414971e-01   8.34931639e-01   9.96138430e-01   6.56402400e-01]\n",
      " [  1.10573163e-01   7.30445353e-01   3.73997464e-01   3.88623438e-01\n",
      "    5.49821697e-01   8.46318494e-01   9.44671793e-01   8.68358356e-01]\n",
      " [  5.27725945e-01   5.24999628e-01   5.63541834e-01   4.37502608e-01\n",
      "    8.91590346e-01   5.47078943e-01   6.76747649e-01   7.61063074e-01]\n",
      " [  3.05887896e-01   7.29264851e-01   1.52346094e-01   7.03018632e-01\n",
      "    8.10870496e-01   8.88444379e-01   5.88594785e-01   8.97704512e-01]\n",
      " [  9.50632473e-01   3.75992687e-01   8.09899475e-01   4.02984312e-01\n",
      "    5.73908378e-01   2.28535298e-01   7.62376425e-01   7.90472991e-01]\n",
      " [  5.02552324e-01   4.29725367e-01   2.75447420e-02   9.57804308e-01\n",
      "    2.16572700e-01   5.02646086e-01   2.01001926e-01   4.11398961e-01]\n",
      " [  6.23851245e-01   2.71519536e-01   9.79338073e-01   3.90765090e-02\n",
      "    6.80622545e-01   2.54226222e-01   1.05785557e-01   1.85142880e-01]\n",
      " [  1.45124835e-01   4.98096141e-01   8.16612185e-01   4.12453630e-02\n",
      "    4.50902089e-01   4.93460160e-02   5.78313483e-01   1.19541265e-01]\n",
      " [  7.65561220e-02   7.95602732e-01   3.84256000e-04   5.07074751e-01\n",
      "    3.51228183e-01   3.29408634e-01   4.12495680e-01   6.78161147e-01]\n",
      " [  1.21823855e-01   9.81935551e-01   3.02437994e-01   3.31501130e-01\n",
      "    3.93399800e-02   2.74182232e-01   8.87050378e-01   6.38233799e-01]\n",
      " [  2.29859731e-01   5.73121590e-02   8.80487050e-01   2.91242355e-01\n",
      "    1.27605107e-01   6.61055611e-01   5.25360430e-02   5.22885556e-01]\n",
      " [  8.60696700e-01   9.30469251e-01   4.11229531e-01   7.51868422e-01\n",
      "    8.68395575e-01   6.28811415e-01   3.45497200e-03   9.33472730e-01]\n",
      " [  5.24102334e-01   2.88068294e-01   9.83360392e-01   7.42737911e-01\n",
      "    9.59546866e-01   6.78714049e-01   7.13858670e-01   6.84942567e-01]\n",
      " [  9.08341067e-01   9.73434275e-01   8.28104855e-01   5.47241406e-01\n",
      "    3.90974346e-01   7.71868339e-01   2.53050571e-01   1.21683470e-02]\n",
      " [  4.85417393e-01   9.05976624e-01   4.21128700e-03   7.75914486e-01\n",
      "    3.21002449e-01   7.30034264e-01   1.14882909e-01   3.99666541e-01]\n",
      " [  8.39957874e-01   5.12597508e-01   5.55609096e-01   7.68524969e-01\n",
      "    7.19405520e-02   2.33974888e-01   3.53874775e-01   2.35277320e-01]\n",
      " [  9.54071360e-02   8.03738183e-01   1.06210859e-01   8.54797042e-01\n",
      "    1.30416183e-01   7.81539421e-01   7.57902312e-01   6.90160134e-01]\n",
      " [  5.13545844e-01   7.12944194e-01   2.36127903e-01   1.37506930e-02\n",
      "    7.34553875e-01   1.76370334e-01   9.92007980e-02   7.03821430e-02]]\n"
     ]
    }
   ],
   "source": [
    "import pandas as pd\n",
    "data = pd.read_csv('data/Chap_4/data_1.csv')\n",
    "values = np.array(data)\n",
    "print(values)"
   ]
  },
  {
   "cell_type": "code",
   "execution_count": null,
   "metadata": {
    "collapsed": false
   },
   "outputs": [],
   "source": [
    "print(\"Mean :       \", values.mean())\n",
    "print(\"Standard deviation:\", values.std())\n",
    "print(\"Minimum height:    \", values.min())\n",
    "print(\"Maximum height:    \", values.max())\n",
    "print(\"25th percentile:   \", np.percentile(values, 25))\n",
    "print(\"Median:            \", np.median(values))\n",
    "print(\"75th percentile:   \", np.percentile(values, 75))"
   ]
  },
  {
   "cell_type": "code",
   "execution_count": null,
   "metadata": {
    "collapsed": false
   },
   "outputs": [],
   "source": [
    "%matplotlib inline\n",
    "import matplotlib.pyplot as plt\n",
    "plt.hist(values)\n",
    "plt.title('values Distribution')\n",
    "plt.xlabel('values')\n",
    "plt.ylabel('number');"
   ]
  },
  {
   "cell_type": "markdown",
   "metadata": {},
   "source": [
    "## 4.6 Numpy Array Math-logical function\n",
    "For arrays of the same size, binary operations are performed on an element-by-element basis:\n",
    "\n",
    "The following table lists the arithmetic operators implemented in NumPy:\n",
    "\n",
    "| Operator\t    | Equivalent ufunc    | Description                           |\n",
    "|---------------|---------------------|---------------------------------------|\n",
    "|``+``          |``np.add``           |Addition (e.g., ``1 + 1 = 2``)         |\n",
    "|``-``          |``np.subtract``      |Subtraction (e.g., ``3 - 2 = 1``)      |\n",
    "|``-``          |``np.negative``      |Unary negation (e.g., ``-2``)          |\n",
    "|``*``          |``np.multiply``      |Multiplication (e.g., ``2 * 3 = 6``)   |\n",
    "|``/``          |``np.divide``        |Division (e.g., ``3 / 2 = 1.5``)       |\n",
    "|``//``         |``np.floor_divide``  |Floor division (e.g., ``3 // 2 = 1``)  |\n",
    "|``**``         |``np.power``         |Exponentiation (e.g., ``2 ** 3 = 8``)  |\n",
    "|``%``          |``np.mod``           |Modulus/remainder (e.g., ``9 % 4 = 1``)|\n"
   ]
  },
  {
   "cell_type": "code",
   "execution_count": null,
   "metadata": {
    "collapsed": true
   },
   "outputs": [],
   "source": [
    "a = np.array([0, 1, 2])\n",
    "b = np.array([5, 5, 5])\n",
    "print a + b\n",
    "\n",
    "print a + 5\n",
    "\n",
    "M = np.ones((3, 3))\n",
    "print M + a\n",
    "\n"
   ]
  },
  {
   "cell_type": "markdown",
   "metadata": {},
   "source": [
    "Broadcasting in NumPy follows a strict set of rules to determine the interaction between the two arrays:\n",
    "\n",
    "**Recall that for arrays of the same size, binary operations are performed on an element-by-element basis**\n",
    "\n",
    "- Rule 1: If the two arrays differ in their number of dimensions, the shape of the one with fewer dimensions is padded with ones on its leading (left) side.\n",
    "- Rule 2: If the shape of the two arrays does not match in any dimension, the array with shape equal to 1 in that dimension is stretched to match the other shape.\n",
    "- Rule 3: If in any dimension the sizes disagree and neither is equal to 1, an error is raised.\n",
    "\n",
    "![Broadcasting Visual](figures/broadcasting.png)"
   ]
  },
  {
   "cell_type": "code",
   "execution_count": null,
   "metadata": {
    "collapsed": true
   },
   "outputs": [],
   "source": []
  },
  {
   "cell_type": "code",
   "execution_count": null,
   "metadata": {
    "collapsed": true
   },
   "outputs": [],
   "source": [
    "theta = np.linspace(0, np.pi, 3)\n",
    "print(\"theta      = \", theta)\n",
    "print(\"sin(theta) = \", np.sin(theta))\n",
    "print(\"cos(theta) = \", np.cos(theta))\n",
    "print(\"tan(theta) = \", np.tan(theta))"
   ]
  },
  {
   "cell_type": "code",
   "execution_count": null,
   "metadata": {
    "collapsed": true
   },
   "outputs": [],
   "source": [
    "x = [1, 2, 3]\n",
    "print(\"x     =\", x)\n",
    "print(\"e^x   =\", np.exp(x))\n",
    "print(\"2^x   =\", np.exp2(x))\n",
    "print(\"3^x   =\", np.power(3, x))"
   ]
  },
  {
   "cell_type": "markdown",
   "metadata": {},
   "source": [
    "As in the case of arithmetic operators, the comparison operators are implemented as ufuncs in NumPy; for example, when you write ``x < 3``, internally NumPy uses ``np.less(x, 3)``.\n",
    "    A summary of the comparison operators and their equivalent ufunc is shown here:\n",
    "\n",
    "| Operator\t    | Equivalent ufunc    || Operator\t   | Equivalent ufunc    |\n",
    "|---------------|---------------------||---------------|---------------------|\n",
    "|``==``         |``np.equal``         ||``!=``         |``np.not_equal``     |\n",
    "|``<``          |``np.less``          ||``<=``         |``np.less_equal``    |\n",
    "|``>``          |``np.greater``       ||``>=``         |``np.greater_equal`` |"
   ]
  },
  {
   "cell_type": "code",
   "execution_count": null,
   "metadata": {
    "collapsed": false
   },
   "outputs": [],
   "source": [
    "print values>0.5\n",
    "print values>0.5\n",
    "print values==0.5"
   ]
  },
  {
   "cell_type": "markdown",
   "metadata": {},
   "source": [
    "## 4.7 Plotting a two-dimensional function\n",
    "One place that broadcasting is very useful is in displaying images based on two-dimensional functions.\n",
    "If we want to define a function $z = f(x, y)$, broadcasting can be used to compute the function across the grid:"
   ]
  },
  {
   "cell_type": "code",
   "execution_count": null,
   "metadata": {
    "collapsed": false
   },
   "outputs": [],
   "source": [
    "# x and y have 50 steps from 0 to 5\n",
    "x = np.linspace(0, 5, 50)\n",
    "y = np.linspace(0, 5, 50)[:, np.newaxis]\n",
    "\n",
    "z = np.sin(x) ** 10 + np.cos(10 + y * x) * np.cos(x)\n",
    "%matplotlib inline\n",
    "import matplotlib.pyplot as plt\n",
    "plt.imshow(z, origin='lower', extent=[0, 5, 0, 5],\n",
    "           cmap='viridis')\n",
    "plt.colorbar();"
   ]
  },
  {
   "cell_type": "markdown",
   "metadata": {
    "collapsed": false
   },
   "source": [
    "<!--NAVIGATION-->\n",
    "< [4_Numpy_intro](5_Numpy_intro.ipynb) | [Contents](Index.ipynb) | [5_Geoprocessing_Python_GDAL](5_Geoprocessing_Python_GDAL.ipynb) >"
   ]
  }
 ],
 "metadata": {
  "anaconda-cloud": {
   "attach-environment": true,
   "environment": null,
   "summary": "System_Risk_GIS_FloodRisk_Python",
   "url": "https://anaconda.org/gecosistema/tutorial_dem_flooding"
  },
  "kernelspec": {
   "display_name": "Python [conda root]",
   "language": "python",
   "name": "conda-root-py"
  },
  "language_info": {
   "codemirror_mode": {
    "name": "ipython",
    "version": 2
   },
   "file_extension": ".py",
   "mimetype": "text/x-python",
   "name": "python",
   "nbconvert_exporter": "python",
   "pygments_lexer": "ipython2",
   "version": "2.7.12"
  },
  "nbpresent": {
   "slides": {
    "02846c44-38f9-4aef-ab37-8352ebc70511": {
     "id": "02846c44-38f9-4aef-ab37-8352ebc70511",
     "prev": "71b5d3d6-77a7-4745-885f-ffc1420d2665",
     "regions": {
      "e9303037-dc9c-4738-9a7f-ec376dc34ebd": {
       "attrs": {
        "height": 0.8,
        "width": 0.8,
        "x": 0.1,
        "y": 0.1
       },
       "content": {
        "cell": "08ed20e8-3a1e-4bfd-9bcc-194f5ea0b39a",
        "part": "whole"
       },
       "id": "e9303037-dc9c-4738-9a7f-ec376dc34ebd"
      }
     }
    },
    "060cbb0a-6be3-413b-b02d-fb39c6da0328": {
     "id": "060cbb0a-6be3-413b-b02d-fb39c6da0328",
     "prev": "5baef3ad-9342-45cb-be10-e49f5003c9d7",
     "regions": {
      "1b8534db-67d4-4e24-b3f8-4383a60de997": {
       "attrs": {
        "height": 0.8,
        "width": 0.8,
        "x": 0.1,
        "y": 0.1
       },
       "content": {
        "cell": "f81f9570-d4c4-4e2f-8a57-3881a4881b69",
        "part": "whole"
       },
       "id": "1b8534db-67d4-4e24-b3f8-4383a60de997"
      }
     }
    },
    "129f00a1-0146-4c50-8667-b07c5b2d0eeb": {
     "id": "129f00a1-0146-4c50-8667-b07c5b2d0eeb",
     "prev": "614538c9-99cd-42b3-b2c7-4e1ab0d4e7ce",
     "regions": {
      "ea63d8f6-c8ed-4b98-8c70-371f43ec89d9": {
       "attrs": {
        "height": 0.8,
        "width": 0.8,
        "x": 0.1,
        "y": 0.1
       },
       "content": {
        "cell": "dda7b0e7-4c44-4482-b791-23e93bedc4e8",
        "part": "whole"
       },
       "id": "ea63d8f6-c8ed-4b98-8c70-371f43ec89d9"
      }
     }
    },
    "24f3d903-07b4-46ad-8605-a30cc72864e8": {
     "id": "24f3d903-07b4-46ad-8605-a30cc72864e8",
     "prev": "389b4d70-b739-4d1a-8523-020ec1e069fd",
     "regions": {
      "93aaa554-dacc-471c-bbe8-b4aaac1e9872": {
       "attrs": {
        "height": 0.8,
        "width": 0.8,
        "x": 0.1,
        "y": 0.1
       },
       "content": {
        "cell": "a7945d9e-1ec9-49ad-97ea-03775d0db6ee",
        "part": "whole"
       },
       "id": "93aaa554-dacc-471c-bbe8-b4aaac1e9872"
      }
     }
    },
    "37b2a110-105d-4f03-8287-7b63a4923211": {
     "id": "37b2a110-105d-4f03-8287-7b63a4923211",
     "prev": "72a469c8-a471-4290-88de-7df3b22d42b0",
     "regions": {
      "a515c1f8-f153-41b5-8716-f22bf5005736": {
       "attrs": {
        "height": 0.8,
        "width": 0.8,
        "x": 0.1,
        "y": 0.1
       },
       "content": {
        "cell": "bbff907a-fe14-488d-b817-7818d01c8fed",
        "part": "whole"
       },
       "id": "a515c1f8-f153-41b5-8716-f22bf5005736"
      }
     }
    },
    "389b4d70-b739-4d1a-8523-020ec1e069fd": {
     "id": "389b4d70-b739-4d1a-8523-020ec1e069fd",
     "prev": "f3ed960f-5e66-4af9-b6db-7185e26ca908",
     "regions": {
      "aa3c9f93-5315-4267-a6d8-09e0ad39f5fc": {
       "attrs": {
        "height": 0.8,
        "width": 0.8,
        "x": 0.1,
        "y": 0.1
       },
       "content": {
        "cell": "2134dfb5-7454-4a64-8403-776934ebc23c",
        "part": "whole"
       },
       "id": "aa3c9f93-5315-4267-a6d8-09e0ad39f5fc"
      }
     }
    },
    "3d7f49bd-2657-4c4f-96db-4cda796a8940": {
     "id": "3d7f49bd-2657-4c4f-96db-4cda796a8940",
     "prev": "d28c9aad-45cd-4227-87ba-c966f9f7f892",
     "regions": {
      "f3c0d25c-5cda-43c3-b303-283279bd5d97": {
       "attrs": {
        "height": 0.8,
        "width": 0.8,
        "x": 0.1,
        "y": 0.1
       },
       "content": {
        "cell": "af6bdd26-055a-4f38-974c-90f6412bffdd",
        "part": "whole"
       },
       "id": "f3c0d25c-5cda-43c3-b303-283279bd5d97"
      }
     }
    },
    "5baef3ad-9342-45cb-be10-e49f5003c9d7": {
     "id": "5baef3ad-9342-45cb-be10-e49f5003c9d7",
     "prev": "e2b96bf4-ca5e-4cab-9f6c-88e974a66483",
     "regions": {
      "358e9f2a-97d5-4bbb-a5b0-b3fd0f714f62": {
       "attrs": {
        "height": 0.8,
        "width": 0.8,
        "x": 0.1,
        "y": 0.1
       },
       "content": {
        "cell": "ba961c1e-399a-4ff4-ab93-edb98666e243",
        "part": "whole"
       },
       "id": "358e9f2a-97d5-4bbb-a5b0-b3fd0f714f62"
      }
     }
    },
    "614538c9-99cd-42b3-b2c7-4e1ab0d4e7ce": {
     "id": "614538c9-99cd-42b3-b2c7-4e1ab0d4e7ce",
     "prev": "060cbb0a-6be3-413b-b02d-fb39c6da0328",
     "regions": {
      "10376570-99ad-47b9-910e-39f06583aa56": {
       "attrs": {
        "height": 0.8,
        "width": 0.8,
        "x": 0.1,
        "y": 0.1
       },
       "content": {
        "cell": "45e1366d-17c9-4927-bd4e-dc10b1085f44",
        "part": "whole"
       },
       "id": "10376570-99ad-47b9-910e-39f06583aa56"
      }
     }
    },
    "6203f2ae-d39f-423c-9237-df931af8bbca": {
     "id": "6203f2ae-d39f-423c-9237-df931af8bbca",
     "prev": "02846c44-38f9-4aef-ab37-8352ebc70511",
     "regions": {
      "91ccc09e-a852-4640-aa24-4e5c46f70ca3": {
       "attrs": {
        "height": 0.8,
        "width": 0.8,
        "x": 0.1,
        "y": 0.1
       },
       "content": {
        "cell": "eedc1df0-6c2e-428b-b1d6-f44bc0b0915c",
        "part": "whole"
       },
       "id": "91ccc09e-a852-4640-aa24-4e5c46f70ca3"
      }
     }
    },
    "71b5d3d6-77a7-4745-885f-ffc1420d2665": {
     "id": "71b5d3d6-77a7-4745-885f-ffc1420d2665",
     "prev": "af5e62de-6c34-4373-80ad-3d8691e42601",
     "regions": {
      "a73abf97-80cb-4861-8764-6813e587fa8d": {
       "attrs": {
        "height": 0.8,
        "width": 0.8,
        "x": 0.1,
        "y": 0.1
       },
       "content": {
        "cell": "32c9d0a9-ede4-40c3-b476-cac60d4c74ea",
        "part": "whole"
       },
       "id": "a73abf97-80cb-4861-8764-6813e587fa8d"
      }
     }
    },
    "72a469c8-a471-4290-88de-7df3b22d42b0": {
     "id": "72a469c8-a471-4290-88de-7df3b22d42b0",
     "prev": "6203f2ae-d39f-423c-9237-df931af8bbca",
     "regions": {
      "949cad9e-c468-4c9a-8d68-d633306c8f1a": {
       "attrs": {
        "height": 0.8,
        "width": 0.8,
        "x": 0.1,
        "y": 0.1
       },
       "content": {
        "cell": "ed7bdc7b-69ca-4774-b611-3248d21207f8",
        "part": "whole"
       },
       "id": "949cad9e-c468-4c9a-8d68-d633306c8f1a"
      }
     }
    },
    "7c2d2c6f-bd5a-4e85-911c-d1d708d28996": {
     "id": "7c2d2c6f-bd5a-4e85-911c-d1d708d28996",
     "prev": "3d7f49bd-2657-4c4f-96db-4cda796a8940",
     "regions": {
      "6e8b1ba0-4060-405e-a381-8f92630b8994": {
       "attrs": {
        "height": 0.8,
        "width": 0.8,
        "x": 0.1,
        "y": 0.1
       },
       "content": {
        "cell": "94a55052-1f09-4653-8d97-13691f89a5af",
        "part": "whole"
       },
       "id": "6e8b1ba0-4060-405e-a381-8f92630b8994"
      }
     }
    },
    "7d30fcfb-383a-4847-bd2a-52ed6304014e": {
     "id": "7d30fcfb-383a-4847-bd2a-52ed6304014e",
     "prev": "e24ad135-a3f7-46fe-b7fc-409bb89883e0",
     "regions": {
      "df410d6a-f9b1-4fef-8c22-8966240692a9": {
       "attrs": {
        "height": 0.8,
        "width": 0.8,
        "x": 0.1,
        "y": 0.1
       },
       "content": {
        "cell": "0c3e6324-872f-47b3-8a71-d6d69b35cbd7",
        "part": "whole"
       },
       "id": "df410d6a-f9b1-4fef-8c22-8966240692a9"
      }
     }
    },
    "85b24560-6b9a-4f3c-81bd-74b4f32df13a": {
     "id": "85b24560-6b9a-4f3c-81bd-74b4f32df13a",
     "prev": "eca5a0f2-9008-4092-bdd9-3191d5576458",
     "regions": {
      "d641820e-299e-4262-bb88-51e3036a823f": {
       "attrs": {
        "height": 0.8,
        "width": 0.8,
        "x": 0.1,
        "y": 0.1
       },
       "content": {
        "cell": "95869fba-1118-41e7-96a2-991e5c5a756a",
        "part": "whole"
       },
       "id": "d641820e-299e-4262-bb88-51e3036a823f"
      }
     }
    },
    "869d44bd-c99d-41f4-a284-d6ad6c3bbe4e": {
     "id": "869d44bd-c99d-41f4-a284-d6ad6c3bbe4e",
     "prev": "e9b66c21-dd23-48c2-9a3f-33fe494cefec",
     "regions": {
      "e55c411f-cb42-4dea-a485-50f361151b48": {
       "attrs": {
        "height": 0.8,
        "width": 0.8,
        "x": 0.1,
        "y": 0.1
       },
       "content": {
        "cell": "db87eb7a-bcfb-4f47-b2a7-31fec2ab8b7c",
        "part": "whole"
       },
       "id": "e55c411f-cb42-4dea-a485-50f361151b48"
      }
     }
    },
    "86ee40b8-3a7c-44d5-bdc8-6b4ab40da55b": {
     "id": "86ee40b8-3a7c-44d5-bdc8-6b4ab40da55b",
     "prev": "8920fe11-3ca1-47a5-abd4-02c2f5c6edd5",
     "regions": {
      "f95b9e1f-fc6e-4fc4-8861-777955515c41": {
       "attrs": {
        "height": 0.8,
        "width": 0.8,
        "x": 0.1,
        "y": 0.1
       },
       "content": {
        "cell": "f8957239-9b2b-417a-bb07-b8751138d10b",
        "part": "whole"
       },
       "id": "f95b9e1f-fc6e-4fc4-8861-777955515c41"
      }
     }
    },
    "8920fe11-3ca1-47a5-abd4-02c2f5c6edd5": {
     "id": "8920fe11-3ca1-47a5-abd4-02c2f5c6edd5",
     "prev": "869d44bd-c99d-41f4-a284-d6ad6c3bbe4e",
     "regions": {
      "07fa0bcb-52cf-4521-bfad-92fcdc5b7b90": {
       "attrs": {
        "height": 0.8,
        "width": 0.8,
        "x": 0.1,
        "y": 0.1
       },
       "content": {
        "cell": "51a0feff-4025-48e4-a45c-9c9b3a30da9c",
        "part": "whole"
       },
       "id": "07fa0bcb-52cf-4521-bfad-92fcdc5b7b90"
      }
     }
    },
    "af5e62de-6c34-4373-80ad-3d8691e42601": {
     "id": "af5e62de-6c34-4373-80ad-3d8691e42601",
     "prev": "7d30fcfb-383a-4847-bd2a-52ed6304014e",
     "regions": {
      "92e73601-62ca-468b-83f8-96fbc6505136": {
       "attrs": {
        "height": 0.8,
        "width": 0.8,
        "x": 0.1,
        "y": 0.1
       },
       "content": {
        "cell": "a1de97fa-11cc-45a5-8b48-0c26135390c2",
        "part": "whole"
       },
       "id": "92e73601-62ca-468b-83f8-96fbc6505136"
      }
     }
    },
    "b710730a-bcb2-40ce-b7a7-c0c89d3f3570": {
     "id": "b710730a-bcb2-40ce-b7a7-c0c89d3f3570",
     "prev": "7c2d2c6f-bd5a-4e85-911c-d1d708d28996",
     "regions": {
      "f28cfeef-dac1-40aa-a5ae-f80e3e06c1c2": {
       "attrs": {
        "height": 0.8,
        "width": 0.8,
        "x": 0.1,
        "y": 0.1
       },
       "content": {
        "cell": "e83c912e-aa12-49d4-ab61-acef128249f3",
        "part": "whole"
       },
       "id": "f28cfeef-dac1-40aa-a5ae-f80e3e06c1c2"
      }
     }
    },
    "b9811710-7832-41cf-a160-0cda733e8fe0": {
     "id": "b9811710-7832-41cf-a160-0cda733e8fe0",
     "prev": "86ee40b8-3a7c-44d5-bdc8-6b4ab40da55b",
     "regions": {
      "9846698b-693e-4e66-bc97-169dc99dac83": {
       "attrs": {
        "height": 0.8,
        "width": 0.8,
        "x": 0.1,
        "y": 0.1
       },
       "content": {
        "cell": "e84ec698-bb2f-455b-9a68-31dd3af64a3f",
        "part": "whole"
       },
       "id": "9846698b-693e-4e66-bc97-169dc99dac83"
      }
     }
    },
    "d28c9aad-45cd-4227-87ba-c966f9f7f892": {
     "id": "d28c9aad-45cd-4227-87ba-c966f9f7f892",
     "prev": "129f00a1-0146-4c50-8667-b07c5b2d0eeb",
     "regions": {
      "9d9dcd59-8531-475f-ba42-74cf48f9d3be": {
       "attrs": {
        "height": 0.8,
        "width": 0.8,
        "x": 0.1,
        "y": 0.1
       },
       "content": {
        "cell": "dd1fec34-ffa6-474c-9213-5adb5f106fb5",
        "part": "whole"
       },
       "id": "9d9dcd59-8531-475f-ba42-74cf48f9d3be"
      }
     }
    },
    "dc9683a6-86af-45cc-a2da-0e448e83c976": {
     "id": "dc9683a6-86af-45cc-a2da-0e448e83c976",
     "prev": "37b2a110-105d-4f03-8287-7b63a4923211",
     "regions": {
      "d36030ad-089f-46a2-8129-fd09da697617": {
       "attrs": {
        "height": 0.8,
        "width": 0.8,
        "x": 0.1,
        "y": 0.1
       },
       "content": {
        "cell": "308d21f1-0db4-46f3-b60a-923940edcb0b",
        "part": "whole"
       },
       "id": "d36030ad-089f-46a2-8129-fd09da697617"
      }
     }
    },
    "e24ad135-a3f7-46fe-b7fc-409bb89883e0": {
     "id": "e24ad135-a3f7-46fe-b7fc-409bb89883e0",
     "prev": "b710730a-bcb2-40ce-b7a7-c0c89d3f3570",
     "regions": {
      "d2e48674-006e-426e-b88e-34bc617cd4dc": {
       "attrs": {
        "height": 0.8,
        "width": 0.8,
        "x": 0.1,
        "y": 0.1
       },
       "content": {
        "cell": "3c915b92-276e-4181-a34e-08d6bce4dc6c",
        "part": "whole"
       },
       "id": "d2e48674-006e-426e-b88e-34bc617cd4dc"
      }
     }
    },
    "e2b96bf4-ca5e-4cab-9f6c-88e974a66483": {
     "id": "e2b96bf4-ca5e-4cab-9f6c-88e974a66483",
     "prev": "85b24560-6b9a-4f3c-81bd-74b4f32df13a",
     "regions": {
      "99d3efa5-59fb-4200-bbe7-372e66c756e0": {
       "attrs": {
        "height": 0.8,
        "width": 0.8,
        "x": 0.1,
        "y": 0.1
       },
       "content": {
        "cell": "e46f114f-b44b-4413-a2fc-f7d2ee494bb9",
        "part": "whole"
       },
       "id": "99d3efa5-59fb-4200-bbe7-372e66c756e0"
      }
     }
    },
    "e9b66c21-dd23-48c2-9a3f-33fe494cefec": {
     "id": "e9b66c21-dd23-48c2-9a3f-33fe494cefec",
     "prev": "24f3d903-07b4-46ad-8605-a30cc72864e8",
     "regions": {
      "ca42ff51-ab1f-4b25-9580-71ba5279d373": {
       "attrs": {
        "height": 0.8,
        "width": 0.8,
        "x": 0.1,
        "y": 0.1
       },
       "content": {
        "cell": "0985c53d-b3ee-4788-bab3-f6ae5da14e1a",
        "part": "whole"
       },
       "id": "ca42ff51-ab1f-4b25-9580-71ba5279d373"
      }
     }
    },
    "eca5a0f2-9008-4092-bdd9-3191d5576458": {
     "id": "eca5a0f2-9008-4092-bdd9-3191d5576458",
     "layout": "treemap",
     "prev": null,
     "regions": {
      "74d9e509-ac55-48e6-9c15-08c2d22b2cf8": {
       "attrs": {
        "height": 1,
        "pad": 0.01,
        "treemap:weight": 1,
        "width": 1,
        "x": 0,
        "y": 0
       },
       "content": {
        "cell": "71b9274c-7e14-4f96-a5b6-c5c2ab107d00",
        "part": "whole"
       },
       "id": "74d9e509-ac55-48e6-9c15-08c2d22b2cf8"
      }
     }
    },
    "f3ed960f-5e66-4af9-b6db-7185e26ca908": {
     "id": "f3ed960f-5e66-4af9-b6db-7185e26ca908",
     "prev": "dc9683a6-86af-45cc-a2da-0e448e83c976",
     "regions": {
      "99f485b1-3bc8-4ef2-b047-0894efda0c2f": {
       "attrs": {
        "height": 0.8,
        "width": 0.8,
        "x": 0.1,
        "y": 0.1
       },
       "content": {
        "cell": "13806d54-af83-46e7-9fa6-cd4df7537017",
        "part": "whole"
       },
       "id": "99f485b1-3bc8-4ef2-b047-0894efda0c2f"
      }
     }
    }
   },
   "themes": {
    "default": "1f3a7524-b862-4068-ad65-291ca58720ab",
    "theme": {}
   }
  }
 },
 "nbformat": 4,
 "nbformat_minor": 1
}
