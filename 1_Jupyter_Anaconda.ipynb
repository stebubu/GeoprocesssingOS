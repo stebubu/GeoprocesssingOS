{
 "cells": [
  {
   "cell_type": "markdown",
   "metadata": {},
   "source": [
    "<!--NAVIGATION-->\n",
    "< [1_Jupyter_Anaconda](1_Jupyter_Anaconda.ipynb) | [Contents](Index.ipynb) | [2-GIS - Introduction](2_GIS_Introduction.ipynb) >"
   ]
  },
  {
   "cell_type": "markdown",
   "metadata": {},
   "source": [
    "<img align=\"left\" style=\"width: 350px;\" src=\"figures/logo.png\"/>\n",
    "----------------------------------------------------------------------------------------------------------------------\n",
    "# Bologna Training Course 23 – 27 January 2017\n",
    "\n",
    "# Hydrological and Flood Risk Geo-processing with Open Source (Python/GDAL) \n",
    "<img  align=\"left\" style=\"width: 300px;\" src=\"figures/logo2011.jpg\"/>\n",
    "\n",
    "----------------------------------------------------------------------------------------------------------------------\n",
    "## Stefano Bagli and Paolo Mazzoli - [GECOsistema srl ](www.gecosistema.com)\n",
    "----------------------------------------------------------------------------------------------------------------------"
   ]
  },
  {
   "cell_type": "markdown",
   "metadata": {},
   "source": [
    "# 1-Jupyter Notebook\n",
    "\n",
    "<img style=\"width: 800px;\" src=\"figures/jupyter.png\"/>\n",
    "\n",
    "**The Jupyter Notebook is a web application, produced by the Jupyter Notebook App, that allows you to create and share documents that contains:**\n",
    "1. computer code (e.g. python) \n",
    "2. rich text elements:\n",
    "    - paragraph\n",
    "    - figures, \n",
    "    - links, \n",
    "    - equations\n",
    "    - video\n",
    "    - html\n",
    "    - links"
   ]
  },
  {
   "cell_type": "markdown",
   "metadata": {},
   "source": [
    "* Because of the mix of code and text elements, these documents are the ideal place to bring together an analysis description and its results as well as they can be executed perform the data analysis in real time.\n",
    "\n",
    "* Notebook documents are both human-readable documents containing the analysis description and the results (figures, tables, etc..) as well as executable documents which can be run to perform data analysis.\n",
    "\n",
    "* \"Jupyter\" is a loose acronym meaning **Julia, Python, and R**. \n",
    "    - These programming languages were the first target languages of the Jupyter application, but nowadays, the notebook technology also supports many other languages. \n",
    "    \n",
    "    "
   ]
  },
  {
   "cell_type": "markdown",
   "metadata": {},
   "source": [
    "### Main Purposes\n",
    "\n",
    "- Describe your research process and results\n",
    "- How reproduce to results\n",
    "\n",
    "eg LIGO Notebook\n",
    "https://nbviewer.jupyter.org/github/minrk/ligo-binder/blob/master/GW150914_tutorial.ipynb"
   ]
  },
  {
   "cell_type": "markdown",
   "metadata": {},
   "source": [
    "## 1.1 What Is The Jupyter Notebook App?\n",
    "\n",
    "- As a web application, the Jupyter Notebook App allows you to edit and run your notebooks via a web browser. \n",
    "\n",
    "- The application can be executed on a PC without Internet access or it can be installed on a remote server, where you can access it through the Internet.\n",
    "\n",
    "Its two main components are the kernels and a dashboard.\n",
    "\n",
    "1. A **kernel** is a program that runs and introspects the user’s code. The Jupyter Notebook App has a kernel for Python code, but there are also kernels available for other programming languages.\n",
    "\n",
    "2. The **dashboard** of the application not only shows you the notebook documents that you have made and can reopen but can also be used to manage the kernels: you can which ones are running and shut them down if necessary."
   ]
  },
  {
   "cell_type": "markdown",
   "metadata": {},
   "source": [
    "## 1.2 Launching the Jupyter Notebook\n",
    "\n",
    "After you have installed the Jupyter Notebook on your computer, you are ready to run the notebook server. \n",
    "\n",
    "You can start the notebook server from the command line (using Terminal on Mac/Linux, Command Prompt on Windows) by running:\n",
    "\n",
    "Though the IPython notebook is viewed and edited through your web browser window, it must connect to a running Python process in order to execute code.\n",
    "This process (known as a \"kernel\") can be started by running the following command in your system shell:\n",
    "\n",
    "```\n",
    "$ jupyter notebook\n",
    "```\n",
    "\n",
    "This command will launch a local web server that will be visible to your browser.\n",
    "It immediately spits out a log showing what it is doing; that log will look something like this:\n",
    "\n",
    "```\n",
    "$ jupyter notebook\n",
    "[NotebookApp] Serving notebooks from local directory: /Users/jakevdp/PythonDataScienceHandbook\n",
    "[NotebookApp] 0 active kernels \n",
    "[NotebookApp] The IPython Notebook is running at: http://localhost:8888/\n",
    "[NotebookApp] Use Control-C to stop this server and shut down all kernels (twice to skip confirmation).\n",
    "```\n",
    "\n",
    "- Upon issuing the command, your default browser should automatically open and navigate to the listed local URL;\n",
    "the exact address will depend on your system.\n",
    "- If the browser does not open automatically, you can open a window and manually open this address (*http://localhost:8888/* in this example)."
   ]
  },
  {
   "cell_type": "markdown",
   "metadata": {},
   "source": [
    "Then you'll see the application opening in the web browser on the following address: http://localhost:8888. This all is demonstrated in the gif below:\n",
    "\n",
    "<img style=\"width: 800px;\" src=\"figures/content_jupyternotebook1.gif\"/>\n",
    "\n",
    "## 1.3 Open a New Notebook\n",
    "\n",
    "<img style=\"width: 800px;\" src=\"figures/content_jupyternotebook7.gif\"/>"
   ]
  },
  {
   "cell_type": "markdown",
   "metadata": {},
   "source": [
    "## 1.3 Opening a Jupyter Notebook\n",
    "\n",
    "Once Jupyter is running properly on your PC/Mac/linux open the first notebook (file with extension .ipybn)\n",
    "\n",
    "### 1.3.1 Cell Code\n",
    "By default, Jupyter Notebooks' Code Cells will execute Python. Jupyter Notebooks generally also support JavaScript, Python, HTML, and Bash commands. For a more comprehensive list, see your Kernel's documentation.\n",
    "\n",
    "**Code cells have both an input and an output component.**"
   ]
  },
  {
   "cell_type": "code",
   "execution_count": 2,
   "metadata": {
    "collapsed": false
   },
   "outputs": [
    {
     "name": "stdout",
     "output_type": "stream",
     "text": [
      "Hi System-Risk ESRs!!\n"
     ]
    }
   ],
   "source": [
    "# python code\n",
    "a= \"Hi System-Risk ESRs!!\"\n",
    "print a"
   ]
  },
  {
   "cell_type": "markdown",
   "metadata": {},
   "source": [
    "### 1.3.2 Cell Markdown\n",
    "\n",
    "In Jupyter Notebooks, Markdown Cells are the easiest way to write and format text. "
   ]
  },
  {
   "cell_type": "markdown",
   "metadata": {},
   "source": [
    "insert text here"
   ]
  },
  {
   "cell_type": "markdown",
   "metadata": {},
   "source": [
    "## 1.4 Markdown Cheatsheet\n",
    "\n",
    "### Headers\n",
    "\n",
    "# Header 1\n",
    "## Header 2\n",
    "### Header 3\n",
    "#### Header 4"
   ]
  },
  {
   "cell_type": "markdown",
   "metadata": {},
   "source": [
    "### List\n",
    "- list 1\n",
    " - sublist 1\n",
    " - sublist 2\n",
    "     - sublist4\n",
    "- list 2\n",
    "\n",
    "* Bullet 1\n",
    "* Bullet 2\n",
    "  * Bullet 2a\n",
    "  * Bullet 2b\n",
    "* Bullet 3\n",
    "\n",
    "1. Baked potato\n",
    "2. Baked beans\n",
    "3. Pepper"
   ]
  },
  {
   "cell_type": "markdown",
   "metadata": {},
   "source": [
    "### Table\n",
    "\n",
    "|Header|Header|Header|Header|\n",
    "|------|------|------|------|\n",
    "|Cell  |Cell  |Cell  | Cell |\n",
    "|Cell  |Cell  |Cell  | Cell |\n",
    "|Cell  |Cell  |Cell  | Cell |\n",
    "|Cell  |Cell  |Cell  | Cell |"
   ]
  },
  {
   "cell_type": "markdown",
   "metadata": {},
   "source": [
    "### Hyperlinks\n",
    "\n",
    "[click this link](http://en.wikipedia.org)"
   ]
  },
  {
   "cell_type": "markdown",
   "metadata": {},
   "source": [
    "### Styles\n",
    "\n",
    "*Italics*\n",
    "\n",
    "**Bold**"
   ]
  },
  {
   "cell_type": "markdown",
   "metadata": {},
   "source": [
    "### LaTex Math\n",
    "\n",
    "$z=\\dfrac{2x}{3y}$\n",
    "\n",
    "$F(k) = \\int_{-\\infty}^{\\infty} f(x) e^{2\\pi i k} dx$\n",
    "\n",
    "$2x+3y=z$"
   ]
  },
  {
   "cell_type": "markdown",
   "metadata": {},
   "source": [
    "### Bibliographic Support\n",
    "\n",
    "\n",
    "\n",
    "@book{wellfarecut,\n",
    "    title = {Our Greatest Threat: The Rise of Anti-Wellfare Politics in Calico in the 21st Century},\n",
    "    author = {Jacob, Bernadette},\n",
    "    year = {2010},\n",
    "    publisher = {Jupyter University Press}\n",
    "}\n",
    "                  \n",
    "@article{militaryex2,\n",
    "    title = {Rethinking Calican Military Expansion for the New Century},\n",
    "    author = {Collier, Brian F.},\n",
    "    journal = {Modern Politics},\n",
    "    volume = {60},\n",
    "    issue = {25},\n",
    "    pages = {35 - 70},\n",
    "    year = {2012} \n",
    "}"
   ]
  },
  {
   "cell_type": "markdown",
   "metadata": {},
   "source": [
    "### Images\n",
    "<img align=\"left\" style=\"width: 350px;\" src=\"figures/logo.png\"/>"
   ]
  },
  {
   "cell_type": "markdown",
   "metadata": {},
   "source": [
    "### embedding web site"
   ]
  },
  {
   "cell_type": "code",
   "execution_count": 1,
   "metadata": {
    "collapsed": false
   },
   "outputs": [
    {
     "data": {
      "text/html": [
       "<iframe src=http://www.unibo.it width=900 height=500></iframe>"
      ],
      "text/plain": [
       "<IPython.core.display.HTML object>"
      ]
     },
     "execution_count": 1,
     "metadata": {},
     "output_type": "execute_result"
    }
   ],
   "source": [
    "import IPython\n",
    "url = 'http://www.unibo.it'\n",
    "iframe = '<iframe src=' + url + ' width=900 height=500></iframe>'\n",
    "IPython.display.HTML(iframe)"
   ]
  },
  {
   "cell_type": "markdown",
   "metadata": {},
   "source": [
    "### insert code example as text\n",
    "include a complete code-block inside a Markdown cell, use triple backquotes.\n",
    "\n",
    "```python\n",
    "def function(n):\n",
    "    return n + 1\n",
    "```"
   ]
  },
  {
   "cell_type": "markdown",
   "metadata": {
    "collapsed": true,
    "nbpresent": {
     "id": "e46f114f-b44b-4413-a2fc-f7d2ee494bb9"
    }
   },
   "source": [
    "## 1.5 Magic Commands\n",
    "\n",
    "There are some predefined ‘magic functions’ that will make your work a lot more interactive.\n",
    "This commands are prefixed by the % character. "
   ]
  },
  {
   "cell_type": "code",
   "execution_count": 25,
   "metadata": {
    "collapsed": false,
    "scrolled": true
   },
   "outputs": [
    {
     "data": {
      "application/json": {
       "cell": {
        "!": "OSMagics",
        "HTML": "Other",
        "SVG": "Other",
        "bash": "Other",
        "capture": "ExecutionMagics",
        "debug": "ExecutionMagics",
        "file": "Other",
        "html": "DisplayMagics",
        "javascript": "DisplayMagics",
        "js": "DisplayMagics",
        "latex": "DisplayMagics",
        "perl": "Other",
        "prun": "ExecutionMagics",
        "pypy": "Other",
        "python": "Other",
        "python2": "Other",
        "python3": "Other",
        "ruby": "Other",
        "script": "ScriptMagics",
        "sh": "Other",
        "svg": "DisplayMagics",
        "sx": "OSMagics",
        "system": "OSMagics",
        "time": "ExecutionMagics",
        "timeit": "ExecutionMagics",
        "writefile": "OSMagics"
       },
       "line": {
        "alias": "OSMagics",
        "alias_magic": "BasicMagics",
        "autocall": "AutoMagics",
        "automagic": "AutoMagics",
        "autosave": "KernelMagics",
        "bookmark": "OSMagics",
        "cat": "Other",
        "cd": "OSMagics",
        "clear": "KernelMagics",
        "colors": "BasicMagics",
        "config": "ConfigMagics",
        "connect_info": "KernelMagics",
        "cp": "Other",
        "debug": "ExecutionMagics",
        "dhist": "OSMagics",
        "dirs": "OSMagics",
        "doctest_mode": "BasicMagics",
        "ed": "Other",
        "edit": "KernelMagics",
        "env": "OSMagics",
        "gui": "BasicMagics",
        "hist": "Other",
        "history": "HistoryMagics",
        "killbgscripts": "ScriptMagics",
        "ldir": "Other",
        "less": "KernelMagics",
        "lf": "Other",
        "lk": "Other",
        "ll": "Other",
        "load": "CodeMagics",
        "load_ext": "ExtensionMagics",
        "loadpy": "CodeMagics",
        "logoff": "LoggingMagics",
        "logon": "LoggingMagics",
        "logstart": "LoggingMagics",
        "logstate": "LoggingMagics",
        "logstop": "LoggingMagics",
        "ls": "Other",
        "lsmagic": "BasicMagics",
        "lx": "Other",
        "macro": "ExecutionMagics",
        "magic": "BasicMagics",
        "man": "KernelMagics",
        "matplotlib": "PylabMagics",
        "mkdir": "Other",
        "more": "KernelMagics",
        "mv": "Other",
        "notebook": "BasicMagics",
        "page": "BasicMagics",
        "pastebin": "CodeMagics",
        "pdb": "ExecutionMagics",
        "pdef": "NamespaceMagics",
        "pdoc": "NamespaceMagics",
        "pfile": "NamespaceMagics",
        "pinfo": "NamespaceMagics",
        "pinfo2": "NamespaceMagics",
        "popd": "OSMagics",
        "pprint": "BasicMagics",
        "precision": "BasicMagics",
        "profile": "BasicMagics",
        "prun": "ExecutionMagics",
        "psearch": "NamespaceMagics",
        "psource": "NamespaceMagics",
        "pushd": "OSMagics",
        "pwd": "OSMagics",
        "pycat": "OSMagics",
        "pylab": "PylabMagics",
        "qtconsole": "KernelMagics",
        "quickref": "BasicMagics",
        "recall": "HistoryMagics",
        "rehashx": "OSMagics",
        "reload_ext": "ExtensionMagics",
        "rep": "Other",
        "rerun": "HistoryMagics",
        "reset": "NamespaceMagics",
        "reset_selective": "NamespaceMagics",
        "rm": "Other",
        "rmdir": "Other",
        "run": "ExecutionMagics",
        "save": "CodeMagics",
        "sc": "OSMagics",
        "set_env": "OSMagics",
        "store": "StoreMagics",
        "sx": "OSMagics",
        "system": "OSMagics",
        "tb": "ExecutionMagics",
        "time": "ExecutionMagics",
        "timeit": "ExecutionMagics",
        "unalias": "OSMagics",
        "unload_ext": "ExtensionMagics",
        "who": "NamespaceMagics",
        "who_ls": "NamespaceMagics",
        "whos": "NamespaceMagics",
        "xdel": "NamespaceMagics",
        "xmode": "BasicMagics"
       }
      },
      "text/plain": [
       "Available line magics:\n",
       "%alias  %alias_magic  %autocall  %automagic  %autosave  %bookmark  %cat  %cd  %clear  %colors  %config  %connect_info  %cp  %debug  %dhist  %dirs  %doctest_mode  %ed  %edit  %env  %gui  %hist  %history  %killbgscripts  %ldir  %less  %lf  %lk  %ll  %load  %load_ext  %loadpy  %logoff  %logon  %logstart  %logstate  %logstop  %ls  %lsmagic  %lx  %macro  %magic  %man  %matplotlib  %mkdir  %more  %mv  %notebook  %page  %pastebin  %pdb  %pdef  %pdoc  %pfile  %pinfo  %pinfo2  %popd  %pprint  %precision  %profile  %prun  %psearch  %psource  %pushd  %pwd  %pycat  %pylab  %qtconsole  %quickref  %recall  %rehashx  %reload_ext  %rep  %rerun  %reset  %reset_selective  %rm  %rmdir  %run  %save  %sc  %set_env  %store  %sx  %system  %tb  %time  %timeit  %unalias  %unload_ext  %who  %who_ls  %whos  %xdel  %xmode\n",
       "\n",
       "Available cell magics:\n",
       "%%!  %%HTML  %%SVG  %%bash  %%capture  %%debug  %%file  %%html  %%javascript  %%js  %%latex  %%perl  %%prun  %%pypy  %%python  %%python2  %%python3  %%ruby  %%script  %%sh  %%svg  %%sx  %%system  %%time  %%timeit  %%writefile\n",
       "\n",
       "Automagic is ON, % prefix IS NOT needed for line magics."
      ]
     },
     "execution_count": 25,
     "metadata": {},
     "output_type": "execute_result"
    }
   ],
   "source": [
    "%lsmagic"
   ]
  },
  {
   "cell_type": "code",
   "execution_count": 26,
   "metadata": {
    "collapsed": false
   },
   "outputs": [
    {
     "name": "stdout",
     "output_type": "stream",
     "text": [
      "CPU times: user 4 µs, sys: 0 ns, total: 4 µs\n",
      "Wall time: 10 µs\n"
     ]
    }
   ],
   "source": [
    "%time x = range(100)"
   ]
  },
  {
   "cell_type": "code",
   "execution_count": 27,
   "metadata": {
    "collapsed": false
   },
   "outputs": [
    {
     "name": "stdout",
     "output_type": "stream",
     "text": [
      "100 loops, best of 3: 1.92 ms per loop\n"
     ]
    }
   ],
   "source": [
    "%%timeit x = range(100000)\n",
    "    max(x)\n"
   ]
  },
  {
   "cell_type": "code",
   "execution_count": 9,
   "metadata": {
    "collapsed": false
   },
   "outputs": [
    {
     "name": "stderr",
     "output_type": "stream",
     "text": [
      "//anaconda/lib/python2.7/site-packages/matplotlib/font_manager.py:273: UserWarning: Matplotlib is building the font cache using fc-list. This may take a moment.\n",
      "  warnings.warn('Matplotlib is building the font cache using fc-list. This may take a moment.')\n"
     ]
    }
   ],
   "source": [
    "% matplotlib inline "
   ]
  },
  {
   "cell_type": "code",
   "execution_count": 28,
   "metadata": {
    "collapsed": false
   },
   "outputs": [
    {
     "data": {
      "text/html": [
       "<img src=\"https://system-risk.eu/sites/system-risk.eu/files/banner_system_risk_1.jpg\" width=\"1100\" height=\"300\" alt=\"\">"
      ],
      "text/plain": [
       "<IPython.core.display.HTML object>"
      ]
     },
     "metadata": {},
     "output_type": "display_data"
    }
   ],
   "source": [
    "%%HTML\n",
    "<img src=\"https://system-risk.eu/sites/system-risk.eu/files/banner_system_risk_1.jpg\" width=\"1100\" height=\"300\" alt=\"\">"
   ]
  },
  {
   "cell_type": "markdown",
   "metadata": {},
   "source": [
    "## 1.6 Help  Commands"
   ]
  },
  {
   "cell_type": "code",
   "execution_count": 10,
   "metadata": {
    "collapsed": true
   },
   "outputs": [],
   "source": [
    "?%matplotlib"
   ]
  },
  {
   "cell_type": "markdown",
   "metadata": {},
   "source": [
    "## 1.7 Executing Shell Commands inside Jupyter\n"
   ]
  },
  {
   "cell_type": "code",
   "execution_count": 29,
   "metadata": {
    "collapsed": false
   },
   "outputs": [
    {
     "name": "stdout",
     "output_type": "stream",
     "text": [
      "\u001b[31m0_Geoprocessing_Python_SYSTEM-RISK-ETN_intro.ipynb\u001b[m\u001b[m\r\n",
      "\u001b[31m1_Jupyter_Anaconda.ipynb\u001b[m\u001b[m\r\n",
      "\u001b[31m2_GIS_Introduction.ipynb\u001b[m\u001b[m\r\n",
      "\u001b[31m3_Python_intro.ipynb\u001b[m\u001b[m\r\n",
      "\u001b[31m4_Numpy_intro.ipynb\u001b[m\u001b[m\r\n",
      "\u001b[31m5_Geoprocessing_Python_GDAL.ipynb\u001b[m\u001b[m\r\n",
      "\u001b[31m6_Hazard_Mapping_Python_GDAL.ipynb\u001b[m\u001b[m\r\n",
      "\u001b[31m7_Risk_Mapping Python_GDAL.ipynb\u001b[m\u001b[m\r\n",
      "Classification of Potential Water Bodies Using Landsat 8 OLI and a Combination of Two Boosted Random Forest Classifiers.htm\r\n",
      "\u001b[34mClassification of Potential Water Bodies Using Landsat 8 OLI and a Combination of Two Boosted Random Forest Classifiers_files\u001b[m\u001b[m\r\n",
      "Icon?\r\n",
      "\u001b[31mIndex.ipynb\u001b[m\u001b[m\r\n",
      "\u001b[34mdata\u001b[m\u001b[m\r\n",
      "\u001b[34mfigures\u001b[m\u001b[m\r\n",
      "geoprocessingOS.zip\r\n",
      "\u001b[34mslide\u001b[m\u001b[m\r\n"
     ]
    }
   ],
   "source": [
    "!ls"
   ]
  },
  {
   "cell_type": "markdown",
   "metadata": {},
   "source": [
    "## 1.8 Share Your Jupyter Notebooks\n",
    "\n",
    "In practice, you might want to share your notebooks with colleagues or friends to show them what you have been up to or as a data science portfolio for future employers. \n",
    "\n",
    "However, the notebook documents are **JSON (java script object notation) documents** that contain text, source code, rich media output, and metadata. Each segment of the document is stored in a cell.\n",
    "\n",
    "Ideally, you don't want to go around and share JSON files. \n",
    "\n",
    "That's why you want to find and use other ways to share your notebook documents with others.\n",
    "\n",
    "When you create a notebook, you will see a button in the menu bar that says \"File\". \n",
    "\n",
    "- When you click this, you see that Jupyter gives you the option to download your notebook as an HTML, PDF, Markdown or reStructuredText, or a Python script or a Notebook file.\n",
    "\n",
    "- You can use the nbconvert command to convert your notebook document file to another static format, such as HTML, PDF, LaTex, Markdown, reStructuredText, ... But don't forget to import nbconvert first if you don't have it yet! \n",
    "\n",
    "- You can upload your notebooks in GitHub and then share them throught nbviewer\n",
    "\n",
    "https://github.com/stebubu/GeoprocesssingOS\n"
   ]
  },
  {
   "cell_type": "code",
   "execution_count": 11,
   "metadata": {
    "collapsed": false
   },
   "outputs": [
    {
     "data": {
      "text/html": [
       "<iframe src=http://nbviewer.jupyter.org/ width=900 height=500></iframe>"
      ],
      "text/plain": [
       "<IPython.core.display.HTML object>"
      ]
     },
     "execution_count": 11,
     "metadata": {},
     "output_type": "execute_result"
    }
   ],
   "source": [
    "import IPython\n",
    "url = 'http://nbviewer.jupyter.org/'\n",
    "iframe = '<iframe src=' + url + ' width=900 height=500></iframe>'\n",
    "IPython.display.HTML(iframe)"
   ]
  },
  {
   "cell_type": "markdown",
   "metadata": {},
   "source": [
    "## 1.9 Turning Your Jupyter Notebook into a Slideshow\n",
    "\n",
    "[please have a look here] (http://www.damian.oquanta.info/posts/make-your-slides-with-ipython.html)\n",
    "\n",
    "## 1.10 More IPython Resources\n",
    "\n",
    "In this chapter, we've just scratched the surface of using IPython to enable data science tasks.\n",
    "Much more information is available both in print and on the Web, and here we'll list some other resources that you may find helpful.\n",
    "\n",
    "### Web Resources\n",
    "- https://www.datacamp.com/community/tutorials/tutorial-jupyter-notebook#gs.ML_09io\n",
    "- [The IPython website](http://ipython.org): The IPython website links to documentation, examples, tutorials, and a variety of other resources.\n",
    "- [The nbviewer website](http://nbviewer.jupyter.org/): This site shows static renderings of any IPython notebook available on the internet. The front page features some example notebooks that you can browse to see what other folks are using IPython for!\n",
    "- [A Gallery of Interesting IPython Notebooks](http://github.com/ipython/ipython/wiki/A-gallery-of-interesting-IPython-Notebooks/): This ever-growing list of notebooks, powered by nbviewer, shows the depth and breadth of numerical analysis you can do with IPython. It includes everything from short examples and tutorials to full-blown courses and books composed in the notebook format!\n",
    "- Video Tutorials: searching the Internet, you will find many video-recorded tutorials on IPython. I'd especially recommend seeking tutorials from the PyCon, SciPy, and PyData conferenes by Fernando Perez and Brian Granger, two of the primary creators and maintainers of IPython and Jupyter.\n",
    "\n",
    "### Books\n",
    "\n",
    "- [*Python for Data Analysis*](http://shop.oreilly.com/product/0636920023784.do): Wes McKinney's book includes a chapter that covers using IPython as a data scientist. Although much of the material overlaps what we've discussed here, another perspective is always helpful.\n",
    "- [*Learning IPython for Interactive Computing and Data Visualization*](https://www.packtpub.com/big-data-and-business-intelligence/learning-ipython-interactive-computing-and-data-visualization): This short book by Cyrille Rossant offers a good introduction to using IPython for data analysis.\n",
    "- [*IPython Interactive Computing and Visualization Cookbook*](https://www.packtpub.com/big-data-and-business-intelligence/ipython-interactive-computing-and-visualization-cookbook): Also by Cyrille Rossant, this book is a longer and more advanced treatment of using IPython for data science. Despite its name, it's not just about IPython–it also goes into some depth on a broad range of data science topics.\n",
    "\n",
    "Finally, a reminder that you can find help on your own: IPython's ``?``-based help functionality (discussed in [Help and Documentation in IPython](01.01-Help-And-Documentation.ipynb)) can be very useful if you use it well and use it often.\n",
    "As you go through the examples here and elsewhere, this can be used to familiarize yourself with all the tools that IPython has to offer."
   ]
  },
  {
   "cell_type": "markdown",
   "metadata": {},
   "source": [
    "## 1.11  Notebook gallery\n",
    "\n",
    "[Notebook Gallery](http://nb.bianp.net/)"
   ]
  },
  {
   "cell_type": "code",
   "execution_count": 11,
   "metadata": {
    "collapsed": false
   },
   "outputs": [
    {
     "data": {
      "text/html": [
       "<iframe src=http://nbviewer.jupyter.org/github/davidbrochart/ipynb/blob/master/gross/gross_1.ipynb width=900 height=500></iframe>"
      ],
      "text/plain": [
       "<IPython.core.display.HTML object>"
      ]
     },
     "execution_count": 11,
     "metadata": {},
     "output_type": "execute_result"
    }
   ],
   "source": [
    "import IPython\n",
    "url = 'http://nbviewer.jupyter.org/github/davidbrochart/ipynb/blob/master/gross/gross_1.ipynb'\n",
    "iframe = '<iframe src=' + url + ' width=900 height=500></iframe>'\n",
    "IPython.display.HTML(iframe)"
   ]
  },
  {
   "cell_type": "code",
   "execution_count": 12,
   "metadata": {
    "collapsed": false,
    "scrolled": true
   },
   "outputs": [
    {
     "data": {
      "text/html": [
       "<iframe src=http://nbviewer.jupyter.org/github/ehmatthes/intro_programming/blob/master/notebooks/visualization_earthquakes.ipynb width=900 height=500></iframe>"
      ],
      "text/plain": [
       "<IPython.core.display.HTML object>"
      ]
     },
     "execution_count": 12,
     "metadata": {},
     "output_type": "execute_result"
    }
   ],
   "source": [
    "import IPython\n",
    "url = 'http://nbviewer.jupyter.org/github/ehmatthes/intro_programming/blob/master/notebooks/visualization_earthquakes.ipynb'\n",
    "iframe = '<iframe src=' + url + ' width=900 height=500></iframe>'\n",
    "IPython.display.HTML(iframe)"
   ]
  },
  {
   "cell_type": "markdown",
   "metadata": {},
   "source": [
    "<!--NAVIGATION-->\n",
    "< [1_Jupyter_Anaconda](1_Jupyter_Anaconda.ipynb) | [Contents](Index.ipynb) | [2-GIS - Introduction](2_GIS_Introduction.ipynb) >"
   ]
  }
 ],
 "metadata": {
  "anaconda-cloud": {
   "attach-environment": false,
   "environment": null,
   "summary": "System_Risk_GIS_FloodRisk_Python",
   "url": "https://anaconda.org/gecosistema/tutorial_dem_flooding"
  },
  "kernelspec": {
   "display_name": "Python [default]",
   "language": "python",
   "name": "python2"
  },
  "language_info": {
   "codemirror_mode": {
    "name": "ipython",
    "version": 2
   },
   "file_extension": ".py",
   "mimetype": "text/x-python",
   "name": "python",
   "nbconvert_exporter": "python",
   "pygments_lexer": "ipython2",
   "version": "2.7.12"
  },
  "nbpresent": {
   "slides": {
    "02846c44-38f9-4aef-ab37-8352ebc70511": {
     "id": "02846c44-38f9-4aef-ab37-8352ebc70511",
     "prev": "71b5d3d6-77a7-4745-885f-ffc1420d2665",
     "regions": {
      "e9303037-dc9c-4738-9a7f-ec376dc34ebd": {
       "attrs": {
        "height": 0.8,
        "width": 0.8,
        "x": 0.1,
        "y": 0.1
       },
       "content": {
        "cell": "08ed20e8-3a1e-4bfd-9bcc-194f5ea0b39a",
        "part": "whole"
       },
       "id": "e9303037-dc9c-4738-9a7f-ec376dc34ebd"
      }
     }
    },
    "060cbb0a-6be3-413b-b02d-fb39c6da0328": {
     "id": "060cbb0a-6be3-413b-b02d-fb39c6da0328",
     "prev": "5baef3ad-9342-45cb-be10-e49f5003c9d7",
     "regions": {
      "1b8534db-67d4-4e24-b3f8-4383a60de997": {
       "attrs": {
        "height": 0.8,
        "width": 0.8,
        "x": 0.1,
        "y": 0.1
       },
       "content": {
        "cell": "f81f9570-d4c4-4e2f-8a57-3881a4881b69",
        "part": "whole"
       },
       "id": "1b8534db-67d4-4e24-b3f8-4383a60de997"
      }
     }
    },
    "129f00a1-0146-4c50-8667-b07c5b2d0eeb": {
     "id": "129f00a1-0146-4c50-8667-b07c5b2d0eeb",
     "prev": "614538c9-99cd-42b3-b2c7-4e1ab0d4e7ce",
     "regions": {
      "ea63d8f6-c8ed-4b98-8c70-371f43ec89d9": {
       "attrs": {
        "height": 0.8,
        "width": 0.8,
        "x": 0.1,
        "y": 0.1
       },
       "content": {
        "cell": "dda7b0e7-4c44-4482-b791-23e93bedc4e8",
        "part": "whole"
       },
       "id": "ea63d8f6-c8ed-4b98-8c70-371f43ec89d9"
      }
     }
    },
    "24f3d903-07b4-46ad-8605-a30cc72864e8": {
     "id": "24f3d903-07b4-46ad-8605-a30cc72864e8",
     "prev": "389b4d70-b739-4d1a-8523-020ec1e069fd",
     "regions": {
      "93aaa554-dacc-471c-bbe8-b4aaac1e9872": {
       "attrs": {
        "height": 0.8,
        "width": 0.8,
        "x": 0.1,
        "y": 0.1
       },
       "content": {
        "cell": "a7945d9e-1ec9-49ad-97ea-03775d0db6ee",
        "part": "whole"
       },
       "id": "93aaa554-dacc-471c-bbe8-b4aaac1e9872"
      }
     }
    },
    "37b2a110-105d-4f03-8287-7b63a4923211": {
     "id": "37b2a110-105d-4f03-8287-7b63a4923211",
     "prev": "72a469c8-a471-4290-88de-7df3b22d42b0",
     "regions": {
      "a515c1f8-f153-41b5-8716-f22bf5005736": {
       "attrs": {
        "height": 0.8,
        "width": 0.8,
        "x": 0.1,
        "y": 0.1
       },
       "content": {
        "cell": "bbff907a-fe14-488d-b817-7818d01c8fed",
        "part": "whole"
       },
       "id": "a515c1f8-f153-41b5-8716-f22bf5005736"
      }
     }
    },
    "389b4d70-b739-4d1a-8523-020ec1e069fd": {
     "id": "389b4d70-b739-4d1a-8523-020ec1e069fd",
     "prev": "f3ed960f-5e66-4af9-b6db-7185e26ca908",
     "regions": {
      "aa3c9f93-5315-4267-a6d8-09e0ad39f5fc": {
       "attrs": {
        "height": 0.8,
        "width": 0.8,
        "x": 0.1,
        "y": 0.1
       },
       "content": {
        "cell": "2134dfb5-7454-4a64-8403-776934ebc23c",
        "part": "whole"
       },
       "id": "aa3c9f93-5315-4267-a6d8-09e0ad39f5fc"
      }
     }
    },
    "3d7f49bd-2657-4c4f-96db-4cda796a8940": {
     "id": "3d7f49bd-2657-4c4f-96db-4cda796a8940",
     "prev": "d28c9aad-45cd-4227-87ba-c966f9f7f892",
     "regions": {
      "f3c0d25c-5cda-43c3-b303-283279bd5d97": {
       "attrs": {
        "height": 0.8,
        "width": 0.8,
        "x": 0.1,
        "y": 0.1
       },
       "content": {
        "cell": "af6bdd26-055a-4f38-974c-90f6412bffdd",
        "part": "whole"
       },
       "id": "f3c0d25c-5cda-43c3-b303-283279bd5d97"
      }
     }
    },
    "5baef3ad-9342-45cb-be10-e49f5003c9d7": {
     "id": "5baef3ad-9342-45cb-be10-e49f5003c9d7",
     "prev": "e2b96bf4-ca5e-4cab-9f6c-88e974a66483",
     "regions": {
      "358e9f2a-97d5-4bbb-a5b0-b3fd0f714f62": {
       "attrs": {
        "height": 0.8,
        "width": 0.8,
        "x": 0.1,
        "y": 0.1
       },
       "content": {
        "cell": "ba961c1e-399a-4ff4-ab93-edb98666e243",
        "part": "whole"
       },
       "id": "358e9f2a-97d5-4bbb-a5b0-b3fd0f714f62"
      }
     }
    },
    "614538c9-99cd-42b3-b2c7-4e1ab0d4e7ce": {
     "id": "614538c9-99cd-42b3-b2c7-4e1ab0d4e7ce",
     "prev": "060cbb0a-6be3-413b-b02d-fb39c6da0328",
     "regions": {
      "10376570-99ad-47b9-910e-39f06583aa56": {
       "attrs": {
        "height": 0.8,
        "width": 0.8,
        "x": 0.1,
        "y": 0.1
       },
       "content": {
        "cell": "45e1366d-17c9-4927-bd4e-dc10b1085f44",
        "part": "whole"
       },
       "id": "10376570-99ad-47b9-910e-39f06583aa56"
      }
     }
    },
    "6203f2ae-d39f-423c-9237-df931af8bbca": {
     "id": "6203f2ae-d39f-423c-9237-df931af8bbca",
     "prev": "02846c44-38f9-4aef-ab37-8352ebc70511",
     "regions": {
      "91ccc09e-a852-4640-aa24-4e5c46f70ca3": {
       "attrs": {
        "height": 0.8,
        "width": 0.8,
        "x": 0.1,
        "y": 0.1
       },
       "content": {
        "cell": "eedc1df0-6c2e-428b-b1d6-f44bc0b0915c",
        "part": "whole"
       },
       "id": "91ccc09e-a852-4640-aa24-4e5c46f70ca3"
      }
     }
    },
    "71b5d3d6-77a7-4745-885f-ffc1420d2665": {
     "id": "71b5d3d6-77a7-4745-885f-ffc1420d2665",
     "prev": "af5e62de-6c34-4373-80ad-3d8691e42601",
     "regions": {
      "a73abf97-80cb-4861-8764-6813e587fa8d": {
       "attrs": {
        "height": 0.8,
        "width": 0.8,
        "x": 0.1,
        "y": 0.1
       },
       "content": {
        "cell": "32c9d0a9-ede4-40c3-b476-cac60d4c74ea",
        "part": "whole"
       },
       "id": "a73abf97-80cb-4861-8764-6813e587fa8d"
      }
     }
    },
    "72a469c8-a471-4290-88de-7df3b22d42b0": {
     "id": "72a469c8-a471-4290-88de-7df3b22d42b0",
     "prev": "6203f2ae-d39f-423c-9237-df931af8bbca",
     "regions": {
      "949cad9e-c468-4c9a-8d68-d633306c8f1a": {
       "attrs": {
        "height": 0.8,
        "width": 0.8,
        "x": 0.1,
        "y": 0.1
       },
       "content": {
        "cell": "ed7bdc7b-69ca-4774-b611-3248d21207f8",
        "part": "whole"
       },
       "id": "949cad9e-c468-4c9a-8d68-d633306c8f1a"
      }
     }
    },
    "7c2d2c6f-bd5a-4e85-911c-d1d708d28996": {
     "id": "7c2d2c6f-bd5a-4e85-911c-d1d708d28996",
     "prev": "3d7f49bd-2657-4c4f-96db-4cda796a8940",
     "regions": {
      "6e8b1ba0-4060-405e-a381-8f92630b8994": {
       "attrs": {
        "height": 0.8,
        "width": 0.8,
        "x": 0.1,
        "y": 0.1
       },
       "content": {
        "cell": "94a55052-1f09-4653-8d97-13691f89a5af",
        "part": "whole"
       },
       "id": "6e8b1ba0-4060-405e-a381-8f92630b8994"
      }
     }
    },
    "7d30fcfb-383a-4847-bd2a-52ed6304014e": {
     "id": "7d30fcfb-383a-4847-bd2a-52ed6304014e",
     "prev": "e24ad135-a3f7-46fe-b7fc-409bb89883e0",
     "regions": {
      "df410d6a-f9b1-4fef-8c22-8966240692a9": {
       "attrs": {
        "height": 0.8,
        "width": 0.8,
        "x": 0.1,
        "y": 0.1
       },
       "content": {
        "cell": "0c3e6324-872f-47b3-8a71-d6d69b35cbd7",
        "part": "whole"
       },
       "id": "df410d6a-f9b1-4fef-8c22-8966240692a9"
      }
     }
    },
    "85b24560-6b9a-4f3c-81bd-74b4f32df13a": {
     "id": "85b24560-6b9a-4f3c-81bd-74b4f32df13a",
     "prev": "eca5a0f2-9008-4092-bdd9-3191d5576458",
     "regions": {
      "d641820e-299e-4262-bb88-51e3036a823f": {
       "attrs": {
        "height": 0.8,
        "width": 0.8,
        "x": 0.1,
        "y": 0.1
       },
       "content": {
        "cell": "95869fba-1118-41e7-96a2-991e5c5a756a",
        "part": "whole"
       },
       "id": "d641820e-299e-4262-bb88-51e3036a823f"
      }
     }
    },
    "869d44bd-c99d-41f4-a284-d6ad6c3bbe4e": {
     "id": "869d44bd-c99d-41f4-a284-d6ad6c3bbe4e",
     "prev": "e9b66c21-dd23-48c2-9a3f-33fe494cefec",
     "regions": {
      "e55c411f-cb42-4dea-a485-50f361151b48": {
       "attrs": {
        "height": 0.8,
        "width": 0.8,
        "x": 0.1,
        "y": 0.1
       },
       "content": {
        "cell": "db87eb7a-bcfb-4f47-b2a7-31fec2ab8b7c",
        "part": "whole"
       },
       "id": "e55c411f-cb42-4dea-a485-50f361151b48"
      }
     }
    },
    "86ee40b8-3a7c-44d5-bdc8-6b4ab40da55b": {
     "id": "86ee40b8-3a7c-44d5-bdc8-6b4ab40da55b",
     "prev": "8920fe11-3ca1-47a5-abd4-02c2f5c6edd5",
     "regions": {
      "f95b9e1f-fc6e-4fc4-8861-777955515c41": {
       "attrs": {
        "height": 0.8,
        "width": 0.8,
        "x": 0.1,
        "y": 0.1
       },
       "content": {
        "cell": "f8957239-9b2b-417a-bb07-b8751138d10b",
        "part": "whole"
       },
       "id": "f95b9e1f-fc6e-4fc4-8861-777955515c41"
      }
     }
    },
    "8920fe11-3ca1-47a5-abd4-02c2f5c6edd5": {
     "id": "8920fe11-3ca1-47a5-abd4-02c2f5c6edd5",
     "prev": "869d44bd-c99d-41f4-a284-d6ad6c3bbe4e",
     "regions": {
      "07fa0bcb-52cf-4521-bfad-92fcdc5b7b90": {
       "attrs": {
        "height": 0.8,
        "width": 0.8,
        "x": 0.1,
        "y": 0.1
       },
       "content": {
        "cell": "51a0feff-4025-48e4-a45c-9c9b3a30da9c",
        "part": "whole"
       },
       "id": "07fa0bcb-52cf-4521-bfad-92fcdc5b7b90"
      }
     }
    },
    "af5e62de-6c34-4373-80ad-3d8691e42601": {
     "id": "af5e62de-6c34-4373-80ad-3d8691e42601",
     "prev": "7d30fcfb-383a-4847-bd2a-52ed6304014e",
     "regions": {
      "92e73601-62ca-468b-83f8-96fbc6505136": {
       "attrs": {
        "height": 0.8,
        "width": 0.8,
        "x": 0.1,
        "y": 0.1
       },
       "content": {
        "cell": "a1de97fa-11cc-45a5-8b48-0c26135390c2",
        "part": "whole"
       },
       "id": "92e73601-62ca-468b-83f8-96fbc6505136"
      }
     }
    },
    "b710730a-bcb2-40ce-b7a7-c0c89d3f3570": {
     "id": "b710730a-bcb2-40ce-b7a7-c0c89d3f3570",
     "prev": "7c2d2c6f-bd5a-4e85-911c-d1d708d28996",
     "regions": {
      "f28cfeef-dac1-40aa-a5ae-f80e3e06c1c2": {
       "attrs": {
        "height": 0.8,
        "width": 0.8,
        "x": 0.1,
        "y": 0.1
       },
       "content": {
        "cell": "e83c912e-aa12-49d4-ab61-acef128249f3",
        "part": "whole"
       },
       "id": "f28cfeef-dac1-40aa-a5ae-f80e3e06c1c2"
      }
     }
    },
    "b9811710-7832-41cf-a160-0cda733e8fe0": {
     "id": "b9811710-7832-41cf-a160-0cda733e8fe0",
     "prev": "86ee40b8-3a7c-44d5-bdc8-6b4ab40da55b",
     "regions": {
      "9846698b-693e-4e66-bc97-169dc99dac83": {
       "attrs": {
        "height": 0.8,
        "width": 0.8,
        "x": 0.1,
        "y": 0.1
       },
       "content": {
        "cell": "e84ec698-bb2f-455b-9a68-31dd3af64a3f",
        "part": "whole"
       },
       "id": "9846698b-693e-4e66-bc97-169dc99dac83"
      }
     }
    },
    "d28c9aad-45cd-4227-87ba-c966f9f7f892": {
     "id": "d28c9aad-45cd-4227-87ba-c966f9f7f892",
     "prev": "129f00a1-0146-4c50-8667-b07c5b2d0eeb",
     "regions": {
      "9d9dcd59-8531-475f-ba42-74cf48f9d3be": {
       "attrs": {
        "height": 0.8,
        "width": 0.8,
        "x": 0.1,
        "y": 0.1
       },
       "content": {
        "cell": "dd1fec34-ffa6-474c-9213-5adb5f106fb5",
        "part": "whole"
       },
       "id": "9d9dcd59-8531-475f-ba42-74cf48f9d3be"
      }
     }
    },
    "dc9683a6-86af-45cc-a2da-0e448e83c976": {
     "id": "dc9683a6-86af-45cc-a2da-0e448e83c976",
     "prev": "37b2a110-105d-4f03-8287-7b63a4923211",
     "regions": {
      "d36030ad-089f-46a2-8129-fd09da697617": {
       "attrs": {
        "height": 0.8,
        "width": 0.8,
        "x": 0.1,
        "y": 0.1
       },
       "content": {
        "cell": "308d21f1-0db4-46f3-b60a-923940edcb0b",
        "part": "whole"
       },
       "id": "d36030ad-089f-46a2-8129-fd09da697617"
      }
     }
    },
    "e24ad135-a3f7-46fe-b7fc-409bb89883e0": {
     "id": "e24ad135-a3f7-46fe-b7fc-409bb89883e0",
     "prev": "b710730a-bcb2-40ce-b7a7-c0c89d3f3570",
     "regions": {
      "d2e48674-006e-426e-b88e-34bc617cd4dc": {
       "attrs": {
        "height": 0.8,
        "width": 0.8,
        "x": 0.1,
        "y": 0.1
       },
       "content": {
        "cell": "3c915b92-276e-4181-a34e-08d6bce4dc6c",
        "part": "whole"
       },
       "id": "d2e48674-006e-426e-b88e-34bc617cd4dc"
      }
     }
    },
    "e2b96bf4-ca5e-4cab-9f6c-88e974a66483": {
     "id": "e2b96bf4-ca5e-4cab-9f6c-88e974a66483",
     "prev": "85b24560-6b9a-4f3c-81bd-74b4f32df13a",
     "regions": {
      "99d3efa5-59fb-4200-bbe7-372e66c756e0": {
       "attrs": {
        "height": 0.8,
        "width": 0.8,
        "x": 0.1,
        "y": 0.1
       },
       "content": {
        "cell": "e46f114f-b44b-4413-a2fc-f7d2ee494bb9",
        "part": "whole"
       },
       "id": "99d3efa5-59fb-4200-bbe7-372e66c756e0"
      }
     }
    },
    "e9b66c21-dd23-48c2-9a3f-33fe494cefec": {
     "id": "e9b66c21-dd23-48c2-9a3f-33fe494cefec",
     "prev": "24f3d903-07b4-46ad-8605-a30cc72864e8",
     "regions": {
      "ca42ff51-ab1f-4b25-9580-71ba5279d373": {
       "attrs": {
        "height": 0.8,
        "width": 0.8,
        "x": 0.1,
        "y": 0.1
       },
       "content": {
        "cell": "0985c53d-b3ee-4788-bab3-f6ae5da14e1a",
        "part": "whole"
       },
       "id": "ca42ff51-ab1f-4b25-9580-71ba5279d373"
      }
     }
    },
    "eca5a0f2-9008-4092-bdd9-3191d5576458": {
     "id": "eca5a0f2-9008-4092-bdd9-3191d5576458",
     "layout": "treemap",
     "prev": null,
     "regions": {
      "74d9e509-ac55-48e6-9c15-08c2d22b2cf8": {
       "attrs": {
        "height": 1,
        "pad": 0.01,
        "treemap:weight": 1,
        "width": 1,
        "x": 0,
        "y": 0
       },
       "content": {
        "cell": "71b9274c-7e14-4f96-a5b6-c5c2ab107d00",
        "part": "whole"
       },
       "id": "74d9e509-ac55-48e6-9c15-08c2d22b2cf8"
      }
     }
    },
    "f3ed960f-5e66-4af9-b6db-7185e26ca908": {
     "id": "f3ed960f-5e66-4af9-b6db-7185e26ca908",
     "prev": "dc9683a6-86af-45cc-a2da-0e448e83c976",
     "regions": {
      "99f485b1-3bc8-4ef2-b047-0894efda0c2f": {
       "attrs": {
        "height": 0.8,
        "width": 0.8,
        "x": 0.1,
        "y": 0.1
       },
       "content": {
        "cell": "13806d54-af83-46e7-9fa6-cd4df7537017",
        "part": "whole"
       },
       "id": "99f485b1-3bc8-4ef2-b047-0894efda0c2f"
      }
     }
    }
   },
   "themes": {
    "default": "1f3a7524-b862-4068-ad65-291ca58720ab",
    "theme": {}
   }
  }
 },
 "nbformat": 4,
 "nbformat_minor": 1
}
